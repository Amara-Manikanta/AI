{
 "cells": [
  {
   "cell_type": "markdown",
   "id": "f509bdaa-7024-4c79-8219-e5889f0a112d",
   "metadata": {},
   "source": [
    "## Spell Corrector"
   ]
  },
  {
   "cell_type": "code",
   "execution_count": 3,
   "id": "8dd4e752-9c9f-4742-92f6-04a7c5d55370",
   "metadata": {},
   "outputs": [],
   "source": [
    "import re\n",
    "from collections import Counter"
   ]
  },
  {
   "cell_type": "code",
   "execution_count": 4,
   "id": "6aadc27e-6498-4f0d-b89a-4fd485890a71",
   "metadata": {},
   "outputs": [],
   "source": [
    "# function to tokenize words\n",
    "def words(document):\n",
    "    \"convert text to lower case and token the document\"\n",
    "    return re.findall(r'\\w+', document.lower())"
   ]
  },
  {
   "cell_type": "code",
   "execution_count": 6,
   "id": "8cc32abb-cfe8-4e41-b41b-dedd94a0d20b",
   "metadata": {},
   "outputs": [],
   "source": [
    "# create a frequency table with all the words of the document\n",
    "all_words=Counter(words(open('big.txt').read()))"
   ]
  },
  {
   "cell_type": "code",
   "execution_count": 7,
   "id": "1655bdc8-5e91-42eb-a9a3-1922bee6f72f",
   "metadata": {},
   "outputs": [
    {
     "name": "stdout",
     "output_type": "stream",
     "text": [
      "1115585\n",
      "32198\n"
     ]
    }
   ],
   "source": [
    "print(len(words(open('big.txt').read())))\n",
    "print(len(all_words))"
   ]
  },
  {
   "cell_type": "code",
   "execution_count": 12,
   "id": "b4553e12-6f78-40a2-b761-8a4e99223723",
   "metadata": {},
   "outputs": [
    {
     "data": {
      "text/plain": [
       "135"
      ]
     },
     "execution_count": 12,
     "metadata": {},
     "output_type": "execute_result"
    }
   ],
   "source": [
    "#check the frequency of a random word  say chair\n",
    "all_words['chair']"
   ]
  },
  {
   "cell_type": "code",
   "execution_count": 14,
   "id": "171e9409-3f29-4d36-8f8d-de66dd10abfe",
   "metadata": {},
   "outputs": [
    {
     "data": {
      "text/plain": [
       "[('the', 79809),\n",
       " ('of', 40024),\n",
       " ('and', 38312),\n",
       " ('to', 28765),\n",
       " ('in', 22023),\n",
       " ('a', 21124),\n",
       " ('that', 12512),\n",
       " ('he', 12401),\n",
       " ('was', 11410),\n",
       " ('it', 10681)]"
      ]
     },
     "execution_count": 14,
     "metadata": {},
     "output_type": "execute_result"
    }
   ],
   "source": [
    "#look at the top 10 frequent words\n",
    "all_words.most_common(10)"
   ]
  },
  {
   "cell_type": "code",
   "execution_count": 16,
   "id": "8bb62804-9eaf-4c7b-8c44-568b697ba57f",
   "metadata": {},
   "outputs": [],
   "source": [
    "def edits_one(word):\n",
    "    \"Create all edits that are one edit away from `word`.\"\n",
    "    alphabets  = 'abcdefghijklmnopqrstuvwxyz'\n",
    "    splits     = [(word[:i],word[i:])                     for i in range(len(word)+1)]                           #[('', 'abc'), ('a', 'bc'), ('ab', 'c'), ('abc', '')]\n",
    "    deletes    = [left + right[1:]                        for left,right in splits if right]                     #['bc', 'ac', 'ab']\n",
    "    inserts    = [left + c+ right                         for left,right in splits for c in alphabets]           #['aabc', 'abac', 'abca']\n",
    "    replaces   = [left + c+ right[1:]                     for left,right in splits  if right for c in alphabets] #['xbc', 'axc', 'abx']\n",
    "    transposes = [left + right[1] + right[0] + right[2:]  for left,right in splits if len(right)>1]              #['bac', 'acb']\n",
    "    return set(deletes + inserts + replaces + transposes )"
   ]
  },
  {
   "cell_type": "code",
   "execution_count": 17,
   "id": "a4b9a258-6302-4dc6-ad06-f2e82956ede1",
   "metadata": {},
   "outputs": [],
   "source": [
    "def edits_two(word):\n",
    "    \"Create all edits that are two edits away from `word`.\"\n",
    "    return (e2 for e1 in edits_one(word) for e2 in edits_one(e1))"
   ]
  },
  {
   "cell_type": "code",
   "execution_count": 18,
   "id": "6ad26eb4-dee6-4799-851e-31bb3d11767d",
   "metadata": {},
   "outputs": [],
   "source": [
    "def known(words):\n",
    "    \"The subset of `words` that appear in the `all_words`.\"\n",
    "    return set(word for word in words if word in all_words)"
   ]
  },
  {
   "cell_type": "code",
   "execution_count": 19,
   "id": "ca11d11a-c680-46c9-9a34-1fcf508f53e8",
   "metadata": {},
   "outputs": [],
   "source": [
    "def possible_corrections(word):\n",
    "    \"Generate possible spelling corrections for word.\"\n",
    "    return (known([word]) or known(edits_one(word)) or known(edits_two(word)) or [word])"
   ]
  },
  {
   "cell_type": "code",
   "execution_count": 20,
   "id": "2f371cfd-02ff-45fb-b946-fc4868b7d411",
   "metadata": {},
   "outputs": [],
   "source": [
    "def prob(word, N=sum(all_words.values())): \n",
    "    \"Probability of `word`: Number of appearances of 'word' / total number of tokens\"\n",
    "    return all_words[word] / N"
   ]
  },
  {
   "cell_type": "code",
   "execution_count": 21,
   "id": "b38ddc98-4dda-4196-99c1-5d8e7c95224a",
   "metadata": {},
   "outputs": [
    {
     "name": "stdout",
     "output_type": "stream",
     "text": [
      "336\n",
      "{'mxonney', 'monneey', 'monnxey', 'mvonney', 'mvnney', 'menney', 'morney', 'moneey', 'monhey', 'monnewy', 'monneyz', 'monnky', 'monniey', 'moynney', 'mrnney', 'lonney', 'monneyp', 'monnxy', 'monneky', 'monnley', 'monneys', 'moxney', 'monnhey', 'monhney', 'mobney', 'mofnney', 'mwonney', 'monaney', 'monvey', 'moqney', 'monned', 'wmonney', 'moinney', 'motnney', 'monnev', 'monneya', 'monneyv', 'monyey', 'monjey', 'mounney', 'monnpey', 'ionney', 'monnqey', 'monrney', 'monwey', 'sonney', 'mmonney', 'mongey', 'mhnney', 'mowney', 'zmonney', 'monxney', 'qonney', 'monnef', 'monnty', 'monnbey', 'bmonney', 'monnzey', 'monneyw', 'moeney', 'moncey', 'mfonney', 'pmonney', 'mjonney', 'monneyn', 'mopnney', 'monnefy', 'monnei', 'mojney', 'mownney', 'mqnney', 'monwney', 'monnen', 'monnly', 'motney', 'monuey', 'monqney', 'amonney', 'mgnney', 'molnney', 'mosnney', 'momnney', 'nonney', 'mobnney', 'imonney', 'myonney', 'onney', 'monndey', 'monntey', 'mooney', 'monnee', 'monneyg', 'monjney', 'moniney', 'monnyy', 'monnedy', 'monnoey', 'mnoney', 'monnoy', 'monaey', 'mxnney', 'monrey', 'monoey', 'hmonney', 'mogney', 'yonney', 'monzney', 'mzonney', 'mnnney', 'moneney', 'minney', 'monnwey', 'monneye', 'oonney', 'montney', 'mpnney', 'mongney', 'zonney', 'monnby', 'smonney', 'jonney', 'monndy', 'mqonney', 'vmonney', 'monneyq', 'mconney', 'monny', 'xmonney', 'monfney', 'mokney', 'monneyj', 'monnjy', 'monnvey', 'monpney', 'munney', 'monuney', 'monnrey', 'monnep', 'monngey', 'monnsey', 'monneq', 'mondey', 'mondney', 'monneo', 'mojnney', 'monley', 'monnek', 'montey', 'monncey', 'mkonney', 'mofney', 'modnney', 'monneyf', 'monneh', 'moanney', 'dmonney', 'moxnney', 'ymonney', 'mocnney', 'monniy', 'mononey', 'monkey', 'monneby', 'monnzy', 'xonney', 'uonney', 'monnez', 'monnely', 'fmonney', 'monnepy', 'monneyb', 'tmonney', 'monnej', 'honney', 'monneyx', 'monneay', 'umonney', 'moaney', 'ponney', 'monnezy', 'mponney', 'monneym', 'msonney', 'monneyd', 'monneoy', 'monxey', 'monbey', 'monnny', 'mynney', 'monne', 'mbonney', 'monneyk', 'mknney', 'monpey', 'monlney', 'maonney', 'monneyc', 'cmonney', 'monnvy', 'monnegy', 'monsey', 'monnkey', 'manney', 'monnety', 'mdonney', 'momney', 'mozney', 'monnfey', 'monnes', 'moznney', 'monneyy', 'mohney', 'mcnney', 'moniey', 'mnonney', 'monnuy', 'monnehy', 'monnpy', 'moknney', 'monnqy', 'monnem', 'moiney', 'monneb', 'msnney', 'monnney', 'moonney', 'monneyo', 'konney', 'mznney', 'rmonney', 'mjnney', 'moqnney', 'monnry', 'monneqy', 'monnuey', 'muonney', 'monnesy', 'omnney', 'mhonney', 'mtonney', 'monnmey', 'moenney', 'emonney', 'gmonney', 'monnsy', 'mionney', 'tonney', 'monnaey', 'money', 'lmonney', 'bonney', 'monvney', 'monncy', 'monneyr', 'monneyt', 'mnney', 'mronney', 'monzey', 'mbnney', 'monner', 'monneyl', 'monmey', 'monkney', 'aonney', 'monnexy', 'monnea', 'monnhy', 'mlonney', 'monnwy', 'mopney', 'fonney', 'mocney', 'moncney', 'monbney', 'monnery', 'monnet', 'wonney', 'mfnney', 'modney', 'monnew', 'mohnney', 'monneg', 'monnfy', 'mgonney', 'monnye', 'monsney', 'conney', 'monqey', 'omonney', 'monngy', 'monfey', 'monnay', 'kmonney', 'monnec', 'mornney', 'monnel', 'jmonney', 'mlnney', 'monnmy', 'qmonney', 'monnemy', 'mdnney', 'moneny', 'mwnney', 'monney', 'movney', 'monnyey', 'monneyi', 'monmney', 'monneny', 'molney', 'mouney', 'moyney', 'monneyu', 'monnjey', 'monneuy', 'monneu', 'gonney', 'monneiy', 'mmnney', 'ronney', 'monneyh', 'movnney', 'monnex', 'meonney', 'eonney', 'donney', 'monnejy', 'monnecy', 'mosney', 'monyney', 'mtnney', 'vonney', 'mognney', 'nmonney', 'monnevy'}\n"
     ]
    }
   ],
   "source": [
    "print(len(set(edits_one(\"monney\"))))\n",
    "print(edits_one(\"monney\"))"
   ]
  },
  {
   "cell_type": "code",
   "execution_count": 22,
   "id": "80d9bce1-d9f7-463c-82df-f98a8cfd945f",
   "metadata": {},
   "outputs": [
    {
     "name": "stdout",
     "output_type": "stream",
     "text": [
      "{'monkey', 'money'}\n"
     ]
    }
   ],
   "source": [
    "print(known(edits_one(\"monney\")))"
   ]
  },
  {
   "cell_type": "code",
   "execution_count": 23,
   "id": "69fa6c77-a5e1-4239-9990-204e2b6de746",
   "metadata": {},
   "outputs": [
    {
     "name": "stdout",
     "output_type": "stream",
     "text": [
      "51013\n",
      "{'monkey', 'money'}\n"
     ]
    }
   ],
   "source": [
    "# Let's look at words that are two edits away\n",
    "print(len(set(edits_two(\"monney\"))))\n",
    "print(known(edits_one(\"monney\")))"
   ]
  },
  {
   "cell_type": "code",
   "execution_count": 24,
   "id": "167ca9f7-c5e8-4bec-ad02-df9c560f9c85",
   "metadata": {},
   "outputs": [
    {
     "name": "stdout",
     "output_type": "stream",
     "text": [
      "{'monkey', 'money'}\n"
     ]
    }
   ],
   "source": [
    "# Let's look at possible corrections of a word\n",
    "print(possible_corrections(\"monney\"))"
   ]
  },
  {
   "cell_type": "code",
   "execution_count": 25,
   "id": "22aa610c-6c88-441f-af3f-2940d5fb179c",
   "metadata": {},
   "outputs": [
    {
     "name": "stdout",
     "output_type": "stream",
     "text": [
      "0.0002922233626303688\n",
      "5.378344097491451e-06\n"
     ]
    }
   ],
   "source": [
    "# Let's look at probability of a word\n",
    "print(prob(\"money\"))\n",
    "print(prob(\"monkey\"))"
   ]
  },
  {
   "cell_type": "code",
   "execution_count": 26,
   "id": "af956a77-549e-4f36-a96d-e7df696f610d",
   "metadata": {},
   "outputs": [],
   "source": [
    "def spell_check(word):\n",
    "    \"Print the most probable spelling correction for `word` out of all the `possible_corrections`\"\n",
    "    correct_word = max(possible_corrections(word), key=prob)\n",
    "    if correct_word != word:\n",
    "        return \"Did you mean \" + correct_word + \"?\"\n",
    "    else:\n",
    "        return \"Correct spelling.\""
   ]
  },
  {
   "cell_type": "code",
   "execution_count": 27,
   "id": "fc15993b-d738-4945-bc27-96a10a5e26f7",
   "metadata": {},
   "outputs": [
    {
     "name": "stdout",
     "output_type": "stream",
     "text": [
      "Did you mean money?\n"
     ]
    }
   ],
   "source": [
    "# test spell check\n",
    "print(spell_check(\"monney\"))"
   ]
  },
  {
   "cell_type": "code",
   "execution_count": null,
   "id": "f65eb645-1c55-4c4d-964e-a8f905d3831a",
   "metadata": {},
   "outputs": [],
   "source": []
  }
 ],
 "metadata": {
  "kernelspec": {
   "display_name": "Python 3 (ipykernel)",
   "language": "python",
   "name": "python3"
  },
  "language_info": {
   "codemirror_mode": {
    "name": "ipython",
    "version": 3
   },
   "file_extension": ".py",
   "mimetype": "text/x-python",
   "name": "python",
   "nbconvert_exporter": "python",
   "pygments_lexer": "ipython3",
   "version": "3.10.5"
  }
 },
 "nbformat": 4,
 "nbformat_minor": 5
}

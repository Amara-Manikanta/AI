{
 "cells": [
  {
   "cell_type": "markdown",
   "metadata": {},
   "source": [
    "# Linguistic Analysis in Natural Language Processing (NLP)\n",
    "\n",
    "## 1. Lexical Processing\n",
    "\n",
    "#### Description:\n",
    "Lexical processing involves analyzing individual words in a text. It focuses on recognizing and understanding words as discrete units of meaning (lexemes), identifying their properties, such as part of speech, base forms, and inflections.\n",
    "\n",
    "#### Key Tasks:\n",
    "1. **Tokenization**: Splitting text into words, phrases, or meaningful units (tokens).\n",
    "2. **Lemmatization and Stemming**: Reducing words to their base or root form.\n",
    "   - **Example**:\n",
    "     - **Lemmatization**: \"running\" → \"run\"\n",
    "     - **Stemming**: \"running\" → \"runn\"\n",
    "3. **Part-of-Speech (POS) Tagging**: Assigning a grammatical category to each word (e.g., noun, verb, adjective).\n",
    "4. **Spell Checking**: Identifying and correcting misspelled words.\n",
    "5. **Word Recognition**: Differentiating valid words from non-words.\n",
    "\n",
    "### Example:\n",
    "Consider the sentence: `\"Cats are running.\"`\n",
    "- **Lexical Processing identifies**:\n",
    "  - \"Cats\" as a plural noun\n",
    "  - \"are\" as an auxiliary verb\n",
    "  - \"running\" as a verb (present participle)\n",
    "\n"
   ]
  },
  {
   "cell_type": "code",
   "execution_count": 3,
   "metadata": {},
   "outputs": [
    {
     "name": "stderr",
     "output_type": "stream",
     "text": [
      "[nltk_data] Downloading package punkt_tab to\n",
      "[nltk_data]     C:\\Users\\Manikanta\\AppData\\Roaming\\nltk_data...\n",
      "[nltk_data]   Unzipping tokenizers\\punkt_tab.zip.\n"
     ]
    },
    {
     "data": {
      "text/plain": [
       "True"
      ]
     },
     "execution_count": 3,
     "metadata": {},
     "output_type": "execute_result"
    }
   ],
   "source": [
    "import nltk\n",
    "nltk.download('punkt_tab')"
   ]
  },
  {
   "cell_type": "code",
   "execution_count": 5,
   "metadata": {},
   "outputs": [
    {
     "name": "stderr",
     "output_type": "stream",
     "text": [
      "[nltk_data] Downloading package wordnet to\n",
      "[nltk_data]     C:\\Users\\Manikanta\\AppData\\Roaming\\nltk_data...\n"
     ]
    },
    {
     "data": {
      "text/plain": [
       "True"
      ]
     },
     "execution_count": 5,
     "metadata": {},
     "output_type": "execute_result"
    }
   ],
   "source": [
    "import nltk\n",
    "nltk.download('wordnet')"
   ]
  },
  {
   "cell_type": "code",
   "execution_count": 7,
   "metadata": {},
   "outputs": [
    {
     "name": "stderr",
     "output_type": "stream",
     "text": [
      "[nltk_data] Downloading package averaged_perceptron_tagger_eng to\n",
      "[nltk_data]     C:\\Users\\Manikanta\\AppData\\Roaming\\nltk_data...\n",
      "[nltk_data]   Unzipping taggers\\averaged_perceptron_tagger_eng.zip.\n"
     ]
    },
    {
     "data": {
      "text/plain": [
       "True"
      ]
     },
     "execution_count": 7,
     "metadata": {},
     "output_type": "execute_result"
    }
   ],
   "source": [
    "nltk.download('averaged_perceptron_tagger_eng')"
   ]
  },
  {
   "cell_type": "code",
   "execution_count": 8,
   "metadata": {},
   "outputs": [
    {
     "name": "stdout",
     "output_type": "stream",
     "text": [
      "Tokens: ['Cats', 'are', 'running', 'around', 'the', 'park', '.']\n",
      "Lemmatized Tokens: ['Cats', 'are', 'running', 'around', 'the', 'park', '.']\n",
      "Stemmed Tokens: ['cat', 'are', 'run', 'around', 'the', 'park', '.']\n",
      "POS Tags: [('Cats', 'NNS'), ('are', 'VBP'), ('running', 'VBG'), ('around', 'IN'), ('the', 'DT'), ('park', 'NN'), ('.', '.')]\n"
     ]
    }
   ],
   "source": [
    "### Code Example (Tokenization, Lemmatization, Stemming, POS Tagging):\n",
    "\n",
    "# Importing necessary libraries for lexical processing\n",
    "import nltk\n",
    "from nltk.tokenize import word_tokenize\n",
    "from nltk.stem import WordNetLemmatizer\n",
    "from nltk.corpus import stopwords\n",
    "\n",
    "# Example Sentence\n",
    "sentence = \"Cats are running around the park.\"\n",
    "\n",
    "# Tokenization\n",
    "tokens = word_tokenize(sentence)\n",
    "print(\"Tokens:\", tokens)\n",
    "\n",
    "# Lemmatization\n",
    "lemmatizer = WordNetLemmatizer()\n",
    "lemmatized_tokens = [lemmatizer.lemmatize(token) for token in tokens]\n",
    "print(\"Lemmatized Tokens:\", lemmatized_tokens)\n",
    "\n",
    "# Stemming\n",
    "from nltk.stem import PorterStemmer\n",
    "stemmer = PorterStemmer()\n",
    "stemmed_tokens = [stemmer.stem(token) for token in tokens]\n",
    "print(\"Stemmed Tokens:\", stemmed_tokens)\n",
    "\n",
    "# Part-of-Speech (POS) Tagging\n",
    "pos_tags = nltk.pos_tag(tokens)\n",
    "print(\"POS Tags:\", pos_tags)\n"
   ]
  },
  {
   "cell_type": "markdown",
   "metadata": {},
   "source": [
    "### 2. Syntactic  Processing\n",
    "\n",
    "#### Description:\n",
    "Syntactic processing focuses on the structure of sentences, ensuring that the arrangement of words follows the rules of grammar. It involves analyzing the grammatical structure of a sentence to check if it is syntactically valid.\n",
    "\n",
    "#### Key Tasks:\n",
    "1. **Parsing**:\n",
    "    - Analyzing sentences to identify their grammatical structure.\n",
    "2. **Parse Tree**:\n",
    "    - A hierarchical tree structure that represents the syntactic structure of a sentence.\n",
    "3.  **Dependency Parsing**:\n",
    "    - Identifying dependencies between words in a sentence (e.g., subject-verb relationships).\n",
    "4. **Syntax Error Detection**:\n",
    "    - Identifying incorrect grammatical structures.\n",
    "\n",
    "- **Example**:\n",
    "    -   Sentence: \"He goes to park\"\n",
    "        -   Error: Missing \"the\" before \"park\" (should be \"the park\").\n"
   ]
  },
  {
   "cell_type": "markdown",
   "metadata": {},
   "source": [
    "##### Code Example (Parse Tree Generation):"
   ]
  },
  {
   "cell_type": "code",
   "execution_count": 23,
   "metadata": {},
   "outputs": [
    {
     "name": "stdout",
     "output_type": "stream",
     "text": [
      "Executing sentence parse: ['the', 'cat', 'sat']\n"
     ]
    }
   ],
   "source": [
    "# Define a simple grammar for parsing\n",
    "import nltk\n",
    "from nltk import CFG\n",
    "\n",
    "# Define the grammar\n",
    "grammar = CFG.fromstring(\"\"\"\n",
    "  S -> NP VP\n",
    "  NP -> Det N\n",
    "  VP -> V NP\n",
    "  Det -> 'the' | 'a'\n",
    "  N -> 'cat' | 'mat'\n",
    "  V -> 'sat' | 'ran'\n",
    "\"\"\")\n",
    "\n",
    "# Create a parser\n",
    "parser = nltk.ChartParser(grammar)\n",
    "\n",
    "# Parse a sentence\n",
    "sentence_parse = 'the cat sat'.split()\n",
    "print(\"Executing sentence parse:\", sentence_parse)\n",
    "\n",
    "try:\n",
    "    for tree in parser.parse(sentence_parse):\n",
    "        print(tree)\n",
    "        tree.pretty_print()\n",
    "except Exception as e:\n",
    "    print(f\"Error: {e}\")\n",
    "\n"
   ]
  },
  {
   "cell_type": "markdown",
   "metadata": {},
   "source": [
    "### 3. Semantic Processing:\n",
    "\n",
    "#### Description:\n",
    "Semantic processing deals with the meaning of words and sentences. It extracts and represents the meaning of the text, resolving ambiguities and capturing relationships between concepts\n",
    "\n",
    "#### Key Tasks:\n",
    "1. **Word Sense Disambiguation (WSD)**: Identifying the correct meaning of a word based on context.\n",
    "- **Example**:\n",
    "    -   \"bank\" → Financial institution (in \"He went to the bank\").\n",
    "    -   \"bank\" → Riverbank (in \"He sat by the bank\").\n",
    "2. **Named Entity Recognition (NER)**: Identifying proper nouns and their categories (e.g., names, places).\n",
    "- **Example**:\n",
    "    -   \"Apple\" → Organization\n",
    "    -   \"Paris\" → Location\n",
    "3. **Semantic Role Labeling (SRL)**: Identifying roles of words in a sentence (e.g., subject, object).\n",
    "- **Example**:\n",
    "    -   Sentence: \"John gave Mary a gift.\"\n",
    "    -   Roles: John = giver, Mary = receiver, gift = object.\n",
    "4. **Coreference Resolution**: Linking pronouns and phrases to their referents.\n",
    "- **Example**:\n",
    "    -   Sentence: \"The cat sat on the mat. It was fluffy.\"\n",
    "    -   \"It\" refers to \"The cat.\"\n",
    "5. **Relationship Extraction**: Identifying relationships between entities.\n",
    "- **Example**:\n",
    "    -   Sentence: \"Barack Obama was born in Hawaii.\"\n",
    "    -   Extracted relationship: (Barack Obama, born in, Hawaii).\n"
   ]
  },
  {
   "cell_type": "markdown",
   "metadata": {},
   "source": [
    "##### Code Example (Named Entity Recognition):"
   ]
  },
  {
   "cell_type": "code",
   "execution_count": 11,
   "metadata": {},
   "outputs": [
    {
     "name": "stdout",
     "output_type": "stream",
     "text": [
      "Requirement already satisfied: nltk in c:\\users\\manikanta\\appdata\\local\\programs\\python\\python310\\lib\\site-packages (3.9.1)\n",
      "Requirement already satisfied: click in c:\\users\\manikanta\\appdata\\local\\programs\\python\\python310\\lib\\site-packages (from nltk) (8.1.3)\n",
      "Requirement already satisfied: joblib in c:\\users\\manikanta\\appdata\\local\\programs\\python\\python310\\lib\\site-packages (from nltk) (1.4.2)\n",
      "Requirement already satisfied: regex>=2021.8.3 in c:\\users\\manikanta\\appdata\\local\\programs\\python\\python310\\lib\\site-packages (from nltk) (2024.11.6)\n",
      "Requirement already satisfied: tqdm in c:\\users\\manikanta\\appdata\\local\\programs\\python\\python310\\lib\\site-packages (from nltk) (4.66.2)\n",
      "Requirement already satisfied: colorama in c:\\users\\manikanta\\appdata\\local\\programs\\python\\python310\\lib\\site-packages (from click->nltk) (0.4.5)\n",
      "Note: you may need to restart the kernel to use updated packages.\n"
     ]
    }
   ],
   "source": [
    "pip install nltk"
   ]
  },
  {
   "cell_type": "code",
   "execution_count": 25,
   "metadata": {},
   "outputs": [
    {
     "name": "stderr",
     "output_type": "stream",
     "text": [
      "[nltk_data] Downloading package maxent_ne_chunker_tab to\n",
      "[nltk_data]     C:\\Users\\Manikanta\\AppData\\Roaming\\nltk_data...\n",
      "[nltk_data]   Unzipping chunkers\\maxent_ne_chunker_tab.zip.\n"
     ]
    },
    {
     "data": {
      "text/plain": [
       "True"
      ]
     },
     "execution_count": 25,
     "metadata": {},
     "output_type": "execute_result"
    }
   ],
   "source": [
    "import nltk\n",
    "nltk.download('maxent_ne_chunker_tab')"
   ]
  },
  {
   "cell_type": "code",
   "execution_count": 26,
   "metadata": {},
   "outputs": [
    {
     "name": "stderr",
     "output_type": "stream",
     "text": [
      "[nltk_data] Downloading package punkt to\n",
      "[nltk_data]     C:\\Users\\Manikanta\\AppData\\Roaming\\nltk_data...\n",
      "[nltk_data]   Package punkt is already up-to-date!\n",
      "[nltk_data] Downloading package averaged_perceptron_tagger to\n",
      "[nltk_data]     C:\\Users\\Manikanta\\AppData\\Roaming\\nltk_data...\n",
      "[nltk_data]   Package averaged_perceptron_tagger is already up-to-\n",
      "[nltk_data]       date!\n",
      "[nltk_data] Downloading package maxent_ne_chunker to\n",
      "[nltk_data]     C:\\Users\\Manikanta\\AppData\\Roaming\\nltk_data...\n",
      "[nltk_data]   Package maxent_ne_chunker is already up-to-date!\n",
      "[nltk_data] Downloading package words to\n",
      "[nltk_data]     C:\\Users\\Manikanta\\AppData\\Roaming\\nltk_data...\n",
      "[nltk_data]   Package words is already up-to-date!\n"
     ]
    },
    {
     "name": "stdout",
     "output_type": "stream",
     "text": [
      "Named Entity Recognition:\n",
      "(S\n",
      "  (GPE Apple/NNP)\n",
      "  is/VBZ\n",
      "  looking/VBG\n",
      "  at/IN\n",
      "  buying/VBG\n",
      "  U.K./NNP\n",
      "  startup/NN\n",
      "  for/IN\n",
      "  $/$\n",
      "  1/CD\n",
      "  billion/CD)\n"
     ]
    }
   ],
   "source": [
    "import nltk\n",
    "from nltk.tokenize import word_tokenize\n",
    "from nltk.tag import pos_tag\n",
    "from nltk.chunk import ne_chunk\n",
    "from nltk import CFG, ChartParser\n",
    "\n",
    "# Ensure nltk_data path is set\n",
    "nltk.data.path.append(\"C:\\\\Users\\\\Manikanta\\\\AppData\\\\Roaming\\\\nltk_data\")\n",
    "\n",
    "# Download necessary resources\n",
    "nltk.download('punkt')\n",
    "nltk.download('averaged_perceptron_tagger')\n",
    "nltk.download('maxent_ne_chunker')\n",
    "nltk.download('words')\n",
    "\n",
    "# Named Entity Recognition example\n",
    "sentence_ner = \"Apple is looking at buying U.K. startup for $1 billion\"\n",
    "ner_tree = ne_chunk(pos_tag(word_tokenize(sentence_ner)))\n",
    "print(\"Named Entity Recognition:\")\n",
    "print(ner_tree)\n",
    "\n",
    "# Context-Free Grammar (CFG) Parsing example\n",
    "grammar = CFG.fromstring(\"\"\"\n",
    "  S -> NP VP\n",
    "  NP -> Det N\n",
    "  VP -> V NP\n",
    "  Det -> 'the' | 'a'\n",
    "  N -> 'cat' | 'dog'\n",
    "  V -> 'sat' | 'ran'\n",
    "\"\"\")\n",
    "\n",
    "parser = ChartParser(grammar)\n",
    "sentence_parse = 'the cat sat'.split()\n",
    "for tree in parser.parse(sentence_parse):\n",
    "    print(tree)\n"
   ]
  },
  {
   "cell_type": "markdown",
   "metadata": {},
   "source": [
    "### 4. Unicode Standards:\n",
    "\n",
    "#### Description:\n",
    "Unicode is a universal character encoding standard that represents text from most of the world's writing systems. It allows for the encoding of text in a machine-readable format (binary data) that can be stored, transmitted, or processed.\n",
    "\n",
    "#### How Encoding Works After Linguistic Processing:\n",
    "1. **Input Text**: \n",
    "    -   Processed text (e.g., tokens, syntactic structures) is prepared for encoding.\n",
    "    - **Example**:  \n",
    "        -   \"John gave a book to Mary.\"\n",
    "2. **Unicode Mapping**: \n",
    "    -   Each character is mapped to a unique Unicode code point.\n",
    "    - **Example**:  \n",
    "        - \"J\" → U+004A\n",
    "        - \"o\" → U+006F\n",
    "        - \" \" (space) → U+0020\n",
    "3. **Encoding Format**: \n",
    "    - The Unicode code points are converted into a specific encoding format, such as:\n",
    "        - **UTF-8**: Variable-length encoding; widely used.\n",
    "        - **UTF-16**: Fixed-length or variable-length encoding; supports more complex scripts.\n",
    "        - **UTF-32**: Fixed-length encoding; uses 4 bytes for every character.\n",
    "4. **Output**: \n",
    "    - Encoded text ready for storage or transmission.\n",
    "    - **Example**: (UTF-8 encoding for \"John\")\n",
    "        - J → 01001010\n",
    "        - o → 01101111\n",
    "        - h → 01101000\n",
    "        - n → 01101110\n",
    "\n"
   ]
  },
  {
   "cell_type": "markdown",
   "metadata": {},
   "source": [
    "##### Code Example (Encoding and Decoding):"
   ]
  },
  {
   "cell_type": "code",
   "execution_count": 27,
   "metadata": {},
   "outputs": [
    {
     "name": "stdout",
     "output_type": "stream",
     "text": [
      "Default string: ₹50 \n",
      " Type of string: <class 'str'> \n",
      "\n",
      "Encoded to UTF-8: b'\\xe2\\x82\\xb950' \n",
      " Type of string: <class 'bytes'> \n",
      "\n",
      "Decoded from UTF-8: ₹50 \n",
      " Type of string: <class 'str'> \n",
      "\n",
      "\n",
      "Encoding formats example:\n",
      "UTF-8 encoding for 'John': b'John'\n",
      "UTF-16 encoding for 'John': b'\\xff\\xfeJ\\x00o\\x00h\\x00n\\x00'\n",
      "UTF-32 encoding for 'John': b'\\xff\\xfe\\x00\\x00J\\x00\\x00\\x00o\\x00\\x00\\x00h\\x00\\x00\\x00n\\x00\\x00\\x00'\n"
     ]
    }
   ],
   "source": [
    "# Demonstrating how text encoding works\n",
    "amount = u\"₹50\"\n",
    "print('Default string:', amount, '\\n', 'Type of string:', type(amount), '\\n')\n",
    "\n",
    "# Encode to UTF-8 byte format\n",
    "amount_encoded = amount.encode('utf-8')\n",
    "print('Encoded to UTF-8:', amount_encoded, '\\n', 'Type of string:', type(amount_encoded), '\\n')\n",
    "\n",
    "# Decode from UTF-8 byte format\n",
    "amount_decoded = amount_encoded.decode('utf-8')\n",
    "print('Decoded from UTF-8:', amount_decoded, '\\n', 'Type of string:', type(amount_decoded), '\\n')\n",
    "\n",
    "# Encoding format examples\n",
    "print(\"\\nEncoding formats example:\")\n",
    "utf8_example = \"John\"\n",
    "utf16_example = \"John\"\n",
    "utf32_example = \"John\"\n",
    "\n",
    "print(f\"UTF-8 encoding for 'John': {utf8_example.encode('utf-8')}\")\n",
    "print(f\"UTF-16 encoding for 'John': {utf16_example.encode('utf-16')}\")\n",
    "print(f\"UTF-32 encoding for 'John': {utf32_example.encode('utf-32')}\")\n"
   ]
  },
  {
   "cell_type": "markdown",
   "metadata": {},
   "source": [
    "## Word Frequencies\n",
    "#### Definition:\n",
    "The count of how often each word appears in a given text.\n",
    "#### Why It's Important:\n",
    "-   Helps identify commonly used terms.\n",
    "-   Forms the basis for techniques like Term Frequency-Inverse Document Frequency (TF-IDF).\n",
    "#### Applications:\n",
    "-   Text summarization.\n",
    "-   Identifying trends in data (e.g., word clouds).\n",
    "- **Example** :\n",
    "    -   Text: \"The quick brown fox jumps over the lazy dog.\"\n",
    "    -   Frequencies:\n",
    "        - \"The\" → 2\n",
    "        - \"quick\" → 1\n",
    "        - \"brown\" → 1\n",
    "        - ..."
   ]
  },
  {
   "cell_type": "markdown",
   "metadata": {},
   "source": [
    "## Stop Words\n",
    "#### Definition:\n",
    "Commonly used words (e.g., \"the,\" \"is,\" \"and\") that often carry little meaning and are filtered out during text analysis.\n",
    "#### Why It's Important:\n",
    "-   Reduces noise in text processing.\n",
    "-   Improves the efficiency of algorithms by focusing on meaningful words.\n",
    "#### Applications:\n",
    "-   Search engines.\n",
    "-   Text summarization and sentiment analysis.\n",
    "- **Example** :\n",
    "    - English Stop Words: \"a,\" \"an,\" \"the,\" \"in,\" \"on,\" \"and,\" etc."
   ]
  },
  {
   "cell_type": "code",
   "execution_count": null,
   "metadata": {},
   "outputs": [],
   "source": []
  },
  {
   "cell_type": "code",
   "execution_count": null,
   "metadata": {},
   "outputs": [],
   "source": []
  },
  {
   "cell_type": "markdown",
   "metadata": {},
   "source": [
    "## Bag of words\n",
    "#### Definition:\n",
    "Bag of Words (BoW) is a simple and commonly used natural language processing (NLP) technique for text representation. \n",
    "It transforms a text into a fixed-size vector of numbers by focusing on the frequency of words, ignoring their order or grammar. \n",
    "#### Bag of words matrix\n",
    "It converts text into numerical features by creating a matrix where each row represents a document (or text instance) and each column corresponds to a word from the vocabulary. \n",
    "The values in the matrix indicate the frequency (or sometimes binary presence) of the word in the respective document.\n",
    "#### Steps in Creating a Bag of Words Representation\n",
    "#### Tokenization:\n",
    "\n",
    "Split the text into individual words (tokens).\n",
    "- **Example**: \"The cat sat on the mat\" → [\"The\", \"cat\", \"sat\", \"on\", \"the\", \"mat\"].\n",
    "#### Normalization (Optional):\n",
    "\n",
    "Convert all words to lowercase and remove punctuation.\n",
    "- **Example**: [\"The\", \"cat\", \"sat\", \"on\", \"the\", \"mat\"] → [\"the\", \"cat\", \"sat\", \"on\", \"the\", \"mat\"].\n",
    "#### Vocabulary Creation:\n",
    "\n",
    "Create a vocabulary (unique list of words) from all the tokens in the dataset.\n",
    "- **Example**: [\"the\", \"cat\", \"sat\", \"on\", \"mat\"].\n",
    "#### Vectorization:\n",
    "\n",
    "Represent each document (or sentence) as a vector based on the frequency of words in the vocabulary.\n",
    "- **Example**: \"The cat sat on the mat\":\n",
    "Vocabulary:  [\"the\", \"cat\", \"sat\", \"on\", \"mat\"]\n",
    "Vector:      [2, 1, 1, 1, 1]\n",
    "\n"
   ]
  },
  {
   "cell_type": "code",
   "execution_count": null,
   "metadata": {},
   "outputs": [],
   "source": []
  },
  {
   "cell_type": "code",
   "execution_count": null,
   "metadata": {},
   "outputs": [],
   "source": []
  },
  {
   "cell_type": "markdown",
   "metadata": {},
   "source": [
    "### Stemming\n",
    "#### **Definition**:\n",
    "Stemming is the process of removing suffixes and prefixes from a word to reduce it to its base or root form, often without considering the word's meaning.\n",
    "- **Example**:\n",
    "    - Words: running, runner, ran\n",
    "    - Stem: run\n",
    "    - Words: studies, studied\n",
    "    - Stem: studi\n",
    "\n",
    "#### Popular Algorithms:\n",
    "1. **Porter Stemmer**:\n",
    "   - This was developed in 1980 and works only on English words. \n",
    "2. **Snowball Stemmer**:\n",
    "   - This is a more versatile stemmer that not only works on English words but also on words of other languages such as French, German, Italian, Finnish, Russian, and many more languages.\n",
    "3. **Lancaster Stemmer**\n",
    "\n",
    "#### **Limitation**:\n",
    "        - The root word produced by stemming may not always be a valid word in the language. \n",
    "        - It focuses on form rather than meaning."
   ]
  },
  {
   "cell_type": "code",
   "execution_count": null,
   "metadata": {},
   "outputs": [],
   "source": []
  },
  {
   "cell_type": "code",
   "execution_count": null,
   "metadata": {},
   "outputs": [],
   "source": []
  },
  {
   "cell_type": "markdown",
   "metadata": {},
   "source": [
    "### Lemmatization\n",
    "#### **Definition**:\n",
    "    - Lemmatization reduces a word to its base or dictionary form (lemma), ensuring that the root word is meaningful.\n",
    "    - WordNet lemmatizer is a lexical database that can be used to lemmatize words in python.\n",
    "    - more expensive than stemming.\n",
    "- **Example**:\n",
    "    - Words: running, ran\n",
    "    - Lemma: run\n",
    "    - Words: better\n",
    "    - Lemma: good (considering semantics)\n",
    "#### **Advantage**:\n",
    "    - It provides grammatically correct words, making it more suitable for NLP tasks like text understanding."
   ]
  },
  {
   "attachments": {
    "c29b5f46-eccf-454f-9e7d-20819fe82686.png": {
     "image/png": "[encoded data removed]"
    }
   },
   "cell_type": "markdown",
   "metadata": {},
   "source": [
    "#### Comparison\n",
    "![image.png](attachment:c29b5f46-eccf-454f-9e7d-20819fe82686.png)"
   ]
  },
  {
   "cell_type": "code",
   "execution_count": null,
   "metadata": {},
   "outputs": [],
   "source": []
  },
  {
   "cell_type": "code",
   "execution_count": null,
   "metadata": {},
   "outputs": [],
   "source": []
  },
  {
   "attachments": {
    "01eaa0e4-58f2-40c1-bf9b-270344ec3b22.png": {
     "image/png": "[encoded data removed]"
    },
    "628115a8-ad37-4eb9-bbf2-fc6842b0f326.png": {
     "image/png": "[encoded data removed]"
    },
    "e0589e88-c3d3-4f8c-9681-032780cd2c54.png": {
     "image/png": "[encoded data removed]"
    }
   },
   "cell_type": "markdown",
   "metadata": {},
   "source": [
    "### **TF-IDF Representation**\n",
    "#### **Definition:**\n",
    "TF-IDF stands for Term Frequency-Inverse Document Frequency, and it's a statistical measure used in text processing to evaluate the importance of a word in a document relative to a collection of documents (corpus).\n",
    "#### **Components of TF-IDF**:\n",
    "1. **Term Frequency (TF)**:\n",
    "   - Measures how frequently a term occurs in a document.\n",
    "   - Formula :\n",
    "         ![image.png](attachment:e0589e88-c3d3-4f8c-9681-032780cd2c54.png)\n",
    "2. **Inverse Document Frequency (IDF)**:\n",
    "   - Measures how important a term is by reducing the weight of terms that occur in many documents.\n",
    "   - Formula:\n",
    "         ![image.png](attachment:01eaa0e4-58f2-40c1-bf9b-270344ec3b22.png)\n",
    "3. **TF-IDF Score**:\n",
    "   - Combines TF and IDF to compute the importance of a term.\n",
    "   - Formula\n",
    "         ![image.png](attachment:628115a8-ad37-4eb9-bbf2-fc6842b0f326.png)\n",
    "#### ** Steps to Compute TF-IDF**\n",
    "1. Tokenize the documents to split them into words or terms.\n",
    "2. Compute TF for each term in each document.\n",
    "3. Compute IDF for each term based on the entire corpus.\n",
    "4. Multiply TF and IDF to get the TF-IDF score for each term\n",
    "   "
   ]
  },
  {
   "cell_type": "code",
   "execution_count": 30,
   "metadata": {},
   "outputs": [
    {
     "name": "stdout",
     "output_type": "stream",
     "text": [
      "TF-IDF Matrix:\n",
      "[[0.         0.46869865 0.         0.         0.         0.46869865\n",
      "  0.3564574  0.         0.3564574  0.55364194 0.        ]\n",
      " [0.         0.         0.46869865 0.         0.46869865 0.\n",
      "  0.3564574  0.         0.3564574  0.55364194 0.        ]\n",
      " [0.4305185  0.         0.         0.4305185  0.         0.\n",
      "  0.         0.4305185  0.         0.50854232 0.4305185 ]]\n",
      "Feature Names:\n",
      "['bird' 'cat' 'dog' 'flew' 'log' 'mat' 'on' 'over' 'sat' 'the' 'tree']\n"
     ]
    }
   ],
   "source": [
    "from sklearn.feature_extraction.text import TfidfVectorizer\n",
    "\n",
    "# Sample documents\n",
    "documents = [\n",
    "    \"The cat sat on the mat\",\n",
    "    \"The dog sat on the log\",\n",
    "    \"The bird flew over the tree\"\n",
    "]\n",
    "\n",
    "# Create TF-IDF vectorizer\n",
    "tfidf_vectorizer = TfidfVectorizer()\n",
    "\n",
    "# Compute TF-IDF matrix\n",
    "tfidf_matrix = tfidf_vectorizer.fit_transform(documents)\n",
    "\n",
    "# Get feature names (terms)\n",
    "feature_names = tfidf_vectorizer.get_feature_names_out()\n",
    "\n",
    "# Convert TF-IDF matrix to array\n",
    "tfidf_array = tfidf_matrix.toarray()\n",
    "\n",
    "# Print TF-IDF representation\n",
    "print(\"TF-IDF Matrix:\")\n",
    "print(tfidf_array)\n",
    "\n",
    "# Print feature names\n",
    "print(\"Feature Names:\")\n",
    "print(feature_names)\n"
   ]
  },
  {
   "cell_type": "code",
   "execution_count": null,
   "metadata": {},
   "outputs": [],
   "source": []
  },
  {
   "cell_type": "code",
   "execution_count": null,
   "metadata": {},
   "outputs": [],
   "source": []
  },
  {
   "cell_type": "markdown",
   "metadata": {},
   "source": [
    "### **Canonicalisation**\n",
    "    - Canonicalization (or canonicalisation) is the process of converting data or representations into a standardized, normalized, or \"canonical\" form. \n",
    "    - This ensures consistency, removes ambiguity, and makes it easier to compare, analyze, or process data.\n",
    "**Applications of Canonicalization**\n",
    "1. **In Web Development (SEO)**:\n",
    "    - Ensures that search engines treat different URLs as the same page.\n",
    "    - **Example**:\n",
    "    - http://example.com, https://example.com, and http://example.com/index.html might all point to the same page.\n",
    "    - Canonicalization ensures that search engines recognize these as the same content.\n",
    "2. **In Natural Language Processing (NLP)**:\n",
    "    - Text preprocessing step to standardize words.\n",
    "    - **Example**:\n",
    "    - Words like \"running,\" \"ran,\" and \"runs\" might be canonicalized to \"run\" (through lemmatization or stemming).\n",
    "3. **In File Systems and Software**:\n",
    "    - Standardizes file paths or URLs.\n",
    "    - **Example**:\n",
    "    - Resolving relative paths like ../folder/file.txt to its absolute form.\n",
    "4. **In Cryptography**:\n",
    "    - Ensures that data is in a consistent format before applying cryptographic operations.\n",
    "    - **Example**:\n",
    "    - Converting XML documents to a canonical form to ensure digital signatures are consistent.\n",
    "5. **In Machine Learning (Data Cleaning)**:\n",
    "    - Helps unify variations in data.\n",
    "    - **Example**:\n",
    "    - Unifying \"NY,\" \"New York,\" and \"N.Y.\" into a single representation: \"New York.\"\n",
    "\n",
    "**Why is Canonicalization Important?**\n",
    "1. **Consistency**: Makes processing easier by ensuring all inputs are in the same format.\n",
    "2. **Efficiency**: Reduces duplicate representations in databases or systems.\n",
    "3. **Security**: Prevents attacks based on variations in input formats (e.g., path traversal attacks).\n",
    "4. **Improved Accuracy**: Essential in tasks like search indexing, text processing, and data comparison.\n"
   ]
  },
  {
   "cell_type": "code",
   "execution_count": null,
   "metadata": {},
   "outputs": [],
   "source": []
  },
  {
   "cell_type": "code",
   "execution_count": null,
   "metadata": {},
   "outputs": [],
   "source": []
  },
  {
   "cell_type": "markdown",
   "metadata": {},
   "source": [
    "### **Phonetic Hashing**\n",
    "    - Phonetic Hashing is a technique used to encode words or names into a hash value based on their pronunciation rather than their exact spelling.\n",
    "    - This method ensures that similar-sounding words or names produce similar hash values, making it useful for tasks like fuzzy matching, spell-checking, or searching in databases.\n",
    "\n",
    "#### **Common Algorithms for Phonetic Hashing**\n",
    "1. **Soundex**:\n",
    "    - One of the earliest phonetic algorithms.\n",
    "    - Encodes English names to match phonetically similar words.\n",
    "    - **Example**:\n",
    "            - Robert and Rupert → R163\n",
    "            - Ashcraft and Ashcroft → A261\n",
    "2. **Metaphone**:\n",
    "\n",
    "    - An improvement over Soundex, focusing on more accurate phonetic encoding.\n",
    "    - Handles a wider range of English phonetics.\n",
    "    - **Example**:\n",
    "            - Smith → SM0\n",
    "            - Schmidt → XMT\n",
    "3. **Double Metaphone**:\n",
    "\n",
    "    - An enhancement of Metaphone that produces two keys: one for the primary pronunciation and another for an alternative pronunciation.\n",
    "    - Useful for multi-lingual and diverse pronunciation scenarios.\n",
    "    - **Example**:\n",
    "        - Smith → SM0\n",
    "        - Schmidt → SMT\n",
    "4. **NYSIIS** (New York State Identification and Intelligence System):\n",
    "\n",
    "    - Focuses on standardizing spelling variations of names.\n",
    "    - **Example**:\n",
    "        - MacDonald → MCANAL\n",
    "        - McDonald → MCANAL\n",
    "5. **Caverphone**:\n",
    "\n",
    "    - Developed for matching names in New Zealand.\n",
    "    - Focuses on better handling of non-English phonetics.\n",
    "                                                                                                    \n",
    "#### **How Phonetic Hashing Works**\n",
    "\n",
    "1. **Preprocessing**:\n",
    "- Convert input text to uppercase or lowercase for uniformity.\n",
    "- Remove unwanted characters like punctuation or numbers.\n",
    "\n",
    "2. **Encoding Rules**:\n",
    "- Replace specific patterns of letters with standardized phonetic representations.\n",
    "- Remove silent letters or vowels where appropriate.\n",
    "\n",
    "3. **Generate Hash**:\n",
    "- Combine the phonetic codes into a fixed-length hash.\n",
    "\n",
    "\n",
    "#### **Applications of Phonetic Hashing**\n",
    "\n",
    "1. **Database Searching**:\n",
    "- Helps search for names or terms with varying spellings (e.g., \"Smith\" vs. \"Smyth\").\n",
    "\n",
    "2. **Spell-Checking**:\n",
    "- Suggests corrections for misspelled words based on phonetic similarity.\n",
    "\n",
    "3. **Record Linkage**:\n",
    "- Identifies matching records in datasets with slight variations in spelling.\n",
    "\n",
    "4. **Fraud Detection**:\n",
    "- Matches names with similar pronunciations to identify duplicates.\n",
    "\n",
    "5. **Linguistics**:\n",
    "- Analyzes phonetic patterns in large text corpora.\n",
    "\n"
   ]
  },
  {
   "cell_type": "code",
   "execution_count": null,
   "metadata": {},
   "outputs": [],
   "source": []
  },
  {
   "cell_type": "code",
   "execution_count": null,
   "metadata": {},
   "outputs": [],
   "source": []
  },
  {
   "cell_type": "markdown",
   "metadata": {},
   "source": [
    "### **Edit Distance**\n",
    "- Edit Distance, also known as Levenshtein Distance, is a measure of the minimum number of single-character edits required to convert one string into another. \n",
    "- These edits include:\n",
    "1. **Insertion**: Adding a character.\n",
    "2. **Deletion**: Removing a character.\n",
    "3. **Substitution**: Replacing one character with another.\n",
    "\n",
    "## Applications of Edit Distance\n",
    "- **Spell Checkers**: Suggest corrections for misspelled words.\n",
    "- **Plagiarism Detection**: Compare documents for similarity.\n",
    "- **DNA Sequence Alignment**: Compare genetic sequences.\n",
    "- **Natural Language Processing**: Text similarity analysis.\n",
    "\n",
    "\n"
   ]
  },
  {
   "cell_type": "code",
   "execution_count": null,
   "metadata": {},
   "outputs": [],
   "source": []
  }
 ],
 "metadata": {
  "kernelspec": {
   "display_name": "Python 3 (ipykernel)",
   "language": "python",
   "name": "python3"
  },
  "language_info": {
   "codemirror_mode": {
    "name": "ipython",
    "version": 3
   },
   "file_extension": ".py",
   "mimetype": "text/x-python",
   "name": "python",
   "nbconvert_exporter": "python",
   "pygments_lexer": "ipython3",
   "version": "3.10.5"
  }
 },
 "nbformat": 4,
 "nbformat_minor": 4
}

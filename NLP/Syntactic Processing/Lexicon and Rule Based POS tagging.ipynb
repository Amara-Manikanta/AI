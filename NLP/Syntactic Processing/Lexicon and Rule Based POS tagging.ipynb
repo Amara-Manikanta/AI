{
 "cells": [
  {
   "cell_type": "markdown",
   "id": "f3e3c334-c03e-40b8-8c55-35031998531e",
   "metadata": {},
   "source": [
    "## POS Tagging - Lexicon and Rule Based Taggers\n",
    "\n",
    "Let's look at the two most basic tagging techniques - lexicon based (or unigram) and rule-based. \n",
    "\n",
    "In this guided exercise, you will explore the WSJ (wall street journal) POS-tagged corpus that comes with NLTK and build a lexicon and rule-based tagger using this corpus as the tarining data. \n",
    "\n",
    "This exercise is divided into the following sections:\n",
    "1. Reading and understanding the tagged dataset\n",
    "2. Exploratory analysis"
   ]
  },
  {
   "cell_type": "markdown",
   "id": "82bb58e1-8475-4d67-a882-21a68deb0b70",
   "metadata": {},
   "source": [
    "### 1. Reading and understanding the tagged dataset"
   ]
  },
  {
   "cell_type": "code",
   "execution_count": 1,
   "id": "d5aded37-1e1b-4357-a4f6-30c0424daa02",
   "metadata": {},
   "outputs": [],
   "source": [
    "# Importing libraries\n",
    "import nltk\n",
    "import numpy as np\n",
    "import pandas as pd\n",
    "import pprint, time\n",
    "import random\n",
    "from sklearn.model_selection import train_test_split\n",
    "from nltk.tokenize import word_tokenize\n",
    "import math"
   ]
  },
  {
   "cell_type": "code",
   "execution_count": 3,
   "id": "07c2f2a2-699f-473b-83ca-3328cf110d8e",
   "metadata": {},
   "outputs": [
    {
     "name": "stderr",
     "output_type": "stream",
     "text": [
      "[nltk_data] Downloading package treebank to\n",
      "[nltk_data]     C:\\Users\\Manikanta\\AppData\\Roaming\\nltk_data...\n",
      "[nltk_data]   Unzipping corpora\\treebank.zip.\n"
     ]
    },
    {
     "data": {
      "text/plain": [
       "True"
      ]
     },
     "execution_count": 3,
     "metadata": {},
     "output_type": "execute_result"
    }
   ],
   "source": [
    "import nltk\n",
    "nltk.download('treebank')"
   ]
  },
  {
   "cell_type": "code",
   "execution_count": 4,
   "id": "c0204ed7-fa77-4be4-96f7-c7df02a0c37f",
   "metadata": {},
   "outputs": [],
   "source": [
    "# reading the Treebank tagged sentences\n",
    "wsj = list(nltk.corpus.treebank.tagged_sents())"
   ]
  },
  {
   "cell_type": "code",
   "execution_count": 5,
   "id": "8b46fe4b-d7f6-45f7-aea7-e19539e13b5a",
   "metadata": {},
   "outputs": [
    {
     "data": {
      "text/plain": [
       "[[('Pierre', 'NNP'),\n",
       "  ('Vinken', 'NNP'),\n",
       "  (',', ','),\n",
       "  ('61', 'CD'),\n",
       "  ('years', 'NNS'),\n",
       "  ('old', 'JJ'),\n",
       "  (',', ','),\n",
       "  ('will', 'MD'),\n",
       "  ('join', 'VB'),\n",
       "  ('the', 'DT'),\n",
       "  ('board', 'NN'),\n",
       "  ('as', 'IN'),\n",
       "  ('a', 'DT'),\n",
       "  ('nonexecutive', 'JJ'),\n",
       "  ('director', 'NN'),\n",
       "  ('Nov.', 'NNP'),\n",
       "  ('29', 'CD'),\n",
       "  ('.', '.')],\n",
       " [('Mr.', 'NNP'),\n",
       "  ('Vinken', 'NNP'),\n",
       "  ('is', 'VBZ'),\n",
       "  ('chairman', 'NN'),\n",
       "  ('of', 'IN'),\n",
       "  ('Elsevier', 'NNP'),\n",
       "  ('N.V.', 'NNP'),\n",
       "  (',', ','),\n",
       "  ('the', 'DT'),\n",
       "  ('Dutch', 'NNP'),\n",
       "  ('publishing', 'VBG'),\n",
       "  ('group', 'NN'),\n",
       "  ('.', '.')],\n",
       " [('Rudolph', 'NNP'),\n",
       "  ('Agnew', 'NNP'),\n",
       "  (',', ','),\n",
       "  ('55', 'CD'),\n",
       "  ('years', 'NNS'),\n",
       "  ('old', 'JJ'),\n",
       "  ('and', 'CC'),\n",
       "  ('former', 'JJ'),\n",
       "  ('chairman', 'NN'),\n",
       "  ('of', 'IN'),\n",
       "  ('Consolidated', 'NNP'),\n",
       "  ('Gold', 'NNP'),\n",
       "  ('Fields', 'NNP'),\n",
       "  ('PLC', 'NNP'),\n",
       "  (',', ','),\n",
       "  ('was', 'VBD'),\n",
       "  ('named', 'VBN'),\n",
       "  ('*-1', '-NONE-'),\n",
       "  ('a', 'DT'),\n",
       "  ('nonexecutive', 'JJ'),\n",
       "  ('director', 'NN'),\n",
       "  ('of', 'IN'),\n",
       "  ('this', 'DT'),\n",
       "  ('British', 'JJ'),\n",
       "  ('industrial', 'JJ'),\n",
       "  ('conglomerate', 'NN'),\n",
       "  ('.', '.')]]"
      ]
     },
     "execution_count": 5,
     "metadata": {},
     "output_type": "execute_result"
    }
   ],
   "source": [
    "# samples: Each sentence is a list of (word, pos) tuples\n",
    "wsj[:3]"
   ]
  },
  {
   "cell_type": "markdown",
   "id": "2a7becc0-c1d3-4e45-b34b-2a1efd2da078",
   "metadata": {},
   "source": [
    "In the list mentioned above, each element of the list is a sentence. Also, note that each sentence ends with a full stop '.' whose POS tag is also a '.'. Thus, the POS tag '.' demarcates the end of a sentence.\n",
    "\n",
    "Also, we do not need the corpus to be segmented into sentences, but can rather use a list of (word, tag) tuples. Let's convert the list into a (word, tag) tuple."
   ]
  },
  {
   "cell_type": "code",
   "execution_count": 6,
   "id": "182eb388-640c-4c39-97f1-628983da1a13",
   "metadata": {},
   "outputs": [
    {
     "name": "stdout",
     "output_type": "stream",
     "text": [
      "100676\n"
     ]
    },
    {
     "data": {
      "text/plain": [
       "[('Pierre', 'NNP'),\n",
       " ('Vinken', 'NNP'),\n",
       " (',', ','),\n",
       " ('61', 'CD'),\n",
       " ('years', 'NNS'),\n",
       " ('old', 'JJ'),\n",
       " (',', ','),\n",
       " ('will', 'MD'),\n",
       " ('join', 'VB'),\n",
       " ('the', 'DT')]"
      ]
     },
     "execution_count": 6,
     "metadata": {},
     "output_type": "execute_result"
    }
   ],
   "source": [
    "# converting the list of sents to a list of (word, pos tag) tuples\n",
    "tagged_words=[tup for word in wsj for tup in word]\n",
    "print(len(tagged_words))\n",
    "tagged_words[:10]"
   ]
  },
  {
   "cell_type": "markdown",
   "id": "a41d8341-4834-4d11-a73e-1ba772ae3226",
   "metadata": {},
   "source": [
    "We now have a list of about 100676 (word, tag) tuples. Let's now do some exploratory analyses."
   ]
  },
  {
   "cell_type": "markdown",
   "id": "15de9299-1af8-4498-bba5-4ef7c4bbbc27",
   "metadata": {},
   "source": [
    "### 2. Exploratory Analysis\n",
    "\n",
    "Let's now conduct some basic exploratory analysis to understand the tagged corpus. To start with, let's ask some simple questions:\n",
    "1. How many unique tags are there in the corpus? \n",
    "2. Which is the most frequent tag in the corpus?\n",
    "3. Which tag is most commonly assigned to the following words:\n",
    "    - \"bank\"\n",
    "    - \"executive\"\n"
   ]
  },
  {
   "cell_type": "code",
   "execution_count": 7,
   "id": "bdc32a5e-49e0-4cca-ace9-1ba8f7b24cee",
   "metadata": {},
   "outputs": [
    {
     "data": {
      "text/plain": [
       "46"
      ]
     },
     "execution_count": 7,
     "metadata": {},
     "output_type": "execute_result"
    }
   ],
   "source": [
    "# question 1: Find the number of unique POS tags in the corpus\n",
    "# you can use the set() function on the list of tags to get a unique set of tags, \n",
    "# and compute its length\n",
    "tags = [i[1] for i in tagged_words]\n",
    "unique_tags = set(tags)\n",
    "len(unique_tags)"
   ]
  },
  {
   "cell_type": "code",
   "execution_count": 8,
   "id": "126c1c80-f201-470e-946e-c2e5a3667a0f",
   "metadata": {},
   "outputs": [
    {
     "data": {
      "text/plain": [
       "Counter({'NNP': 9410,\n",
       "         ',': 4886,\n",
       "         'CD': 3546,\n",
       "         'NNS': 6047,\n",
       "         'JJ': 5834,\n",
       "         'MD': 927,\n",
       "         'VB': 2554,\n",
       "         'DT': 8165,\n",
       "         'NN': 13166,\n",
       "         'IN': 9857,\n",
       "         '.': 3874,\n",
       "         'VBZ': 2125,\n",
       "         'VBG': 1460,\n",
       "         'CC': 2265,\n",
       "         'VBD': 3043,\n",
       "         'VBN': 2134,\n",
       "         '-NONE-': 6592,\n",
       "         'RB': 2822,\n",
       "         'TO': 2179,\n",
       "         'PRP': 1716,\n",
       "         'RBR': 136,\n",
       "         'WDT': 445,\n",
       "         'VBP': 1321,\n",
       "         'RP': 216,\n",
       "         'PRP$': 766,\n",
       "         'JJS': 182,\n",
       "         'POS': 824,\n",
       "         '``': 712,\n",
       "         'EX': 88,\n",
       "         \"''\": 694,\n",
       "         'WP': 241,\n",
       "         ':': 563,\n",
       "         'JJR': 381,\n",
       "         'WRB': 178,\n",
       "         '$': 724,\n",
       "         'NNPS': 244,\n",
       "         'WP$': 14,\n",
       "         '-LRB-': 120,\n",
       "         '-RRB-': 126,\n",
       "         'PDT': 27,\n",
       "         'RBS': 35,\n",
       "         'FW': 4,\n",
       "         'UH': 3,\n",
       "         'SYM': 1,\n",
       "         'LS': 13,\n",
       "         '#': 16})"
      ]
     },
     "execution_count": 8,
     "metadata": {},
     "output_type": "execute_result"
    }
   ],
   "source": [
    "# question 2: Which is the most frequent tag in the corpus\n",
    "# to count the frequency of elements in a list, the Counter() class from collections\n",
    "# module is very useful, as shown below\n",
    "\n",
    "from collections import Counter\n",
    "tag_counts = Counter(tags)\n",
    "tag_counts"
   ]
  },
  {
   "cell_type": "code",
   "execution_count": 9,
   "id": "04a8115d-ba9d-4b41-8e66-4beedb53c39e",
   "metadata": {},
   "outputs": [
    {
     "data": {
      "text/plain": [
       "[('NN', 13166), ('IN', 9857), ('NNP', 9410), ('DT', 8165), ('-NONE-', 6592)]"
      ]
     },
     "execution_count": 9,
     "metadata": {},
     "output_type": "execute_result"
    }
   ],
   "source": [
    "# the most common tags can be seen using the most_common() method of Counter\n",
    "tag_counts.most_common(5)"
   ]
  },
  {
   "cell_type": "markdown",
   "id": "348c9c09-f789-4909-b06b-edbad7d46a15",
   "metadata": {},
   "source": [
    "Thus, NN is the most common tag followed by IN, NNP, DT, -NONE- etc. You can read the exhaustive list of tags using the NLTK documentation as shown below."
   ]
  },
  {
   "cell_type": "code",
   "execution_count": 11,
   "id": "2e6bf6de-24b8-42ee-a5b1-8c9e06892261",
   "metadata": {},
   "outputs": [
    {
     "name": "stderr",
     "output_type": "stream",
     "text": [
      "[nltk_data] Downloading package tagsets_json to\n",
      "[nltk_data]     C:\\Users\\Manikanta\\AppData\\Roaming\\nltk_data...\n",
      "[nltk_data]   Unzipping help\\tagsets_json.zip.\n"
     ]
    },
    {
     "data": {
      "text/plain": [
       "True"
      ]
     },
     "execution_count": 11,
     "metadata": {},
     "output_type": "execute_result"
    }
   ],
   "source": [
    "nltk.download('tagsets_json')"
   ]
  },
  {
   "cell_type": "code",
   "execution_count": 12,
   "id": "b1fa15fb-c715-4669-8aab-0dc369af1e15",
   "metadata": {},
   "outputs": [
    {
     "name": "stdout",
     "output_type": "stream",
     "text": [
      "$: dollar\n",
      "    $ -$ --$ A$ C$ HK$ M$ NZ$ S$ U.S.$ US$\n",
      "'': closing quotation mark\n",
      "    ' ''\n",
      "(: opening parenthesis\n",
      "    ( [ {\n",
      "): closing parenthesis\n",
      "    ) ] }\n",
      ",: comma\n",
      "    ,\n",
      "--: dash\n",
      "    --\n",
      ".: sentence terminator\n",
      "    . ! ?\n",
      ":: colon or ellipsis\n",
      "    : ; ...\n",
      "CC: conjunction, coordinating\n",
      "    & 'n and both but either et for less minus neither nor or plus so\n",
      "    therefore times v. versus vs. whether yet\n",
      "CD: numeral, cardinal\n",
      "    mid-1890 nine-thirty forty-two one-tenth ten million 0.5 one forty-\n",
      "    seven 1987 twenty '79 zero two 78-degrees eighty-four IX '60s .025\n",
      "    fifteen 271,124 dozen quintillion DM2,000 ...\n",
      "DT: determiner\n",
      "    all an another any both del each either every half la many much nary\n",
      "    neither no some such that the them these this those\n",
      "EX: existential there\n",
      "    there\n",
      "FW: foreign word\n",
      "    gemeinschaft hund ich jeux habeas Haementeria Herr K'ang-si vous\n",
      "    lutihaw alai je jour objets salutaris fille quibusdam pas trop Monte\n",
      "    terram fiche oui corporis ...\n",
      "IN: preposition or conjunction, subordinating\n",
      "    astride among uppon whether out inside pro despite on by throughout\n",
      "    below within for towards near behind atop around if like until below\n",
      "    next into if beside ...\n",
      "JJ: adjective or numeral, ordinal\n",
      "    third ill-mannered pre-war regrettable oiled calamitous first separable\n",
      "    ectoplasmic battery-powered participatory fourth still-to-be-named\n",
      "    multilingual multi-disciplinary ...\n",
      "JJR: adjective, comparative\n",
      "    bleaker braver breezier briefer brighter brisker broader bumper busier\n",
      "    calmer cheaper choosier cleaner clearer closer colder commoner costlier\n",
      "    cozier creamier crunchier cuter ...\n",
      "JJS: adjective, superlative\n",
      "    calmest cheapest choicest classiest cleanest clearest closest commonest\n",
      "    corniest costliest crassest creepiest crudest cutest darkest deadliest\n",
      "    dearest deepest densest dinkiest ...\n",
      "LS: list item marker\n",
      "    A A. B B. C C. D E F First G H I J K One SP-44001 SP-44002 SP-44005\n",
      "    SP-44007 Second Third Three Two * a b c d first five four one six three\n",
      "    two\n",
      "MD: modal auxiliary\n",
      "    can cannot could couldn't dare may might must need ought shall should\n",
      "    shouldn't will would\n",
      "NN: noun, common, singular or mass\n",
      "    common-carrier cabbage knuckle-duster Casino afghan shed thermostat\n",
      "    investment slide humour falloff slick wind hyena override subhumanity\n",
      "    machinist ...\n",
      "NNP: noun, proper, singular\n",
      "    Motown Venneboerger Czestochwa Ranzer Conchita Trumplane Christos\n",
      "    Oceanside Escobar Kreisler Sawyer Cougar Yvette Ervin ODI Darryl CTCA\n",
      "    Shannon A.K.C. Meltex Liverpool ...\n",
      "NNPS: noun, proper, plural\n",
      "    Americans Americas Amharas Amityvilles Amusements Anarcho-Syndicalists\n",
      "    Andalusians Andes Andruses Angels Animals Anthony Antilles Antiques\n",
      "    Apache Apaches Apocrypha ...\n",
      "NNS: noun, common, plural\n",
      "    undergraduates scotches bric-a-brac products bodyguards facets coasts\n",
      "    divestitures storehouses designs clubs fragrances averages\n",
      "    subjectivists apprehensions muses factory-jobs ...\n",
      "PDT: pre-determiner\n",
      "    all both half many quite such sure this\n",
      "POS: genitive marker\n",
      "    ' 's\n",
      "PRP: pronoun, personal\n",
      "    hers herself him himself hisself it itself me myself one oneself ours\n",
      "    ourselves ownself self she thee theirs them themselves they thou thy us\n",
      "PRP$: pronoun, possessive\n",
      "    her his mine my our ours their thy your\n",
      "RB: adverb\n",
      "    occasionally unabatingly maddeningly adventurously professedly\n",
      "    stirringly prominently technologically magisterially predominately\n",
      "    swiftly fiscally pitilessly ...\n",
      "RBR: adverb, comparative\n",
      "    further gloomier grander graver greater grimmer harder harsher\n",
      "    healthier heavier higher however larger later leaner lengthier less-\n",
      "    perfectly lesser lonelier longer louder lower more ...\n",
      "RBS: adverb, superlative\n",
      "    best biggest bluntest earliest farthest first furthest hardest\n",
      "    heartiest highest largest least less most nearest second tightest worst\n",
      "RP: particle\n",
      "    aboard about across along apart around aside at away back before behind\n",
      "    by crop down ever fast for forth from go high i.e. in into just later\n",
      "    low more off on open out over per pie raising start teeth that through\n",
      "    under unto up up-pp upon whole with you\n",
      "SYM: symbol\n",
      "    % & ' '' ''. ) ). * + ,. < = > @ A[fj] U.S U.S.S.R * ** ***\n",
      "TO: \"to\" as preposition or infinitive marker\n",
      "    to\n",
      "UH: interjection\n",
      "    Goodbye Goody Gosh Wow Jeepers Jee-sus Hubba Hey Kee-reist Oops amen\n",
      "    huh howdy uh dammit whammo shucks heck anyways whodunnit honey golly\n",
      "    man baby diddle hush sonuvabitch ...\n",
      "VB: verb, base form\n",
      "    ask assemble assess assign assume atone attention avoid bake balkanize\n",
      "    bank begin behold believe bend benefit bevel beware bless boil bomb\n",
      "    boost brace break bring broil brush build ...\n",
      "VBD: verb, past tense\n",
      "    dipped pleaded swiped regummed soaked tidied convened halted registered\n",
      "    cushioned exacted snubbed strode aimed adopted belied figgered\n",
      "    speculated wore appreciated contemplated ...\n",
      "VBG: verb, present participle or gerund\n",
      "    telegraphing stirring focusing angering judging stalling lactating\n",
      "    hankerin' alleging veering capping approaching traveling besieging\n",
      "    encrypting interrupting erasing wincing ...\n",
      "VBN: verb, past participle\n",
      "    multihulled dilapidated aerosolized chaired languished panelized used\n",
      "    experimented flourished imitated reunifed factored condensed sheared\n",
      "    unsettled primed dubbed desired ...\n",
      "VBP: verb, present tense, not 3rd person singular\n",
      "    predominate wrap resort sue twist spill cure lengthen brush terminate\n",
      "    appear tend stray glisten obtain comprise detest tease attract\n",
      "    emphasize mold postpone sever return wag ...\n",
      "VBZ: verb, present tense, 3rd person singular\n",
      "    bases reconstructs marks mixes displeases seals carps weaves snatches\n",
      "    slumps stretches authorizes smolders pictures emerges stockpiles\n",
      "    seduces fizzes uses bolsters slaps speaks pleads ...\n",
      "WDT: WH-determiner\n",
      "    that what whatever which whichever\n",
      "WP: WH-pronoun\n",
      "    that what whatever whatsoever which who whom whosoever\n",
      "WP$: WH-pronoun, possessive\n",
      "    whose\n",
      "WRB: Wh-adverb\n",
      "    how however whence whenever where whereby whereever wherein whereof why\n",
      "``: opening quotation mark\n",
      "    ` ``\n"
     ]
    }
   ],
   "source": [
    "# list of POS tags in NLTK\n",
    "nltk.help.upenn_tagset()"
   ]
  },
  {
   "cell_type": "code",
   "execution_count": 18,
   "id": "a95251ea-1838-4127-a8db-8cb8726cd12f",
   "metadata": {},
   "outputs": [
    {
     "data": {
      "text/plain": [
       "Counter({('bank', 'NN'): 38, ('Bank', 'NNP'): 32})"
      ]
     },
     "execution_count": 18,
     "metadata": {},
     "output_type": "execute_result"
    }
   ],
   "source": [
    "# question 3: Which tag is most commonly assigned to the word w. Get the tags list that appear for word w and then use the Counter()\n",
    "# Try w ='bank' \n",
    "bank = Counter([i for i in tagged_words if i[0].lower() == 'bank'])\n",
    "bank"
   ]
  },
  {
   "cell_type": "code",
   "execution_count": 19,
   "id": "34902fca-64e9-443e-86d2-53ebc48f7e69",
   "metadata": {},
   "outputs": [
    {
     "data": {
      "text/plain": [
       "Counter({('executive', 'NN'): 40, ('executive', 'JJ'): 28})"
      ]
     },
     "execution_count": 19,
     "metadata": {},
     "output_type": "execute_result"
    }
   ],
   "source": [
    "# question 3: Which tag is most commonly assigned to the word w. Try 'executive' \n",
    "executive = Counter([i for i in tagged_words if i[0].lower() == 'executive'])\n",
    "executive"
   ]
  },
  {
   "cell_type": "markdown",
   "id": "73d05b11-592a-4f88-9a5c-7d44dede1a0f",
   "metadata": {},
   "source": [
    "### 2. Exploratory Analysis Contd.\n",
    "\n",
    "Until now, we were looking at the frequency of tags assigned to particular words, which is the basic idea used by lexicon or unigram taggers. Let's now try observing some rules which can potentially be used for POS tagging. \n",
    "\n",
    "To start with, let's see if the following questions reveal something useful:\n",
    "\n",
    "4. What fraction of words with the tag 'VBD' (verb, past tense) end with the letters 'ed'\n",
    "5. What fraction of words with the tag 'VBG' (verb, present participle/gerund) end with the letters 'ing'"
   ]
  },
  {
   "cell_type": "code",
   "execution_count": 21,
   "id": "a4f43f64-82bb-4e5c-b8b0-52a2d307fcc8",
   "metadata": {},
   "outputs": [
    {
     "name": "stdout",
     "output_type": "stream",
     "text": [
      "0.3881038448899113\n"
     ]
    },
    {
     "data": {
      "text/plain": [
       "[('reported', 'VBD'),\n",
       " ('stopped', 'VBD'),\n",
       " ('studied', 'VBD'),\n",
       " ('led', 'VBD'),\n",
       " ('worked', 'VBD'),\n",
       " ('explained', 'VBD'),\n",
       " ('imposed', 'VBD'),\n",
       " ('dumped', 'VBD'),\n",
       " ('poured', 'VBD'),\n",
       " ('mixed', 'VBD'),\n",
       " ('described', 'VBD'),\n",
       " ('ventilated', 'VBD'),\n",
       " ('contracted', 'VBD'),\n",
       " ('continued', 'VBD'),\n",
       " ('eased', 'VBD'),\n",
       " ('ended', 'VBD'),\n",
       " ('lengthened', 'VBD'),\n",
       " ('reached', 'VBD'),\n",
       " ('resigned', 'VBD'),\n",
       " ('approved', 'VBD')]"
      ]
     },
     "execution_count": 21,
     "metadata": {},
     "output_type": "execute_result"
    }
   ],
   "source": [
    "# 4. how many words with the tag 'VBD' (verb, past tense) end with 'ed'\n",
    "# first get the all the words tagged as VBD\n",
    "past_tense_verbs = [i for i in tagged_words if i[1] =='VBD']\n",
    "\n",
    "# subset the past tense verbs with words ending with 'ed'. (Try w.endswith('ed'))\n",
    "ed_verbs = [i for i in past_tense_verbs  if i[0].endswith('ed')]\n",
    "print(len(ed_verbs) / len(past_tense_verbs))\n",
    "ed_verbs[:20]"
   ]
  },
  {
   "cell_type": "code",
   "execution_count": 23,
   "id": "21e4432d-52ed-4aae-b3a3-63cdaa1f3a7c",
   "metadata": {},
   "outputs": [
    {
     "name": "stdout",
     "output_type": "stream",
     "text": [
      "0.9972602739726028\n"
     ]
    },
    {
     "data": {
      "text/plain": [
       "[('publishing', 'VBG'),\n",
       " ('causing', 'VBG'),\n",
       " ('using', 'VBG'),\n",
       " ('talking', 'VBG'),\n",
       " ('having', 'VBG'),\n",
       " ('making', 'VBG'),\n",
       " ('surviving', 'VBG'),\n",
       " ('including', 'VBG'),\n",
       " ('including', 'VBG'),\n",
       " ('according', 'VBG'),\n",
       " ('remaining', 'VBG'),\n",
       " ('according', 'VBG'),\n",
       " ('declining', 'VBG'),\n",
       " ('rising', 'VBG'),\n",
       " ('yielding', 'VBG'),\n",
       " ('waiving', 'VBG'),\n",
       " ('holding', 'VBG'),\n",
       " ('holding', 'VBG'),\n",
       " ('cutting', 'VBG'),\n",
       " ('manufacturing', 'VBG')]"
      ]
     },
     "execution_count": 23,
     "metadata": {},
     "output_type": "execute_result"
    }
   ],
   "source": [
    "# 5. how many words with the tag 'VBG' end with 'ing'\n",
    "participle_verbs = [i for i in tagged_words if i[1] =='VBG']\n",
    "ing_verbs = [i for i in participle_verbs  if i[0].endswith('ing')]\n",
    "print(len(ing_verbs) / len(participle_verbs))\n",
    "ing_verbs[:20]"
   ]
  },
  {
   "cell_type": "markdown",
   "id": "16387348-ceee-4916-8b5d-b6112a0e366d",
   "metadata": {},
   "source": [
    "## 2. Exploratory Analysis Continued\n",
    "\n",
    "Let's now try observing some tag patterns using the fact the some tags are more likely to apper after certain other tags. For e.g. most nouns NN are usually followed by determiners DT (\"The/DT constitution/NN\"), adjectives JJ usually precede a noun NN (\" A large/JJ building/NN\"), etc. \n",
    "\n",
    "Try answering the following questions:\n",
    "1. What fraction of adjectives JJ are followed by a noun NN? \n",
    "2. What fraction of determiners DT are followed by a noun NN?\n",
    "3. What fraction of modals MD are followed by a verb VB?"
   ]
  },
  {
   "cell_type": "code",
   "execution_count": 26,
   "id": "b9a320e9-0aac-4a60-84e7-e5fbc6c6e9a5",
   "metadata": {},
   "outputs": [
    {
     "name": "stdout",
     "output_type": "stream",
     "text": [
      "5834\n",
      "2611\n",
      "0.4475488515598217\n"
     ]
    }
   ],
   "source": [
    "# question: what fraction of adjectives JJ are followed by a noun NN\n",
    "\n",
    "# create a list of all tags (without the words)\n",
    "tags = [pair[1] for pair in tagged_words]\n",
    "\n",
    "# create a list of JJ tags\n",
    "jj_tags = [t for t in tags if t=='JJ']\n",
    "\n",
    "# create a list of (JJ, NN) tags\n",
    "jj_nn_tags = [(t,tags[index+1]) for index, t in enumerate(tags) \n",
    "              if t=='JJ' and tags[index+1]=='NN']\n",
    "\n",
    "print(len(jj_tags))\n",
    "print(len(jj_nn_tags))\n",
    "print(len(jj_nn_tags) / len(jj_tags))"
   ]
  },
  {
   "cell_type": "code",
   "execution_count": 27,
   "id": "ed1a1746-93dc-4256-8822-76adb2e4892d",
   "metadata": {},
   "outputs": [
    {
     "name": "stdout",
     "output_type": "stream",
     "text": [
      "8165\n",
      "3844\n",
      "0.470789957134109\n"
     ]
    }
   ],
   "source": [
    "# question: what fraction of determiners DT are followed by a noun NN\n",
    "dt_tags = [t for t in tags if t=='DT']\n",
    "\n",
    "dt_nn_tags =  [(t,tags[index+1]) for index, t in enumerate(tags) \n",
    "              if t=='DT' and tags[index+1]=='NN']\n",
    "\n",
    "print(len(dt_tags))\n",
    "print(len(dt_nn_tags))\n",
    "print(len(dt_nn_tags) / len(dt_tags))"
   ]
  },
  {
   "cell_type": "code",
   "execution_count": 28,
   "id": "79a84e03-2209-4c2d-b554-361fce5f3d3c",
   "metadata": {},
   "outputs": [
    {
     "name": "stdout",
     "output_type": "stream",
     "text": [
      "927\n",
      "756\n",
      "0.8155339805825242\n"
     ]
    }
   ],
   "source": [
    "# question: what fraction of modals MD are followed by a verb VB?\n",
    "md_tags = [t for t in tags if t=='MD']\n",
    "md_vb_tags = [(t,tags[index+1]) for index, t in enumerate(tags) \n",
    "              if t=='MD' and tags[index+1]=='VB']\n",
    "\n",
    "print(len(md_tags))\n",
    "print(len(md_vb_tags))\n",
    "print(len(md_vb_tags) / len(md_tags))"
   ]
  },
  {
   "cell_type": "markdown",
   "id": "f6c14697-0381-4027-a144-b1d1604b85f2",
   "metadata": {},
   "source": [
    "Thus, we see that the probability of certain tags appearing after certain other tags is quite high, and this fact can be used to build quite efficient POS tagging algorithms. "
   ]
  },
  {
   "cell_type": "markdown",
   "id": "ee7bd8d1-f328-49cd-818f-da4670214603",
   "metadata": {},
   "source": [
    "## 3. Lexicon and Rule-Based Models for POS Tagging\n",
    "\n",
    "Let's now see lexicon and rule-based models for POS tagging. We'll first split the corpus into training and test sets and then use built-in NLTK taggers. \n",
    "\n",
    "### 3.1 Splitting into Train and Test Sets"
   ]
  },
  {
   "cell_type": "code",
   "execution_count": 29,
   "id": "84b8ea1e-ce89-4f0a-95b1-7943d511d71a",
   "metadata": {},
   "outputs": [
    {
     "name": "stdout",
     "output_type": "stream",
     "text": [
      "2739\n",
      "1175\n",
      "[[('It', 'PRP'), ('is', 'VBZ'), ('a', 'DT'), ('passion', 'NN'), ('that', 'WDT'), ('*T*-227', '-NONE-'), ('usually', 'RB'), ('stays', 'VBZ'), ('in', 'IN'), ('the', 'DT'), ('tower', 'NN'), (',', ','), ('however', 'RB'), ('.', '.')], [('Among', 'IN'), ('segments', 'NNS'), ('that', 'WDT'), ('*T*-1', '-NONE-'), ('continue', 'VBP'), ('*-2', '-NONE-'), ('to', 'TO'), ('operate', 'VB'), (',', ','), ('though', 'RB'), (',', ','), ('the', 'DT'), ('company', 'NN'), (\"'s\", 'POS'), ('steel', 'NN'), ('division', 'NN'), ('continued', 'VBD'), ('*-3', '-NONE-'), ('to', 'TO'), ('suffer', 'VB'), ('from', 'IN'), ('soft', 'JJ'), ('demand', 'NN'), ('for', 'IN'), ('its', 'PRP$'), ('tubular', 'JJ'), ('goods', 'NNS'), ('serving', 'VBG'), ('the', 'DT'), ('oil', 'NN'), ('industry', 'NN'), ('and', 'CC'), ('other', 'JJ'), ('markets', 'NNS'), ('.', '.')]]\n"
     ]
    }
   ],
   "source": [
    "# splitting into train and test\n",
    "random.seed(1234)\n",
    "train_set, test_set = train_test_split(wsj, test_size=0.3)\n",
    "\n",
    "print(len(train_set))\n",
    "print(len(test_set))\n",
    "print(train_set[:2])"
   ]
  },
  {
   "cell_type": "markdown",
   "id": "f6b7d4b7-f62c-46fd-8655-f21d0676e993",
   "metadata": {},
   "source": [
    "### 3.2 Lexicon (Unigram) Tagger\n",
    "\n",
    "Let's now try training a lexicon (or a unigram) tagger which assigns the most commonly assigned tag to a word. \n",
    "\n",
    "In NLTK, the `UnigramTagger()`  can be used to train such a model."
   ]
  },
  {
   "cell_type": "code",
   "execution_count": 30,
   "id": "beee2bd3-4706-4330-b4c2-653f618bae65",
   "metadata": {},
   "outputs": [
    {
     "name": "stderr",
     "output_type": "stream",
     "text": [
      "C:\\Users\\Manikanta\\AppData\\Local\\Temp\\ipykernel_12024\\2670269465.py:3: DeprecationWarning: \n",
      "  Function evaluate() has been deprecated.  Use accuracy(gold)\n",
      "  instead.\n",
      "  unigram_tagger.evaluate(test_set)\n"
     ]
    },
    {
     "data": {
      "text/plain": [
       "0.8721051942954338"
      ]
     },
     "execution_count": 30,
     "metadata": {},
     "output_type": "execute_result"
    }
   ],
   "source": [
    "# Lexicon (or unigram tagger)\n",
    "unigram_tagger = nltk.UnigramTagger(train_set)\n",
    "unigram_tagger.evaluate(test_set)"
   ]
  },
  {
   "cell_type": "code",
   "execution_count": 32,
   "id": "798100e6-10a4-4fc6-ae45-4c71d8ba9fbf",
   "metadata": {},
   "outputs": [
    {
     "name": "stderr",
     "output_type": "stream",
     "text": [
      "C:\\Users\\Manikanta\\AppData\\Local\\Temp\\ipykernel_12024\\3209692971.py:3: DeprecationWarning: \n",
      "  Function evaluate() has been deprecated.  Use accuracy(gold)\n",
      "  instead.\n",
      "  bigram_tagger.evaluate(test_set)\n"
     ]
    },
    {
     "data": {
      "text/plain": [
       "0.14529634960094204"
      ]
     },
     "execution_count": 32,
     "metadata": {},
     "output_type": "execute_result"
    }
   ],
   "source": [
    "# Lexicon (or bigram tagger)\n",
    "bigram_tagger = nltk.BigramTagger(train_set)\n",
    "bigram_tagger.evaluate(test_set)"
   ]
  },
  {
   "cell_type": "markdown",
   "id": "2eef6a75-2ef4-4d7b-b8c5-c5cd355ecaa1",
   "metadata": {},
   "source": [
    "Even a simple unigram tagger seems to perform fairly well. "
   ]
  },
  {
   "cell_type": "markdown",
   "id": "e57792af-8359-49af-91ce-d053b622c2d0",
   "metadata": {},
   "source": [
    "### 3.3. Rule-Based (Regular Expression) Tagger\n",
    "\n",
    "Now let's build a rule-based, or regular expression based tagger. In NLTK, the `RegexpTagger()` can be provided with handwritten regular expression patterns, as shown below.\n",
    "\n",
    "In the example below, we specify regexes for gerunds and past tense verbs (as seen above), 3rd singular present verb (creates, moves, makes etc.), modal verbs MD (should, would, could), possesive nouns (partner's, bank's etc.), plural nouns (banks, institutions), cardinal numbers CD and finally, if none of the above rules are applicable to a word, we tag the most frequent tag NN.  "
   ]
  },
  {
   "cell_type": "code",
   "execution_count": 33,
   "id": "5734fd2a-d131-4901-8e21-fc862964f75c",
   "metadata": {},
   "outputs": [],
   "source": [
    "# specify patterns for tagging\n",
    "# example from the NLTK book\n",
    "patterns = [\n",
    "    (r'.*ing$', 'VBG'),              # gerund\n",
    "    (r'.*ed$', 'VBD'),               # past tense\n",
    "    (r'.*es$', 'VBZ'),               # 3rd singular present\n",
    "    (r'.*ould$', 'MD'),              # modals\n",
    "    (r'.*\\'s$', 'NN$'),              # possessive nouns\n",
    "    (r'.*s$', 'NNS'),                # plural nouns\n",
    "    (r'^-?[0-9]+(.[0-9]+)?$', 'CD'), # cardinal numbers\n",
    "    (r'.*', 'NN')                    # nouns\n",
    "]"
   ]
  },
  {
   "cell_type": "code",
   "execution_count": 34,
   "id": "c7b7f3a8-bfe0-412f-889a-d2edc41c84b6",
   "metadata": {},
   "outputs": [],
   "source": [
    "regexp_tagger = nltk.RegexpTagger(patterns)\n",
    "# help(regexp_tagger)"
   ]
  },
  {
   "cell_type": "code",
   "execution_count": 35,
   "id": "598cafb1-1e9f-4e0e-95c8-b34d3c719cc9",
   "metadata": {},
   "outputs": [
    {
     "name": "stderr",
     "output_type": "stream",
     "text": [
      "C:\\Users\\Manikanta\\AppData\\Local\\Temp\\ipykernel_12024\\792752471.py:1: DeprecationWarning: \n",
      "  Function evaluate() has been deprecated.  Use accuracy(gold)\n",
      "  instead.\n",
      "  regexp_tagger.evaluate(test_set)\n"
     ]
    },
    {
     "data": {
      "text/plain": [
       "0.2181734920842601"
      ]
     },
     "execution_count": 35,
     "metadata": {},
     "output_type": "execute_result"
    }
   ],
   "source": [
    "regexp_tagger.evaluate(test_set)"
   ]
  },
  {
   "cell_type": "markdown",
   "id": "e06835c8-9742-455e-8a20-a2fa5e006e4b",
   "metadata": {},
   "source": [
    "### 3.4 Combining Taggers\n",
    "\n",
    "Let's now try combining the taggers created above. We saw that the rule-based tagger by itself is quite ineffective since we've only written a handful of rules. However, if we could combine the lexicon and the rule-based tagger, we can potentially create a tagger much better than any of the individual ones.\n",
    "\n",
    "NLTK provides a convenient way to combine taggers using the 'backup' argument. In the following code, we create a regex tagger which is used as a backup tagger to the lexicon tagger, i.e. when the tagger is not able to tag using the lexicon (in case of a new word not in the vocabulary), it uses the rule-based tagger. \n",
    "\n",
    "Also, note that the rule-based tagger itself is backed up by the tag 'NN'.\n"
   ]
  },
  {
   "cell_type": "code",
   "execution_count": 36,
   "id": "37d6f4e1-c1e4-4535-ab17-3775c0c91a8d",
   "metadata": {},
   "outputs": [
    {
     "name": "stderr",
     "output_type": "stream",
     "text": [
      "C:\\Users\\Manikanta\\AppData\\Local\\Temp\\ipykernel_12024\\2535250660.py:7: DeprecationWarning: \n",
      "  Function evaluate() has been deprecated.  Use accuracy(gold)\n",
      "  instead.\n",
      "  lexicon_tagger.evaluate(test_set)\n"
     ]
    },
    {
     "data": {
      "text/plain": [
       "0.9046513149286929"
      ]
     },
     "execution_count": 36,
     "metadata": {},
     "output_type": "execute_result"
    }
   ],
   "source": [
    "# rule based tagger\n",
    "rule_based_tagger = nltk.RegexpTagger(patterns)\n",
    "\n",
    "# lexicon backed up by the rule-based tagger\n",
    "lexicon_tagger = nltk.UnigramTagger(train_set, backoff=rule_based_tagger)\n",
    "\n",
    "lexicon_tagger.evaluate(test_set)"
   ]
  },
  {
   "cell_type": "code",
   "execution_count": null,
   "id": "40830719-bb17-4996-9436-0cc99d961d9a",
   "metadata": {},
   "outputs": [],
   "source": []
  }
 ],
 "metadata": {
  "kernelspec": {
   "display_name": "Python 3 (ipykernel)",
   "language": "python",
   "name": "python3"
  },
  "language_info": {
   "codemirror_mode": {
    "name": "ipython",
    "version": 3
   },
   "file_extension": ".py",
   "mimetype": "text/x-python",
   "name": "python",
   "nbconvert_exporter": "python",
   "pygments_lexer": "ipython3",
   "version": "3.10.5"
  }
 },
 "nbformat": 4,
 "nbformat_minor": 5
}

{
 "cells": [
  {
   "cell_type": "markdown",
   "id": "1392d3c1-18d9-4ab5-9a9f-377102a88c9a",
   "metadata": {},
   "source": [
    "# Markov Model\n",
    "\n",
    "A Markov Model is a probabilistic model used to describe a system that transitions between states. It is based on the Markov Property, which assumes that the future state depends only on the current state and not on the sequence of previous states.\n",
    "\n",
    "## Key Components of a Markov Model\n",
    "\n",
    "- **States**: The different conditions or configurations the system can be in (e.g., sunny, rainy, cloudy in a weather model).\n",
    "  \n",
    "- **Transition Probabilities**: The probabilities of moving from one state to another (e.g., \n",
    "  \\[\n",
    "  P(S_{t+1} \\mid S_t)\n",
    "  \\]).\n",
    "\n",
    "- **Initial State Distribution**: The probabilities of the system starting in each state.\n",
    "\n",
    "## Types of Markov Models\n",
    "\n",
    "- **Discrete Markov Chain (DMC)**: Transitions happen in discrete time steps.\n",
    "  \n",
    "- **Hidden Markov Model (HMM)**: The system's states are not directly observable (hidden), and outputs (observations) provide indirect information about the states.\n",
    "\n",
    "## Applications\n",
    "\n",
    "- **Natural Language Processing (NLP)**: Part-of-speech tagging, speech recognition.\n",
    "  \n",
    "- **Bioinformatics**: DNA sequence analysis.\n",
    "  \n",
    "- **Finance**: Modeling stock market trends.\n",
    "  \n",
    "- **Robotics**: Path planning and decision-making.\n",
    "\n",
    "---\n"
   ]
  },
  {
   "cell_type": "code",
   "execution_count": null,
   "id": "94cfbda7-4e97-4ff1-a36d-f6b5c8492255",
   "metadata": {},
   "outputs": [],
   "source": []
  }
 ],
 "metadata": {
  "kernelspec": {
   "display_name": "Python 3 (ipykernel)",
   "language": "python",
   "name": "python3"
  },
  "language_info": {
   "codemirror_mode": {
    "name": "ipython",
    "version": 3
   },
   "file_extension": ".py",
   "mimetype": "text/x-python",
   "name": "python",
   "nbconvert_exporter": "python",
   "pygments_lexer": "ipython3",
   "version": "3.10.5"
  }
 },
 "nbformat": 4,
 "nbformat_minor": 5
}

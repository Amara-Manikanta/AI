{
 "cells": [
  {
   "cell_type": "markdown",
   "id": "2ac9f1a6-d91d-4428-b5c2-d88dc8f3f34f",
   "metadata": {},
   "source": [
    "# Probabilistic Context-Free Grammar (PCFG)\n",
    "- A PCFG is an extension of a standard Context-Free Grammar (CFG) where each production rule is assigned a probability. These probabilities are learned from annotated corpora (e.g., treebanks) and enable the parser to select the most likely parse for ambiguous sentences."
   ]
  },
  {
   "cell_type": "markdown",
   "id": "c652939c-4778-4041-a1e4-86e133251e52",
   "metadata": {},
   "source": [
    "Key Components of a PCFG\n",
    "1. Non-terminal Symbols (e.g., S, NP, VP).\n",
    "\n",
    "2. Terminal Symbols (e.g., \"cat\", \"run\").\n",
    "\n",
    "3. Production Rules with probabilities:\n",
    "\n",
    "\n",
    "Each rule has the form:\n",
    "\n",
    " A → α [p]\n",
    "    \n",
    "    - A: Non-terminal.\n",
    "    - α: Sequence of terminals/non-terminals.\n",
    "    - p: Probability of the rule (0 ≤ p ≤ 1).\n",
    "    - Constraint: For all rules with the same left-hand side (LHS) A, the probabilities must sum to 1\n",
    "4. Start Symbol (typically S)."
   ]
  },
  {
   "cell_type": "markdown",
   "id": "79da3a85-cf14-469a-8231-d6cbcbde3430",
   "metadata": {},
   "source": [
    "---"
   ]
  },
  {
   "cell_type": "markdown",
   "id": "9225c69c-fb7e-4db4-9f60-a21082aa4f68",
   "metadata": {},
   "source": [
    "### Example PCFG"
   ]
  },
  {
   "cell_type": "raw",
   "id": "f4f79346-9495-4caa-ab39-b3b3dd21cc6c",
   "metadata": {},
   "source": [
    "S → NP VP [0.8]  \n",
    "S → VP [0.2]  \n",
    "NP → Det N [0.6]  \n",
    "NP → Det Adj N [0.4]  \n",
    "VP → V NP [0.7]  \n",
    "VP → V [0.3]  \n",
    "Det → \"the\" [0.5] | \"a\" [0.5]  \n",
    "N → \"cat\" [0.4] | \"dog\" [0.6]  \n",
    "Adj → \"quick\" [0.7] | \"brown\" [0.3]  \n",
    "V → \"chased\" [0.9] | \"slept\" [0.1]"
   ]
  },
  {
   "cell_type": "markdown",
   "id": "afabb857-eda2-43a5-9694-24a96203ec6c",
   "metadata": {},
   "source": [
    "### How PCFGs Work\n",
    "1. **Learning Rule Probabilities**\n",
    "\n",
    "Probabilities are derived from annotated corpora (e.g., the Penn Treebank) using **Maximum Likelihood Estimation (MLE)**:\n",
    "- **Count(A → α)**: Number of times the rule A→α appears in the corpus.\n",
    "- **Count(A)**: Total number of times A appears as the LHS in all rules.\n",
    "\n",
    "**Example**:\n",
    "If the rule VP → V NP occurs 700 times and all VP rules occur 1000 times: \n",
    "\n",
    "\n",
    "P(VP→V NP) = 1000 / 700 =0.7\n",
    "\n",
    "2. **Parsing with PCFGs**:\n",
    "\n",
    "The goal is to find the most probable parse tree for a sentence. This is done using:\n",
    "- **CKY Algorithm (Cocke-Kasami-Younger)**: A dynamic programming algorithm for PCFGs.\n",
    "- **Viterbi Algorithm**: Tracks the highest-probability subtree for each span of the sentence.\n",
    "\n",
    "**CKY Algorithm Steps**:\n",
    "1. **Initialization**: Fill diagonal cells with terminal probabilities.\n",
    "2. **Iteration**: Combine subtrees bottom-up, calculating probabilities.\n",
    "3. **Backtracking**: Reconstruct the highest-probability tree from the table."
   ]
  },
  {
   "cell_type": "markdown",
   "id": "9a6967f4-b667-4037-8c50-8ac2f1fd2325",
   "metadata": {},
   "source": []
  },
  {
   "cell_type": "code",
   "execution_count": null,
   "id": "60f472fe-641f-4983-8daa-1664faaf5d94",
   "metadata": {},
   "outputs": [],
   "source": []
  }
 ],
 "metadata": {
  "kernelspec": {
   "display_name": "Python 3 (ipykernel)",
   "language": "python",
   "name": "python3"
  },
  "language_info": {
   "codemirror_mode": {
    "name": "ipython",
    "version": 3
   },
   "file_extension": ".py",
   "mimetype": "text/x-python",
   "name": "python",
   "nbconvert_exporter": "python",
   "pygments_lexer": "ipython3",
   "version": "3.10.5"
  }
 },
 "nbformat": 4,
 "nbformat_minor": 5
}

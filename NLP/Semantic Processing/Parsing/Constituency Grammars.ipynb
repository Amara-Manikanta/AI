{
 "cells": [
  {
   "cell_type": "markdown",
   "id": "e45e391b-8f11-44a5-81e4-51a4b0a100aa",
   "metadata": {},
   "source": [
    "# Constituency Grammars in NLP\n",
    "\n",
    "- Constituency Grammars in NLP are a set of grammatical rules that describe \n",
    "the hierarchical structure of a sentence by grouping words into meaningful \n",
    "phrases or constituents.\n",
    "- These grammars define how smaller parts of a \n",
    "sentence combine to form larger units in a structured, tree-like representation. \n",
    "- Constituency grammars are widely used in natural language processing for \n",
    "tasks like parsing, syntax analysis, and semantic interpretation.\n",
    "\n",
    "\n",
    "# Key Concepts in Constituency Grammars\n",
    "\n",
    "1. **Constituents**:\n",
    "    - Subunits of a sentence, such as words or phrases, that function as a single unit.\n",
    "    - Examples of constituents include:\n",
    "      - **Noun Phrase (NP)**: \"The black cat\"\n",
    "      - **Verb Phrase (VP)**: \"sat on the mat\"\n",
    "      - **Prepositional Phrase (PP)**: \"on the mat\"\n",
    "\n",
    "2. **Phrase Structure Rules**:\n",
    "    - Define how words and phrases combine to form valid sentences.\n",
    "    - **Example rules**:\n",
    "      - S -> NP VP: A sentence (S) consists of a noun phrase (NP) followed by a verb phrase (VP).\n",
    "      - NP -> Det N: A noun phrase consists of a determiner (Det) followed by a noun (N).\n",
    "\n",
    "3. **Parse Tree**:\n",
    "    - A hierarchical tree representation of the sentence structure based on constituency grammar.\n",
    "    - Example for \"The black cat sat on the mat\":\n",
    "\n",
    "      (S\n",
    "        (NP (Det The) (Adj black) (N cat))\n",
    "        (VP (V sat)\n",
    "            (PP (P on)\n",
    "                (NP (Det the) (N mat)))))\n",
    "---\n",
    "\n",
    "# Types of Constituency Grammars\n",
    "\n",
    "1. **Context-Free Grammar (CFG)**:\n",
    "    - Each production rule has a single non-terminal on the left-hand side.\n",
    "    - Widely used in NLP for constituency parsing.\n",
    "    - Example:\n",
    "      S -> NP VP\n",
    "      NP -> Det N\n",
    "      VP -> V NP\n",
    "      Det -> 'the' | 'a'\n",
    "      N -> 'cat' | 'dog'\n",
    "      V -> 'saw' | 'chased'\n",
    "\n",
    "2. **Probabilistic Context-Free Grammar (PCFG)**:\n",
    "    - Extends CFG by assigning probabilities to each rule.\n",
    "    - Useful for modeling the likelihood of different sentence structures.\n",
    "    - Example:\n",
    "      S -> NP VP [0.9]\n",
    "      S -> VP [0.1]\n",
    "---\n",
    "\n",
    "# Applications of Constituency Grammars\n",
    "\n",
    "1. **Syntactic Parsing**:\n",
    "    - Breaks a sentence into its constituent parts and arranges them in a tree structure.\n",
    "\n",
    "2. **Machine Translation**:\n",
    "    - Helps in accurately translating phrases while preserving grammatical structure.\n",
    "\n",
    "3. **Information Extraction**:\n",
    "    - Extracts meaningful chunks, such as names or entities, based on syntactic structure.\n",
    "\n",
    "4. **Question Answering**:\n",
    "    - Identifies relevant parts of the question and the text to derive answers.\n",
    "---"
   ]
  },
  {
   "cell_type": "markdown",
   "id": "b11440fc-fb86-4514-8fbe-072064ef9e49",
   "metadata": {},
   "source": [
    "# Parsing Techniques in NLP: Top-Down and Bottom-Up Parsing\n",
    "\n",
    "\"\"\"\n",
    "Parsing is a crucial process in Natural Language Processing (NLP) where a sentence \n",
    "is analyzed to understand its grammatical structure. Two common parsing techniques are \n",
    "Top-Down Parsing and Bottom-Up Parsing.\n",
    "\"\"\"\n",
    "\n",
    "# 1. Top-Down Parsing\n",
    "\n",
    "\"\"\"\n",
    "- Starts with the root of the parse tree (the start symbol of the grammar) and works \n",
    "  downwards towards the leaves (input sentence).\n",
    "- It generates all possible parse trees and checks which one matches the input sentence.\n",
    "\n",
    "### Key Features:\n",
    "1. Starts with the highest-level rule (e.g., S -> NP VP).\n",
    "2. Expands non-terminals recursively using grammar rules.\n",
    "3. Stops when the derived string matches the input sentence or is fully expanded.\n",
    "\n",
    "### Advantages:\n",
    "- Easier to implement.\n",
    "- Works well with predictive parsing (if grammar is suitable).\n",
    "\n",
    "### Disadvantages:\n",
    "- May generate invalid parse trees (not corresponding to the input sentence).\n",
    "- Can lead to inefficiency due to backtracking.\n",
    "- **Left Recursion**:  \n",
    "Rules like `A → Aα` cause infinite loops.  \n",
    "**Solution**: Rewrite the grammar (e.g., `A → βA'`).  \n",
    "\n",
    "- **Ambiguity**:  \n",
    "Multiple valid parses (e.g., \"I saw the man with the telescope\").  \n",
    "\n"
   ]
  },
  {
   "cell_type": "markdown",
   "id": "9e2ecbe9-e6fa-465e-9594-7f362aecbdcb",
   "metadata": {},
   "source": [
    "#### Top-Down Parsing: Notes with Example\n"
   ]
  },
  {
   "cell_type": "raw",
   "id": "8b6740a0-d186-4b16-a169-1197296d8ec6",
   "metadata": {},
   "source": [
    "S → NP VP\n",
    "NP → Det N | Det Adj N\n",
    "VP → V NP\n",
    "Det → \"the\" | \"a\"\n",
    "N → \"cat\" | \"dog\"\n",
    "Adj → \"quick\" | \"brown\"\n",
    "V → \"chased\" | \"sat\""
   ]
  },
  {
   "cell_type": "markdown",
   "id": "5da8d633-92af-4249-bcee-7f181a443dff",
   "metadata": {},
   "source": [
    "\n",
    "## Input Sentence\n",
    "\"The quick brown cat chased a dog\"\n",
    "\n",
    "---\n",
    "\n",
    "## Parsing Steps (Top-Down Approach)\n",
    "\n",
    "### **Step 1: Start with the Root Symbol (S)**\n",
    "- **Goal**: Expand the start symbol `S` to match the entire input.  \n",
    "- **Rule Applied**: `S → NP VP`  \n",
    "- **Parse Tree**:  "
   ]
  },
  {
   "cell_type": "raw",
   "id": "85b2eea9-2eb5-4607-b983-9a78bae0e084",
   "metadata": {},
   "source": [
    "S\n",
    "├── NP\n",
    "└── VP"
   ]
  },
  {
   "cell_type": "markdown",
   "id": "0f69cb1a-83da-455d-abc9-f5124d5c1d7c",
   "metadata": {},
   "source": [
    "- **Remaining Input**: `The quick brown cat chased a dog`\n",
    "\n",
    "---\n",
    "\n",
    "### **Step 2: Expand NP (Noun Phrase)**\n",
    "- **Goal**: Expand `NP` to match the first part of the sentence (`The quick brown cat`).  \n",
    "- **Rule Applied**: `NP → Det Adj N` (since adjectives are present).  \n",
    "- **Parse Tree**:  "
   ]
  },
  {
   "cell_type": "raw",
   "id": "f4b9d19e-f379-4886-a270-40604cf4490a",
   "metadata": {},
   "source": [
    "S\n",
    "├── NP\n",
    "│ ├── Det\n",
    "│ ├── Adj\n",
    "│ ├── Adj\n",
    "│ └── N\n",
    "└── VP"
   ]
  },
  {
   "cell_type": "markdown",
   "id": "77a9266d-b3da-46a1-b0ce-8ea95854cc70",
   "metadata": {},
   "source": [
    "- **Remaining Input**: `The quick brown cat chased a dog`\n",
    "\n",
    "---\n",
    "\n",
    "### **Step 3: Match Terminals in NP**\n",
    "1. **Det → \"The\"**  \n",
    " - **Matched**: `The`  \n",
    " - **Remaining Input**: `quick brown cat chased a dog`\n",
    "\n",
    "2. **Adj → \"quick\"**  \n",
    " - **Matched**: `quick`  \n",
    " - **Remaining Input**: `brown cat chased a dog`\n",
    "\n",
    "3. **Adj → \"brown\"**  \n",
    " - **Matched**: `brown`  \n",
    " - **Remaining Input**: `cat chased a dog`\n",
    "\n",
    "4. **N → \"cat\"**  \n",
    " - **Matched**: `cat`  \n",
    " - **Remaining Input**: `chased a dog`\n",
    "\n",
    "- **Updated Parse Tree**:  "
   ]
  },
  {
   "cell_type": "raw",
   "id": "46f180d9-fb0e-4f66-afc9-0adf19fafabc",
   "metadata": {},
   "source": [
    "S\n",
    "├── NP\n",
    "│ ├── Det (The)\n",
    "│ ├── Adj (quick)\n",
    "│ ├── Adj (brown)\n",
    "│ └── N (cat)\n",
    "└── VP"
   ]
  },
  {
   "cell_type": "markdown",
   "id": "8837557b-f493-4a7d-85d3-5973ad4b24f0",
   "metadata": {},
   "source": [
    "\n",
    "---\n",
    "\n",
    "### **Step 4: Expand VP (Verb Phrase)**\n",
    "- **Goal**: Expand `VP` to match the remaining input (`chased a dog`).  \n",
    "- **Rule Applied**: `VP → V NP`  \n",
    "- **Parse Tree**:  "
   ]
  },
  {
   "cell_type": "raw",
   "id": "3bca8454-bfd7-4115-a0a7-703e98ad1336",
   "metadata": {},
   "source": [
    "S\n",
    "├── NP\n",
    "│ ├── Det (The)\n",
    "│ ├── Adj (quick)\n",
    "│ ├── Adj (brown)\n",
    "│ └── N (cat)\n",
    "└── VP\n",
    "├── V\n",
    "└── NP"
   ]
  },
  {
   "cell_type": "markdown",
   "id": "d332ab25-c137-4070-a163-679dc189da50",
   "metadata": {},
   "source": [
    "- **Remaining Input**: `chased a dog`\n",
    "\n",
    "---\n",
    "\n",
    "### **Step 5: Match V (Verb)**\n",
    "- **V → \"chased\"**  \n",
    "- **Matched**: `chased`  \n",
    "- **Remaining Input**: `a dog`\n",
    "\n",
    "- **Updated Parse Tree**:  "
   ]
  },
  {
   "cell_type": "code",
   "execution_count": null,
   "id": "6cea8a05-4188-4e7e-b654-cec4c61679ed",
   "metadata": {},
   "outputs": [],
   "source": [
    "S\n",
    "├── NP\n",
    "│ └── ...\n",
    "└── VP\n",
    "├── V (chased)\n",
    "└── NP"
   ]
  },
  {
   "cell_type": "markdown",
   "id": "5c511b53-a19a-4233-b177-a4b2831111c9",
   "metadata": {},
   "source": [
    "\n",
    "---\n",
    "\n",
    "### **Step 6: Expand NP in VP**\n",
    "- **Goal**: Expand `NP` to match `a dog`.  \n",
    "- **Rule Applied**: `NP → Det N` (no adjectives).  \n",
    "- **Parse Tree**:  "
   ]
  },
  {
   "cell_type": "raw",
   "id": "f2882ead-14b6-4e95-bad4-53206dd19b0f",
   "metadata": {},
   "source": [
    "S\n",
    "├── NP\n",
    "│ └── ...\n",
    "└── VP\n",
    "├── V (chased)\n",
    "└── NP\n",
    "├── Det\n",
    "└── N"
   ]
  },
  {
   "cell_type": "markdown",
   "id": "5c81f8bd-77c3-4d18-bfe2-d2404f1850ac",
   "metadata": {},
   "source": [
    "- **Remaining Input**: `a dog`\n",
    "\n",
    "---\n",
    "\n",
    "### **Step 7: Match Terminals in NP**\n",
    "1. **Det → \"a\"**  \n",
    " - **Matched**: `a`  \n",
    " - **Remaining Input**: `dog`\n",
    "\n",
    "2. **N → \"dog\"**  \n",
    " - **Matched**: `dog`  \n",
    " - **Remaining Input**: (empty)\n",
    "\n",
    "- **Final Parse Tree**:  "
   ]
  },
  {
   "cell_type": "raw",
   "id": "b5dcf9d3-fbaa-42fa-9ac8-b162ba9ed2a5",
   "metadata": {},
   "source": [
    "S\n",
    "├── NP\n",
    "│ ├── Det (The)\n",
    "│ ├── Adj (quick)\n",
    "│ ├── Adj (brown)\n",
    "│ └── N (cat)\n",
    "└── VP\n",
    "├── V (chased)\n",
    "└── NP\n",
    "├── Det (a)\n",
    "└── N (dog)"
   ]
  },
  {
   "cell_type": "markdown",
   "id": "424883d9-a491-4b6d-a96e-ec120ca89663",
   "metadata": {},
   "source": [
    "---"
   ]
  },
  {
   "cell_type": "code",
   "execution_count": 4,
   "id": "455c2728-26ad-47d0-a912-820814d65854",
   "metadata": {},
   "outputs": [],
   "source": [
    "#Specification of CFG\n",
    "import nltk \n",
    "\n",
    "grammar = nltk.CFG.fromstring(\"\"\"\n",
    "S -> NP VP\n",
    "NP -> Det N | Det N PP\n",
    "VP -> V | V NP | V NP PP\n",
    "PP -> P NP\n",
    "\n",
    "Det -> 'a' | 'an' | 'the'\n",
    "N -> 'man' | 'park' | 'dog' | 'telescope'\n",
    "V -> 'saw' | 'walked'\n",
    "P -> 'in' | 'with'\n",
    "\"\"\")"
   ]
  },
  {
   "cell_type": "code",
   "execution_count": 5,
   "id": "9426d8f3-a1b2-4bec-ac40-2dcf2778fa96",
   "metadata": {},
   "outputs": [
    {
     "name": "stdout",
     "output_type": "stream",
     "text": [
      "(S\n",
      "  (NP (Det the) (N man))\n",
      "  (VP\n",
      "    (V saw)\n",
      "    (NP\n",
      "      (Det a)\n",
      "      (N dog)\n",
      "      (PP\n",
      "        (P in)\n",
      "        (NP\n",
      "          (Det the)\n",
      "          (N park)\n",
      "          (PP (P with) (NP (Det a) (N telescope))))))))\n",
      "(S\n",
      "  (NP (Det the) (N man))\n",
      "  (VP\n",
      "    (V saw)\n",
      "    (NP (Det a) (N dog))\n",
      "    (PP\n",
      "      (P in)\n",
      "      (NP\n",
      "        (Det the)\n",
      "        (N park)\n",
      "        (PP (P with) (NP (Det a) (N telescope)))))))\n",
      "(S\n",
      "  (NP (Det the) (N man))\n",
      "  (VP\n",
      "    (V saw)\n",
      "    (NP (Det a) (N dog) (PP (P in) (NP (Det the) (N park))))\n",
      "    (PP (P with) (NP (Det a) (N telescope)))))\n"
     ]
    }
   ],
   "source": [
    "str = \"the man saw a dog in the park with a telescope\"\n",
    "\n",
    "from nltk.parse import RecursiveDescentParser\n",
    "\n",
    "#Using a top-down parser\n",
    "rdstr = RecursiveDescentParser(grammar)\n",
    "\n",
    "#Print each of the trees \n",
    "for tree in rdstr.parse(str.split()):\n",
    "    print(tree)"
   ]
  },
  {
   "cell_type": "code",
   "execution_count": 7,
   "id": "e8398fd1-7664-4788-9d7d-0cf5c7b26c59",
   "metadata": {},
   "outputs": [
    {
     "name": "stdout",
     "output_type": "stream",
     "text": [
      "Collecting svgling\n",
      "  Downloading svgling-0.5.0-py3-none-any.whl.metadata (7.4 kB)\n",
      "Collecting svgwrite (from svgling)\n",
      "  Downloading svgwrite-1.4.3-py3-none-any.whl.metadata (8.8 kB)\n",
      "Downloading svgling-0.5.0-py3-none-any.whl (31 kB)\n",
      "Downloading svgwrite-1.4.3-py3-none-any.whl (67 kB)\n",
      "Installing collected packages: svgwrite, svgling\n",
      "Successfully installed svgling-0.5.0 svgwrite-1.4.3\n",
      "Note: you may need to restart the kernel to use updated packages.\n"
     ]
    }
   ],
   "source": [
    "pip install svgling"
   ]
  },
  {
   "cell_type": "code",
   "execution_count": 8,
   "id": "406ba38e-f33c-48cd-a73c-41e56c615d61",
   "metadata": {},
   "outputs": [
    {
     "data": {
      "image/svg+xml": [
       "<svg baseProfile=\"full\" height=\"312px\" preserveAspectRatio=\"xMidYMid meet\" style=\"font-family: times, serif; font-weight: normal; font-style: normal; font-size: 16px\" version=\"1.1\" viewBox=\"0,0,496.0,312.0\" width=\"496px\" xmlns=\"http://www.w3.org/2000/svg\" xmlns:ev=\"http://www.w3.org/2001/xml-events\" xmlns:xlink=\"http://www.w3.org/1999/xlink\"><defs /><svg width=\"100%\" x=\"0\" y=\"0px\"><defs /><text text-anchor=\"middle\" x=\"50%\" y=\"16px\">S</text></svg><svg width=\"16.129%\" x=\"0%\" y=\"48px\"><defs /><svg width=\"100%\" x=\"0\" y=\"0px\"><defs /><text text-anchor=\"middle\" x=\"50%\" y=\"16px\">NP</text></svg><svg width=\"50%\" x=\"0%\" y=\"48px\"><defs /><svg width=\"100%\" x=\"0\" y=\"0px\"><defs /><text text-anchor=\"middle\" x=\"50%\" y=\"16px\">Det</text></svg><svg width=\"100%\" x=\"0%\" y=\"48px\"><defs /><svg width=\"100%\" x=\"0\" y=\"0px\"><defs /><text text-anchor=\"middle\" x=\"50%\" y=\"16px\">the</text></svg></svg><line stroke=\"black\" x1=\"50%\" x2=\"50%\" y1=\"20px\" y2=\"48px\" /></svg><line stroke=\"black\" x1=\"50%\" x2=\"25%\" y1=\"20px\" y2=\"48px\" /><svg width=\"50%\" x=\"50%\" y=\"48px\"><defs /><svg width=\"100%\" x=\"0\" y=\"0px\"><defs /><text text-anchor=\"middle\" x=\"50%\" y=\"16px\">N</text></svg><svg width=\"100%\" x=\"0%\" y=\"48px\"><defs /><svg width=\"100%\" x=\"0\" y=\"0px\"><defs /><text text-anchor=\"middle\" x=\"50%\" y=\"16px\">man</text></svg></svg><line stroke=\"black\" x1=\"50%\" x2=\"50%\" y1=\"20px\" y2=\"48px\" /></svg><line stroke=\"black\" x1=\"50%\" x2=\"75%\" y1=\"20px\" y2=\"48px\" /></svg><line stroke=\"black\" x1=\"50%\" x2=\"8.06452%\" y1=\"20px\" y2=\"48px\" /><svg width=\"83.871%\" x=\"16.129%\" y=\"48px\"><defs /><svg width=\"100%\" x=\"0\" y=\"0px\"><defs /><text text-anchor=\"middle\" x=\"50%\" y=\"16px\">VP</text></svg><svg width=\"9.61538%\" x=\"0%\" y=\"48px\"><defs /><svg width=\"100%\" x=\"0\" y=\"0px\"><defs /><text text-anchor=\"middle\" x=\"50%\" y=\"16px\">V</text></svg><svg width=\"100%\" x=\"0%\" y=\"48px\"><defs /><svg width=\"100%\" x=\"0\" y=\"0px\"><defs /><text text-anchor=\"middle\" x=\"50%\" y=\"16px\">saw</text></svg></svg><line stroke=\"black\" x1=\"50%\" x2=\"50%\" y1=\"20px\" y2=\"48px\" /></svg><line stroke=\"black\" x1=\"50%\" x2=\"4.80769%\" y1=\"20px\" y2=\"48px\" /><svg width=\"48.0769%\" x=\"9.61538%\" y=\"48px\"><defs /><svg width=\"100%\" x=\"0\" y=\"0px\"><defs /><text text-anchor=\"middle\" x=\"50%\" y=\"16px\">NP</text></svg><svg width=\"20%\" x=\"0%\" y=\"48px\"><defs /><svg width=\"100%\" x=\"0\" y=\"0px\"><defs /><text text-anchor=\"middle\" x=\"50%\" y=\"16px\">Det</text></svg><svg width=\"100%\" x=\"0%\" y=\"48px\"><defs /><svg width=\"100%\" x=\"0\" y=\"0px\"><defs /><text text-anchor=\"middle\" x=\"50%\" y=\"16px\">a</text></svg></svg><line stroke=\"black\" x1=\"50%\" x2=\"50%\" y1=\"20px\" y2=\"48px\" /></svg><line stroke=\"black\" x1=\"50%\" x2=\"10%\" y1=\"20px\" y2=\"48px\" /><svg width=\"20%\" x=\"20%\" y=\"48px\"><defs /><svg width=\"100%\" x=\"0\" y=\"0px\"><defs /><text text-anchor=\"middle\" x=\"50%\" y=\"16px\">N</text></svg><svg width=\"100%\" x=\"0%\" y=\"48px\"><defs /><svg width=\"100%\" x=\"0\" y=\"0px\"><defs /><text text-anchor=\"middle\" x=\"50%\" y=\"16px\">dog</text></svg></svg><line stroke=\"black\" x1=\"50%\" x2=\"50%\" y1=\"20px\" y2=\"48px\" /></svg><line stroke=\"black\" x1=\"50%\" x2=\"30%\" y1=\"20px\" y2=\"48px\" /><svg width=\"60%\" x=\"40%\" y=\"48px\"><defs /><svg width=\"100%\" x=\"0\" y=\"0px\"><defs /><text text-anchor=\"middle\" x=\"50%\" y=\"16px\">PP</text></svg><svg width=\"26.6667%\" x=\"0%\" y=\"48px\"><defs /><svg width=\"100%\" x=\"0\" y=\"0px\"><defs /><text text-anchor=\"middle\" x=\"50%\" y=\"16px\">P</text></svg><svg width=\"100%\" x=\"0%\" y=\"48px\"><defs /><svg width=\"100%\" x=\"0\" y=\"0px\"><defs /><text text-anchor=\"middle\" x=\"50%\" y=\"16px\">in</text></svg></svg><line stroke=\"black\" x1=\"50%\" x2=\"50%\" y1=\"20px\" y2=\"48px\" /></svg><line stroke=\"black\" x1=\"50%\" x2=\"13.3333%\" y1=\"20px\" y2=\"48px\" /><svg width=\"73.3333%\" x=\"26.6667%\" y=\"48px\"><defs /><svg width=\"100%\" x=\"0\" y=\"0px\"><defs /><text text-anchor=\"middle\" x=\"50%\" y=\"16px\">NP</text></svg><svg width=\"45.4545%\" x=\"0%\" y=\"48px\"><defs /><svg width=\"100%\" x=\"0\" y=\"0px\"><defs /><text text-anchor=\"middle\" x=\"50%\" y=\"16px\">Det</text></svg><svg width=\"100%\" x=\"0%\" y=\"48px\"><defs /><svg width=\"100%\" x=\"0\" y=\"0px\"><defs /><text text-anchor=\"middle\" x=\"50%\" y=\"16px\">the</text></svg></svg><line stroke=\"black\" x1=\"50%\" x2=\"50%\" y1=\"20px\" y2=\"48px\" /></svg><line stroke=\"black\" x1=\"50%\" x2=\"22.7273%\" y1=\"20px\" y2=\"48px\" /><svg width=\"54.5455%\" x=\"45.4545%\" y=\"48px\"><defs /><svg width=\"100%\" x=\"0\" y=\"0px\"><defs /><text text-anchor=\"middle\" x=\"50%\" y=\"16px\">N</text></svg><svg width=\"100%\" x=\"0%\" y=\"48px\"><defs /><svg width=\"100%\" x=\"0\" y=\"0px\"><defs /><text text-anchor=\"middle\" x=\"50%\" y=\"16px\">park</text></svg></svg><line stroke=\"black\" x1=\"50%\" x2=\"50%\" y1=\"20px\" y2=\"48px\" /></svg><line stroke=\"black\" x1=\"50%\" x2=\"72.7273%\" y1=\"20px\" y2=\"48px\" /></svg><line stroke=\"black\" x1=\"50%\" x2=\"63.3333%\" y1=\"20px\" y2=\"48px\" /></svg><line stroke=\"black\" x1=\"50%\" x2=\"70%\" y1=\"20px\" y2=\"48px\" /></svg><line stroke=\"black\" x1=\"50%\" x2=\"33.6538%\" y1=\"20px\" y2=\"48px\" /><svg width=\"42.3077%\" x=\"57.6923%\" y=\"48px\"><defs /><svg width=\"100%\" x=\"0\" y=\"0px\"><defs /><text text-anchor=\"middle\" x=\"50%\" y=\"16px\">PP</text></svg><svg width=\"27.2727%\" x=\"0%\" y=\"48px\"><defs /><svg width=\"100%\" x=\"0\" y=\"0px\"><defs /><text text-anchor=\"middle\" x=\"50%\" y=\"16px\">P</text></svg><svg width=\"100%\" x=\"0%\" y=\"48px\"><defs /><svg width=\"100%\" x=\"0\" y=\"0px\"><defs /><text text-anchor=\"middle\" x=\"50%\" y=\"16px\">with</text></svg></svg><line stroke=\"black\" x1=\"50%\" x2=\"50%\" y1=\"20px\" y2=\"48px\" /></svg><line stroke=\"black\" x1=\"50%\" x2=\"13.6364%\" y1=\"20px\" y2=\"48px\" /><svg width=\"72.7273%\" x=\"27.2727%\" y=\"48px\"><defs /><svg width=\"100%\" x=\"0\" y=\"0px\"><defs /><text text-anchor=\"middle\" x=\"50%\" y=\"16px\">NP</text></svg><svg width=\"31.25%\" x=\"0%\" y=\"48px\"><defs /><svg width=\"100%\" x=\"0\" y=\"0px\"><defs /><text text-anchor=\"middle\" x=\"50%\" y=\"16px\">Det</text></svg><svg width=\"100%\" x=\"0%\" y=\"48px\"><defs /><svg width=\"100%\" x=\"0\" y=\"0px\"><defs /><text text-anchor=\"middle\" x=\"50%\" y=\"16px\">a</text></svg></svg><line stroke=\"black\" x1=\"50%\" x2=\"50%\" y1=\"20px\" y2=\"48px\" /></svg><line stroke=\"black\" x1=\"50%\" x2=\"15.625%\" y1=\"20px\" y2=\"48px\" /><svg width=\"68.75%\" x=\"31.25%\" y=\"48px\"><defs /><svg width=\"100%\" x=\"0\" y=\"0px\"><defs /><text text-anchor=\"middle\" x=\"50%\" y=\"16px\">N</text></svg><svg width=\"100%\" x=\"0%\" y=\"48px\"><defs /><svg width=\"100%\" x=\"0\" y=\"0px\"><defs /><text text-anchor=\"middle\" x=\"50%\" y=\"16px\">telescope</text></svg></svg><line stroke=\"black\" x1=\"50%\" x2=\"50%\" y1=\"20px\" y2=\"48px\" /></svg><line stroke=\"black\" x1=\"50%\" x2=\"65.625%\" y1=\"20px\" y2=\"48px\" /></svg><line stroke=\"black\" x1=\"50%\" x2=\"63.6364%\" y1=\"20px\" y2=\"48px\" /></svg><line stroke=\"black\" x1=\"50%\" x2=\"78.8462%\" y1=\"20px\" y2=\"48px\" /></svg><line stroke=\"black\" x1=\"50%\" x2=\"58.0645%\" y1=\"20px\" y2=\"48px\" /></svg>"
      ],
      "text/plain": [
       "Tree('S', [Tree('NP', [Tree('Det', ['the']), Tree('N', ['man'])]), Tree('VP', [Tree('V', ['saw']), Tree('NP', [Tree('Det', ['a']), Tree('N', ['dog']), Tree('PP', [Tree('P', ['in']), Tree('NP', [Tree('Det', ['the']), Tree('N', ['park'])])])]), Tree('PP', [Tree('P', ['with']), Tree('NP', [Tree('Det', ['a']), Tree('N', ['telescope'])])])])])"
      ]
     },
     "execution_count": 8,
     "metadata": {},
     "output_type": "execute_result"
    }
   ],
   "source": [
    "import svgling\n",
    "#The last tree looks like this - \n",
    "tree"
   ]
  },
  {
   "cell_type": "code",
   "execution_count": 9,
   "id": "9c1437ac-4a1e-4ea2-909e-d539b1de3be3",
   "metadata": {},
   "outputs": [],
   "source": [
    "nltk.app.rdparser()\n",
    "# once the recursive descent parser application opens, \n",
    "# you can edit the 'Text' and 'Grammar' according to your requirements"
   ]
  },
  {
   "cell_type": "markdown",
   "id": "bf518a41-b203-495d-be4f-3153812d27f3",
   "metadata": {},
   "source": [
    "---"
   ]
  },
  {
   "cell_type": "markdown",
   "id": "bae8f3aa-3646-4de4-96a1-2ef614a9893c",
   "metadata": {},
   "source": [
    "# 2. Bottom-Up Parsing\n",
    "\n",
    "\"\"\"\n",
    "- Starts with the input sentence and works upwards to the root of the parse tree (start symbol).\n",
    "- Combines terminals and non-terminals until the root is reached.\n",
    "\n",
    "### Key Features:\n",
    "1. Begins with the input sentence's words as the leaves of the tree.\n",
    "2. Combines components step-by-step using grammar rules.\n",
    "3. Ends when the start symbol is derived.\n",
    "\n",
    "### Advantages:\n",
    "- Guarantees that the parse corresponds to the input sentence.\n",
    "- Avoids generating invalid parse trees.\n",
    "- Robustness: Handles left recursion and ambiguous grammars naturally.\n",
    "\n",
    "### Disadvantages:\n",
    "- May require more computational resources.\n",
    "- Can be complex to implement for ambiguous grammars.\n",
    "\n",
    "### Example:\n",
    "For the same grammar and input: \"the cat saw a dog\"\n",
    "\n",
    "1. Start with tokens: ['the', 'cat', 'saw', 'a', 'dog']\n",
    "2. Combine 'the' + 'cat' -> NP\n",
    "3. Combine 'saw' + 'a' + 'dog' -> VP\n",
    "4. Combine NP + VP -> S\n",
    "\"\"\"\n",
    "\n",
    "# Comparison Table\n",
    "\n",
    "\n",
    "| Feature               | Top-Down Parsing         | Bottom-Up Parsing         |\n",
    "|-----------------------|--------------------------|---------------------------|\n",
    "| Start Point           | Root (start symbol)      | Leaves (input sentence)   |\n",
    "| Approach              | Expand rules downward    | Combine components upward |\n",
    "| Efficiency            | Faster for small grammars| Better for complex grammars           |\n",
    "| Invalid Parse Trees   | May generate invalid     | Avoids invalid parses     |\n",
    "| Implementation        | Simpler                  | More complex              |\n",
    "| Left Recursion        | Requires grammar modification         | Handles naturally                 |\n"
   ]
  },
  {
   "cell_type": "markdown",
   "id": "82725050-5b09-49fb-8bd9-52f4ce623481",
   "metadata": {},
   "source": [
    "---"
   ]
  },
  {
   "cell_type": "code",
   "execution_count": 10,
   "id": "7f1a546f-5701-4360-a2eb-456c606dedb5",
   "metadata": {},
   "outputs": [],
   "source": [
    "import nltk \n",
    "\n",
    "grammar=nltk.CFG.fromstring(\"\"\"\n",
    "S -> NP VP\n",
    "VP -> V NP\n",
    "V -> \"saw\" | \"ate\"\n",
    "NP -> \"John\" | \"Mary\" | \"Bob\" | Det N | Det N PP\n",
    "Det -> \"a\" | \"an\" | \" the\" | \"my\"\n",
    "N -> \"dog\"| \"cat\" | \"cookie\" | \"park\" \n",
    "PP -> P NP \n",
    "P -> \"in\" | \"on\" \n",
    "\"\"\")"
   ]
  },
  {
   "cell_type": "code",
   "execution_count": 11,
   "id": "fd106e24-3a1d-4497-b8be-1e0a74bb1534",
   "metadata": {},
   "outputs": [
    {
     "name": "stdout",
     "output_type": "stream",
     "text": [
      "(S (NP Mary) (VP (V saw) (NP (Det a) (N cat))))\n"
     ]
    }
   ],
   "source": [
    "str = \"Mary saw a cat\"\n",
    "\n",
    "# ShiftReduce Parser is a bottom up parser\n",
    "from nltk.parse import ShiftReduceParser\n",
    "srp = ShiftReduceParser(grammar)\n",
    "\n",
    "for t in srp.parse(str.split()):\n",
    "    print(t)\n",
    "\n",
    "# Shift Reduce parser tries to aggregate the string to the start symbol, since it's a bottom-up parser\n",
    "# It is not able to find the parse tree even if it exists "
   ]
  },
  {
   "cell_type": "code",
   "execution_count": 12,
   "id": "63747f3a-48c7-4e58-9683-35b95240e26e",
   "metadata": {},
   "outputs": [
    {
     "name": "stdout",
     "output_type": "stream",
     "text": [
      "Warning: VP -> V NP PP will never be used\n"
     ]
    }
   ],
   "source": [
    "nltk.app.srparser()\n",
    "# once the shift reduce parser application opens, \n",
    "# you can edit the 'Text' and 'Grammar' according to your requirements"
   ]
  },
  {
   "cell_type": "code",
   "execution_count": null,
   "id": "97e279cb-5a89-4bb0-a594-9c8af6837be4",
   "metadata": {},
   "outputs": [],
   "source": []
  }
 ],
 "metadata": {
  "kernelspec": {
   "display_name": "Python 3 (ipykernel)",
   "language": "python",
   "name": "python3"
  },
  "language_info": {
   "codemirror_mode": {
    "name": "ipython",
    "version": 3
   },
   "file_extension": ".py",
   "mimetype": "text/x-python",
   "name": "python",
   "nbconvert_exporter": "python",
   "pygments_lexer": "ipython3",
   "version": "3.10.5"
  }
 },
 "nbformat": 4,
 "nbformat_minor": 5
}

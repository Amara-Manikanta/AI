{
 "cells": [
  {
   "cell_type": "markdown",
   "id": "2740f42d-3956-4ca9-ab03-0eff05640be3",
   "metadata": {},
   "source": [
    "## Hidden Markov Models (HMM)\n",
    "\n",
    "### Conceptual Understanding\n",
    "- A Hidden Markov Model (HMM) is a statistical model used to represent systems where the underlying state is not directly observable (hidden), but where there is observable data (outputs) that depend on these hidden states.\n",
    "\n",
    "#### Components of HMM\n",
    "Hidden Markov Models consist of the following components:\n",
    "1. **States**:\n",
    "  - The possible conditions of the system. These are hidden and not directly observable.\n",
    "  - For example, weather states like \"Sunny\" and \"Rainy\".\n",
    "  - In speech recognition, the hidden states could be phonemes.\n",
    "2. **Observations**:\n",
    "    - The visible data points you can measure.\n",
    "    - For example, observing whether a person carries an umbrella or not.\n",
    "    -  In speech recognition, the observations could be the acoustic signals.\n",
    "3. **Transition Probabilities**:\n",
    "    - The probabilities of moving from one state to another.\n",
    "4. **Emission Probabilities**:\n",
    "    - The probabilities of observing a particular output from a state.\n",
    "5. **Initial Probabilities**:\n",
    "    - The probabilities of being in each state at the beginning.\n",
    "\n",
    "#### Formulation of HMM\n",
    "An HMM is defined by:\n",
    "- **A set of states (S_1, S_2, ..., S_N)**\n",
    "- **A set of observations (O_1, O_2, ..., O_M)**\n",
    "- **Transition Probability Matrix (A)**: A matrix where each element A_ij represents the probability of transitioning from state S_i to state S_j.\n",
    "- **Emission Probability Matrix (B)**: A matrix where each element B_ij represents the probability of observation O_j being generated from state S_i.\n",
    "- **Initial State Distribution (π)**: A vector where each element π_i represents the probability of starting in state S_i.\n",
    "\n",
    "Formulation:\n",
    "- **Transition Probability**: P(S_t|S_{t-1})\n",
    "- **Emission Probability**: P(O_t|S_t)\n",
    "- **Initial Probability**: P(S_0)\n",
    "\n",
    "Three Key Problems in HMM\n",
    "1. **Evaluation Problem**:\n",
    "    - Given a sequence of observations, calculate the probability of that sequence occurring in the model.\n",
    "    - Solved using the **Forward Algorithm**.\n",
    "2. **Decoding Problem**:\n",
    "   - Find the most probable sequence of hidden states that could generate a given sequence of observations.\n",
    "   - Solved using the **Viterbi Algorithm**.\n",
    "3. **Learning Problem**:\n",
    "   - Adjust the model parameters (transition and emission probabilities) to maximize the likelihood of the observed data.\n",
    "   - Solved using the **Baum-Welch Algorithm**.\n",
    "\n"
   ]
  },
  {
   "cell_type": "markdown",
   "id": "06c708ba-8828-4873-aa07-1b3167df40bc",
   "metadata": {},
   "source": [
    "---"
   ]
  },
  {
   "cell_type": "markdown",
   "id": "1d7f7dc7-1d9e-46a7-8f59-ba81c1bb7187",
   "metadata": {},
   "source": [
    "## Practical Example: Weather Prediction\n",
    "\n",
    "### Step-by-Step Implementation\n",
    "\n",
    "#### 1. Define the problem\n",
    "- **Hidden States**: Weather conditions (Sunny, Rainy)\n",
    "- **Observations**: Whether a person carries an umbrella or not (Umbrella, No Umbrella)\n"
   ]
  },
  {
   "cell_type": "code",
   "execution_count": 6,
   "id": "e6503be2-46a8-4ab4-9802-24a7e3ebbe7b",
   "metadata": {},
   "outputs": [
    {
     "name": "stdout",
     "output_type": "stream",
     "text": [
      "Collecting hmmlearnNote: you may need to restart the kernel to use updated packages.\n",
      "\n",
      "  Downloading hmmlearn-0.3.3-cp310-cp310-win_amd64.whl.metadata (3.1 kB)\n",
      "Requirement already satisfied: numpy>=1.10 in c:\\users\\manikanta\\appdata\\local\\programs\\python\\python310\\lib\\site-packages (from hmmlearn) (1.26.4)\n",
      "Requirement already satisfied: scikit-learn!=0.22.0,>=0.16 in c:\\users\\manikanta\\appdata\\local\\programs\\python\\python310\\lib\\site-packages (from hmmlearn) (1.5.1)\n",
      "Requirement already satisfied: scipy>=0.19 in c:\\users\\manikanta\\appdata\\local\\programs\\python\\python310\\lib\\site-packages (from hmmlearn) (1.10.0)\n",
      "Requirement already satisfied: joblib>=1.2.0 in c:\\users\\manikanta\\appdata\\local\\programs\\python\\python310\\lib\\site-packages (from scikit-learn!=0.22.0,>=0.16->hmmlearn) (1.4.2)\n",
      "Requirement already satisfied: threadpoolctl>=3.1.0 in c:\\users\\manikanta\\appdata\\local\\programs\\python\\python310\\lib\\site-packages (from scikit-learn!=0.22.0,>=0.16->hmmlearn) (3.5.0)\n",
      "Downloading hmmlearn-0.3.3-cp310-cp310-win_amd64.whl (125 kB)\n",
      "Installing collected packages: hmmlearn\n",
      "Successfully installed hmmlearn-0.3.3\n"
     ]
    }
   ],
   "source": [
    "pip install hmmlearn"
   ]
  },
  {
   "cell_type": "code",
   "execution_count": 7,
   "id": "8eb13b15-4f31-4d6f-b3c6-4c70d01ef480",
   "metadata": {},
   "outputs": [],
   "source": [
    "import numpy as np \n",
    "from hmmlearn import hmm"
   ]
  },
  {
   "cell_type": "code",
   "execution_count": 8,
   "id": "3a2f6633-10dd-484b-ab65-1225cad8a32d",
   "metadata": {},
   "outputs": [],
   "source": [
    "# Define the states and observations\n",
    "states = ['Sunny', 'Rainy']\n",
    "observations = ['Umbrella', 'No Umbrella']\n",
    "state_dict = {state: index for index, state in enumerate(states)}\n",
    "obs_dict = {obs: index for index, obs in enumerate(observations)}\n"
   ]
  },
  {
   "cell_type": "markdown",
   "id": "4474bb1b-79fb-4cb6-a9fe-663be42779e4",
   "metadata": {},
   "source": [
    "#### 2. Specify the model parameters\n",
    "- **Transition Probabilities (A)**:\n",
    "    - For our example, let's assume we've collected some historical data about the weather transitions.\n",
    "    - Here’s how you could calculate these probabilities:\n",
    "        - Sunny → Sunny: 70 times\n",
    "        - Sunny → Rainy: 30 times\n",
    "        - Rainy → Sunny: 40 times\n",
    "        - Rainy → Rainy: 60 times\n",
    "    - To find the transition probabilities, we divide the number of times a transition occurs by the total number of transitions from the initial state.\n",
    "    - Calculations:\n",
    "        - P(Sunny→Sunny) = 70 / (70 + 30) = 0.7\n",
    "        - P(Sunny→Rainy) = 30 / (70 + 30) = 0.3\n",
    "        - P(Rainy→Sunny) = 40 / (40 + 60) = 0.4\n",
    "        - P(Rainy→Rainy) = 60 / (40 + 60) = 0.6\n",
    "\n",
    "\n"
   ]
  },
  {
   "cell_type": "code",
   "execution_count": 9,
   "id": "b7c4e520-c6a1-408d-b329-f53790d2a143",
   "metadata": {},
   "outputs": [],
   "source": [
    "# Model Parameters\n",
    "transition_probabilities = np.array([\n",
    "   [0.7, 0.3],  # From Sunny to Sunny, Rainy\n",
    "   [0.4, 0.6],  # From Rainy to Sunny, Rainy\n",
    "])\n"
   ]
  },
  {
   "cell_type": "markdown",
   "id": "965a2581-0c85-43a3-ba1d-46fd2199ce4b",
   "metadata": {},
   "source": [
    "- **Emission Probabilities (B)**:\n",
    "  - For our example, let's use hypothetical data about observations (whether a person carries an umbrella when the weather is Sunny or Rainy):\n",
    "      - Sunny: 10 times Umbrella, 90 times No Umbrella\n",
    "      - Rainy: 80 times Umbrella, 20 times No Umbrella\n",
    "  - To find the emission probabilities, we divide the number of times an observation occurs by the total number of observations for that state.\n",
    "  - Calculations:\n",
    "      - P(Umbrella|Sunny) = 10 / (10 + 90) = 0.1\n",
    "      - P(No Umbrella|Sunny) = 90 / (10 + 90) = 0.9\n",
    "      - P(Umbrella|Rainy) = 80 / (80 + 20) = 0.8\n",
    "      - P(No Umbrella|Rainy) = 20 / (80 + 20) = 0.2\n",
    "\n"
   ]
  },
  {
   "cell_type": "code",
   "execution_count": 10,
   "id": "167301fc-8d3a-4177-bad6-275c36b67593",
   "metadata": {},
   "outputs": [],
   "source": [
    "emission_probabilities = np.array([\n",
    "   [0.1, 0.9],  # From Sunny: P(Umbrella), P(No Umbrella)\n",
    "   [0.8, 0.2],  # From Rainy: P(Umbrella), P(No Umbrella)\n",
    "])\n"
   ]
  },
  {
   "cell_type": "markdown",
   "id": "cd409fae-7700-4553-a16b-7d950ff70f0a",
   "metadata": {},
   "source": [
    "- **Initial Probabilities (π)**\n"
   ]
  },
  {
   "cell_type": "code",
   "execution_count": 11,
   "id": "84af6d22-82fe-4984-9433-2b8c3336613f",
   "metadata": {},
   "outputs": [],
   "source": [
    "initial_probabilities = np.array([0.6, 0.4])  # P(Sunny), P(Rainy)\n"
   ]
  },
  {
   "cell_type": "markdown",
   "id": "8d5caa97-5567-4c44-920e-623adda5ef36",
   "metadata": {},
   "source": [
    "#### 3. Initialize and fit the model\n"
   ]
  },
  {
   "cell_type": "code",
   "execution_count": 14,
   "id": "4b462ed4-259e-4aaf-9740-e5523b2092ab",
   "metadata": {},
   "outputs": [
    {
     "name": "stderr",
     "output_type": "stream",
     "text": [
      "MultinomialHMM has undergone major changes. The previous version was implementing a CategoricalHMM (a special case of MultinomialHMM). This new implementation follows the standard definition for a Multinomial distribution (e.g. as in https://en.wikipedia.org/wiki/Multinomial_distribution). See these issues for details:\n",
      "https://github.com/hmmlearn/hmmlearn/issues/335\n",
      "https://github.com/hmmlearn/hmmlearn/issues/340\n"
     ]
    }
   ],
   "source": [
    "n_trials = 1  # number of trials per state\n",
    "# Initialize HMM Model\n",
    "model = hmm.MultinomialHMM(n_components=2,n_trials=n_trials)\n",
    "model.startprob_ = initial_probabilities\n",
    "model.transmat_ = transition_probabilities\n",
    "model.emissionprob_ = emission_probabilities\n"
   ]
  },
  {
   "cell_type": "markdown",
   "id": "e36c8651-6ff9-4d8a-9f5a-bccf1b30428f",
   "metadata": {},
   "source": [
    "#### 4. Generate a sample sequence of states and observations\n"
   ]
  },
  {
   "cell_type": "code",
   "execution_count": 15,
   "id": "b97ddefa-5398-4717-8678-7eb954eea2c7",
   "metadata": {},
   "outputs": [],
   "source": [
    "# Generate a sample sequence\n",
    "n_samples = 10\n",
    "observations_sequence, hidden_states_sequence = model.sample(n_samples)\n"
   ]
  },
  {
   "cell_type": "markdown",
   "id": "f2849360-e675-4361-a10b-455f996b87c5",
   "metadata": {},
   "source": [
    "#### 5. Interpret the results\n"
   ]
  },
  {
   "cell_type": "code",
   "execution_count": 16,
   "id": "c9123646-4d1b-4d8c-ae97-eee5c6dbe571",
   "metadata": {},
   "outputs": [
    {
     "name": "stdout",
     "output_type": "stream",
     "text": [
      "Generated Observations: ['Umbrella', 'No Umbrella', 'Umbrella', 'Umbrella', 'Umbrella', 'Umbrella', 'Umbrella', 'Umbrella', 'No Umbrella', 'No Umbrella']\n",
      "Hidden States: ['Rainy', 'Rainy', 'Rainy', 'Sunny', 'Sunny', 'Sunny', 'Sunny', 'Sunny', 'Rainy', 'Rainy']\n"
     ]
    }
   ],
   "source": [
    "# Output the results\n",
    "print(\"Generated Observations:\", [observations[i[0]] for i in observations_sequence])\n",
    "print(\"Hidden States:\", [states[i] for i in hidden_states_sequence])\n"
   ]
  },
  {
   "cell_type": "markdown",
   "id": "ca4faf89-73d3-4c74-910f-553ed8f6c54e",
   "metadata": {},
   "source": [
    "### Real-World Relevance\n",
    "In real-world applications, HMMs are incredibly useful:\n",
    "- **Speech Recognition**: HMMs are used to model the sequence of spoken words.\n",
    "- **Bioinformatics**: HMMs help in gene prediction and identifying protein sequences.\n",
    "- **Finance**: HMMs can model market trends and hidden economic indicators.\n"
   ]
  },
  {
   "cell_type": "code",
   "execution_count": null,
   "id": "5916d37c-1ffe-4f05-af36-5b3d974b7693",
   "metadata": {},
   "outputs": [],
   "source": []
  }
 ],
 "metadata": {
  "kernelspec": {
   "display_name": "Python 3 (ipykernel)",
   "language": "python",
   "name": "python3"
  },
  "language_info": {
   "codemirror_mode": {
    "name": "ipython",
    "version": 3
   },
   "file_extension": ".py",
   "mimetype": "text/x-python",
   "name": "python",
   "nbconvert_exporter": "python",
   "pygments_lexer": "ipython3",
   "version": "3.10.5"
  }
 },
 "nbformat": 4,
 "nbformat_minor": 5
}

{
 "cells": [
  {
   "cell_type": "markdown",
   "id": "6edb8b86-9c47-4a8b-b12d-e4eb75629880",
   "metadata": {},
   "source": [
    "## POS Tagging, HMMs, Viterbi\n",
    "\n",
    "Let's learn how to do POS tagging by Viterbi Heuristic using tagged Treebank corpus. Before going through the code, let's first understand the pseudo-code for the same. \n",
    "\n",
    "1. Tagged Treebank corpus is available (Sample data to training and test data set)\n",
    "   - Basic text and structure exploration\n",
    "2. Creating HMM model on the tagged data set.\n",
    "   - Calculating Emission Probabaility: P(observation|state)\n",
    "   - Calculating Transition Probability: P(state2|state1)\n",
    "3. Developing algorithm for Viterbi Heuristic\n",
    "4. Checking accuracy on the test data set\n",
    "\n",
    "\n",
    "## 1. Exploring Treebank Tagged Corpus"
   ]
  },
  {
   "cell_type": "code",
   "execution_count": 1,
   "id": "16b24269-73dc-45f5-8daa-6a9569961bd7",
   "metadata": {},
   "outputs": [],
   "source": [
    "#Importing libraries\n",
    "import nltk, re, pprint\n",
    "import numpy as np\n",
    "import pandas as pd\n",
    "import requests\n",
    "import matplotlib.pyplot as plt\n",
    "import seaborn as sns\n",
    "import pprint, time\n",
    "import random\n",
    "from sklearn.model_selection import train_test_split\n",
    "from nltk.tokenize import word_tokenize"
   ]
  },
  {
   "cell_type": "code",
   "execution_count": 2,
   "id": "1aa96505-b14c-40fb-be07-9ec1310f3a94",
   "metadata": {},
   "outputs": [],
   "source": [
    "# reading the Treebank tagged sentences\n",
    "wsj = list(nltk.corpus.treebank.tagged_sents())"
   ]
  },
  {
   "cell_type": "code",
   "execution_count": 3,
   "id": "ec40b48e-94b4-4a55-9427-1938c2d124c4",
   "metadata": {},
   "outputs": [
    {
     "name": "stdout",
     "output_type": "stream",
     "text": [
      "[[('Pierre', 'NNP'), ('Vinken', 'NNP'), (',', ','), ('61', 'CD'), ('years', 'NNS'), ('old', 'JJ'), (',', ','), ('will', 'MD'), ('join', 'VB'), ('the', 'DT'), ('board', 'NN'), ('as', 'IN'), ('a', 'DT'), ('nonexecutive', 'JJ'), ('director', 'NN'), ('Nov.', 'NNP'), ('29', 'CD'), ('.', '.')], [('Mr.', 'NNP'), ('Vinken', 'NNP'), ('is', 'VBZ'), ('chairman', 'NN'), ('of', 'IN'), ('Elsevier', 'NNP'), ('N.V.', 'NNP'), (',', ','), ('the', 'DT'), ('Dutch', 'NNP'), ('publishing', 'VBG'), ('group', 'NN'), ('.', '.')], [('Rudolph', 'NNP'), ('Agnew', 'NNP'), (',', ','), ('55', 'CD'), ('years', 'NNS'), ('old', 'JJ'), ('and', 'CC'), ('former', 'JJ'), ('chairman', 'NN'), ('of', 'IN'), ('Consolidated', 'NNP'), ('Gold', 'NNP'), ('Fields', 'NNP'), ('PLC', 'NNP'), (',', ','), ('was', 'VBD'), ('named', 'VBN'), ('*-1', '-NONE-'), ('a', 'DT'), ('nonexecutive', 'JJ'), ('director', 'NN'), ('of', 'IN'), ('this', 'DT'), ('British', 'JJ'), ('industrial', 'JJ'), ('conglomerate', 'NN'), ('.', '.')], [('A', 'DT'), ('form', 'NN'), ('of', 'IN'), ('asbestos', 'NN'), ('once', 'RB'), ('used', 'VBN'), ('*', '-NONE-'), ('*', '-NONE-'), ('to', 'TO'), ('make', 'VB'), ('Kent', 'NNP'), ('cigarette', 'NN'), ('filters', 'NNS'), ('has', 'VBZ'), ('caused', 'VBN'), ('a', 'DT'), ('high', 'JJ'), ('percentage', 'NN'), ('of', 'IN'), ('cancer', 'NN'), ('deaths', 'NNS'), ('among', 'IN'), ('a', 'DT'), ('group', 'NN'), ('of', 'IN'), ('workers', 'NNS'), ('exposed', 'VBN'), ('*', '-NONE-'), ('to', 'TO'), ('it', 'PRP'), ('more', 'RBR'), ('than', 'IN'), ('30', 'CD'), ('years', 'NNS'), ('ago', 'IN'), (',', ','), ('researchers', 'NNS'), ('reported', 'VBD'), ('0', '-NONE-'), ('*T*-1', '-NONE-'), ('.', '.')], [('The', 'DT'), ('asbestos', 'NN'), ('fiber', 'NN'), (',', ','), ('crocidolite', 'NN'), (',', ','), ('is', 'VBZ'), ('unusually', 'RB'), ('resilient', 'JJ'), ('once', 'IN'), ('it', 'PRP'), ('enters', 'VBZ'), ('the', 'DT'), ('lungs', 'NNS'), (',', ','), ('with', 'IN'), ('even', 'RB'), ('brief', 'JJ'), ('exposures', 'NNS'), ('to', 'TO'), ('it', 'PRP'), ('causing', 'VBG'), ('symptoms', 'NNS'), ('that', 'WDT'), ('*T*-1', '-NONE-'), ('show', 'VBP'), ('up', 'RP'), ('decades', 'NNS'), ('later', 'JJ'), (',', ','), ('researchers', 'NNS'), ('said', 'VBD'), ('0', '-NONE-'), ('*T*-2', '-NONE-'), ('.', '.')], [('Lorillard', 'NNP'), ('Inc.', 'NNP'), (',', ','), ('the', 'DT'), ('unit', 'NN'), ('of', 'IN'), ('New', 'JJ'), ('York-based', 'JJ'), ('Loews', 'NNP'), ('Corp.', 'NNP'), ('that', 'WDT'), ('*T*-2', '-NONE-'), ('makes', 'VBZ'), ('Kent', 'NNP'), ('cigarettes', 'NNS'), (',', ','), ('stopped', 'VBD'), ('using', 'VBG'), ('crocidolite', 'NN'), ('in', 'IN'), ('its', 'PRP$'), ('Micronite', 'NN'), ('cigarette', 'NN'), ('filters', 'NNS'), ('in', 'IN'), ('1956', 'CD'), ('.', '.')], [('Although', 'IN'), ('preliminary', 'JJ'), ('findings', 'NNS'), ('were', 'VBD'), ('reported', 'VBN'), ('*-2', '-NONE-'), ('more', 'RBR'), ('than', 'IN'), ('a', 'DT'), ('year', 'NN'), ('ago', 'IN'), (',', ','), ('the', 'DT'), ('latest', 'JJS'), ('results', 'NNS'), ('appear', 'VBP'), ('in', 'IN'), ('today', 'NN'), (\"'s\", 'POS'), ('New', 'NNP'), ('England', 'NNP'), ('Journal', 'NNP'), ('of', 'IN'), ('Medicine', 'NNP'), (',', ','), ('a', 'DT'), ('forum', 'NN'), ('likely', 'JJ'), ('*', '-NONE-'), ('to', 'TO'), ('bring', 'VB'), ('new', 'JJ'), ('attention', 'NN'), ('to', 'TO'), ('the', 'DT'), ('problem', 'NN'), ('.', '.')], [('A', 'DT'), ('Lorillard', 'NNP'), ('spokewoman', 'NN'), ('said', 'VBD'), (',', ','), ('``', '``'), ('This', 'DT'), ('is', 'VBZ'), ('an', 'DT'), ('old', 'JJ'), ('story', 'NN'), ('.', '.')], [('We', 'PRP'), (\"'re\", 'VBP'), ('talking', 'VBG'), ('about', 'IN'), ('years', 'NNS'), ('ago', 'IN'), ('before', 'IN'), ('anyone', 'NN'), ('heard', 'VBD'), ('of', 'IN'), ('asbestos', 'NN'), ('having', 'VBG'), ('any', 'DT'), ('questionable', 'JJ'), ('properties', 'NNS'), ('.', '.')], [('There', 'EX'), ('is', 'VBZ'), ('no', 'DT'), ('asbestos', 'NN'), ('in', 'IN'), ('our', 'PRP$'), ('products', 'NNS'), ('now', 'RB'), ('.', '.'), (\"''\", \"''\")], [('Neither', 'DT'), ('Lorillard', 'NNP'), ('nor', 'CC'), ('the', 'DT'), ('researchers', 'NNS'), ('who', 'WP'), ('*T*-3', '-NONE-'), ('studied', 'VBD'), ('the', 'DT'), ('workers', 'NNS'), ('were', 'VBD'), ('aware', 'JJ'), ('of', 'IN'), ('any', 'DT'), ('research', 'NN'), ('on', 'IN'), ('smokers', 'NNS'), ('of', 'IN'), ('the', 'DT'), ('Kent', 'NNP'), ('cigarettes', 'NNS'), ('.', '.')], [('``', '``'), ('We', 'PRP'), ('have', 'VBP'), ('no', 'DT'), ('useful', 'JJ'), ('information', 'NN'), ('on', 'IN'), ('whether', 'IN'), ('users', 'NNS'), ('are', 'VBP'), ('at', 'IN'), ('risk', 'NN'), (',', ','), (\"''\", \"''\"), ('said', 'VBD'), ('*T*-1', '-NONE-'), ('James', 'NNP'), ('A.', 'NNP'), ('Talcott', 'NNP'), ('of', 'IN'), ('Boston', 'NNP'), (\"'s\", 'POS'), ('Dana-Farber', 'NNP'), ('Cancer', 'NNP'), ('Institute', 'NNP'), ('.', '.')], [('Dr.', 'NNP'), ('Talcott', 'NNP'), ('led', 'VBD'), ('a', 'DT'), ('team', 'NN'), ('of', 'IN'), ('researchers', 'NNS'), ('from', 'IN'), ('the', 'DT'), ('National', 'NNP'), ('Cancer', 'NNP'), ('Institute', 'NNP'), ('and', 'CC'), ('the', 'DT'), ('medical', 'JJ'), ('schools', 'NNS'), ('of', 'IN'), ('Harvard', 'NNP'), ('University', 'NNP'), ('and', 'CC'), ('Boston', 'NNP'), ('University', 'NNP'), ('.', '.')], [('The', 'DT'), ('Lorillard', 'NNP'), ('spokeswoman', 'NN'), ('said', 'VBD'), ('0', '-NONE-'), ('asbestos', 'NN'), ('was', 'VBD'), ('used', 'VBN'), ('*-1', '-NONE-'), ('in', 'IN'), ('``', '``'), ('very', 'RB'), ('modest', 'JJ'), ('amounts', 'NNS'), (\"''\", \"''\"), ('in', 'IN'), ('*', '-NONE-'), ('making', 'VBG'), ('paper', 'NN'), ('for', 'IN'), ('the', 'DT'), ('filters', 'NNS'), ('in', 'IN'), ('the', 'DT'), ('early', 'JJ'), ('1950s', 'CD'), ('and', 'CC'), ('replaced', 'VBN'), ('*-1', '-NONE-'), ('with', 'IN'), ('a', 'DT'), ('different', 'JJ'), ('type', 'NN'), ('of', 'IN'), ('filter', 'NN'), ('in', 'IN'), ('1956', 'CD'), ('.', '.')], [('From', 'IN'), ('1953', 'CD'), ('to', 'TO'), ('1955', 'CD'), (',', ','), ('9.8', 'CD'), ('billion', 'CD'), ('Kent', 'NNP'), ('cigarettes', 'NNS'), ('with', 'IN'), ('the', 'DT'), ('filters', 'NNS'), ('were', 'VBD'), ('sold', 'VBN'), ('*-3', '-NONE-'), (',', ','), ('the', 'DT'), ('company', 'NN'), ('said', 'VBD'), ('0', '-NONE-'), ('*T*-1', '-NONE-'), ('.', '.')], [('Among', 'IN'), ('33', 'CD'), ('men', 'NNS'), ('who', 'WP'), ('*T*-4', '-NONE-'), ('worked', 'VBD'), ('closely', 'RB'), ('with', 'IN'), ('the', 'DT'), ('substance', 'NN'), (',', ','), ('28', 'CD'), ('*ICH*-1', '-NONE-'), ('have', 'VBP'), ('died', 'VBN'), ('--', ':'), ('more', 'JJ'), ('than', 'IN'), ('three', 'CD'), ('times', 'NNS'), ('the', 'DT'), ('expected', 'VBN'), ('number', 'NN'), ('.', '.')], [('Four', 'CD'), ('of', 'IN'), ('the', 'DT'), ('five', 'CD'), ('surviving', 'VBG'), ('workers', 'NNS'), ('have', 'VBP'), ('asbestos-related', 'JJ'), ('diseases', 'NNS'), (',', ','), ('including', 'VBG'), ('three', 'CD'), ('with', 'IN'), ('recently', 'RB'), ('diagnosed', 'VBN'), ('cancer', 'NN'), ('.', '.')], [('The', 'DT'), ('total', 'NN'), ('of', 'IN'), ('18', 'CD'), ('deaths', 'NNS'), ('from', 'IN'), ('malignant', 'JJ'), ('mesothelioma', 'NN'), (',', ','), ('lung', 'NN'), ('cancer', 'NN'), ('and', 'CC'), ('asbestosis', 'NN'), ('was', 'VBD'), ('far', 'RB'), ('higher', 'JJR'), ('than', 'IN'), ('*', '-NONE-'), ('expected', 'VBN'), ('*?*', '-NONE-'), (',', ','), ('the', 'DT'), ('researchers', 'NNS'), ('said', 'VBD'), ('0', '-NONE-'), ('*T*-1', '-NONE-'), ('.', '.')], [('``', '``'), ('The', 'DT'), ('morbidity', 'NN'), ('rate', 'NN'), ('is', 'VBZ'), ('a', 'DT'), ('striking', 'JJ'), ('finding', 'NN'), ('among', 'IN'), ('those', 'DT'), ('of', 'IN'), ('us', 'PRP'), ('who', 'WP'), ('*T*-5', '-NONE-'), ('study', 'VBP'), ('asbestos-related', 'JJ'), ('diseases', 'NNS'), (',', ','), (\"''\", \"''\"), ('said', 'VBD'), ('*T*-1', '-NONE-'), ('Dr.', 'NNP'), ('Talcott', 'NNP'), ('.', '.')], [('The', 'DT'), ('percentage', 'NN'), ('of', 'IN'), ('lung', 'NN'), ('cancer', 'NN'), ('deaths', 'NNS'), ('among', 'IN'), ('the', 'DT'), ('workers', 'NNS'), ('at', 'IN'), ('the', 'DT'), ('West', 'NNP'), ('Groton', 'NNP'), (',', ','), ('Mass.', 'NNP'), (',', ','), ('paper', 'NN'), ('factory', 'NN'), ('appears', 'VBZ'), ('*-1', '-NONE-'), ('to', 'TO'), ('be', 'VB'), ('the', 'DT'), ('highest', 'JJS'), ('for', 'IN'), ('any', 'DT'), ('asbestos', 'NN'), ('workers', 'NNS'), ('studied', 'VBN'), ('*', '-NONE-'), ('in', 'IN'), ('Western', 'JJ'), ('industrialized', 'VBN'), ('countries', 'NNS'), (',', ','), ('he', 'PRP'), ('said', 'VBD'), ('0', '-NONE-'), ('*T*-2', '-NONE-'), ('.', '.')], [('The', 'DT'), ('plant', 'NN'), (',', ','), ('which', 'WDT'), ('*T*-1', '-NONE-'), ('is', 'VBZ'), ('owned', 'VBN'), ('*-4', '-NONE-'), ('by', 'IN'), ('Hollingsworth', 'NNP'), ('&', 'CC'), ('Vose', 'NNP'), ('Co.', 'NNP'), (',', ','), ('was', 'VBD'), ('under', 'IN'), ('contract', 'NN'), ('*ICH*-2', '-NONE-'), ('with', 'IN'), ('Lorillard', 'NN'), ('*', '-NONE-'), ('to', 'TO'), ('make', 'VB'), ('the', 'DT'), ('cigarette', 'NN'), ('filters', 'NNS'), ('.', '.')], [('The', 'DT'), ('finding', 'NN'), ('probably', 'RB'), ('will', 'MD'), ('support', 'VB'), ('those', 'DT'), ('who', 'WP'), ('*T*-6', '-NONE-'), ('argue', 'VBP'), ('that', 'IN'), ('the', 'DT'), ('U.S.', 'NNP'), ('should', 'MD'), ('regulate', 'VB'), ('the', 'DT'), ('class', 'NN'), ('of', 'IN'), ('asbestos', 'NN'), ('including', 'VBG'), ('crocidolite', 'NN'), ('more', 'RBR'), ('stringently', 'RB'), ('than', 'IN'), ('the', 'DT'), ('common', 'JJ'), ('kind', 'NN'), ('of', 'IN'), ('asbestos', 'NN'), (',', ','), ('chrysotile', 'NN'), (',', ','), ('found', 'VBN'), ('*', '-NONE-'), ('in', 'IN'), ('most', 'JJS'), ('schools', 'NNS'), ('and', 'CC'), ('other', 'JJ'), ('buildings', 'NNS'), (',', ','), ('Dr.', 'NNP'), ('Talcott', 'NNP'), ('said', 'VBD'), ('0', '-NONE-'), ('*T*-1', '-NONE-'), ('.', '.')], [('The', 'DT'), ('U.S.', 'NNP'), ('is', 'VBZ'), ('one', 'CD'), ('of', 'IN'), ('the', 'DT'), ('few', 'JJ'), ('industrialized', 'VBN'), ('nations', 'NNS'), ('that', 'WDT'), ('*T*-7', '-NONE-'), ('does', 'VBZ'), (\"n't\", 'RB'), ('have', 'VB'), ('a', 'DT'), ('higher', 'JJR'), ('standard', 'NN'), ('of', 'IN'), ('regulation', 'NN'), ('for', 'IN'), ('the', 'DT'), ('smooth', 'JJ'), (',', ','), ('needle-like', 'JJ'), ('fibers', 'NNS'), ('such', 'JJ'), ('as', 'IN'), ('crocidolite', 'NN'), ('that', 'WDT'), ('*T*-1', '-NONE-'), ('are', 'VBP'), ('classified', 'VBN'), ('*-5', '-NONE-'), ('as', 'IN'), ('amphobiles', 'NNS'), (',', ','), ('according', 'VBG'), ('to', 'TO'), ('Brooke', 'NNP'), ('T.', 'NNP'), ('Mossman', 'NNP'), (',', ','), ('a', 'DT'), ('professor', 'NN'), ('of', 'IN'), ('pathlogy', 'NN'), ('at', 'IN'), ('the', 'DT'), ('University', 'NNP'), ('of', 'IN'), ('Vermont', 'NNP'), ('College', 'NNP'), ('of', 'IN'), ('Medicine', 'NNP'), ('.', '.')], [('More', 'RBR'), ('common', 'JJ'), ('chrysotile', 'NN'), ('fibers', 'NNS'), ('are', 'VBP'), ('curly', 'JJ'), ('and', 'CC'), ('are', 'VBP'), ('more', 'RBR'), ('easily', 'RB'), ('rejected', 'VBN'), ('*-1', '-NONE-'), ('by', 'IN'), ('the', 'DT'), ('body', 'NN'), (',', ','), ('Dr.', 'NNP'), ('Mossman', 'NNP'), ('explained', 'VBD'), ('0', '-NONE-'), ('*T*-2', '-NONE-'), ('.', '.')], [('In', 'IN'), ('July', 'NNP'), (',', ','), ('the', 'DT'), ('Environmental', 'NNP'), ('Protection', 'NNP'), ('Agency', 'NNP'), ('imposed', 'VBD'), ('a', 'DT'), ('gradual', 'JJ'), ('ban', 'NN'), ('on', 'IN'), ('virtually', 'RB'), ('all', 'DT'), ('uses', 'NNS'), ('of', 'IN'), ('asbestos', 'NN'), ('.', '.')], [('By', 'IN'), ('1997', 'CD'), (',', ','), ('almost', 'RB'), ('all', 'DT'), ('remaining', 'VBG'), ('uses', 'NNS'), ('of', 'IN'), ('cancer-causing', 'JJ'), ('asbestos', 'NN'), ('will', 'MD'), ('be', 'VB'), ('outlawed', 'VBN'), ('*-6', '-NONE-'), ('.', '.')], [('About', 'IN'), ('160', 'CD'), ('workers', 'NNS'), ('at', 'IN'), ('a', 'DT'), ('factory', 'NN'), ('that', 'WDT'), ('*T*-8', '-NONE-'), ('made', 'VBD'), ('paper', 'NN'), ('for', 'IN'), ('the', 'DT'), ('Kent', 'NNP'), ('filters', 'NNS'), ('were', 'VBD'), ('exposed', 'VBN'), ('*-7', '-NONE-'), ('to', 'TO'), ('asbestos', 'NN'), ('in', 'IN'), ('the', 'DT'), ('1950s', 'CD'), ('.', '.')], [('Areas', 'NNS'), ('of', 'IN'), ('the', 'DT'), ('factory', 'NN'), ('*ICH*-2', '-NONE-'), ('were', 'VBD'), ('particularly', 'RB'), ('dusty', 'JJ'), ('where', 'WRB'), ('the', 'DT'), ('crocidolite', 'NN'), ('was', 'VBD'), ('used', 'VBN'), ('*-8', '-NONE-'), ('*T*-1', '-NONE-'), ('.', '.')], [('Workers', 'NNS'), ('dumped', 'VBD'), ('large', 'JJ'), ('burlap', 'NN'), ('sacks', 'NNS'), ('of', 'IN'), ('the', 'DT'), ('imported', 'VBN'), ('material', 'NN'), ('into', 'IN'), ('a', 'DT'), ('huge', 'JJ'), ('bin', 'NN'), (',', ','), ('poured', 'VBD'), ('in', 'RP'), ('cotton', 'NN'), ('and', 'CC'), ('acetate', 'NN'), ('fibers', 'NNS'), ('and', 'CC'), ('mechanically', 'RB'), ('mixed', 'VBD'), ('the', 'DT'), ('dry', 'JJ'), ('fibers', 'NNS'), ('in', 'IN'), ('a', 'DT'), ('process', 'NN'), ('used', 'VBN'), ('*', '-NONE-'), ('*', '-NONE-'), ('to', 'TO'), ('make', 'VB'), ('filters', 'NNS'), ('.', '.')], [('Workers', 'NNS'), ('described', 'VBD'), ('``', '``'), ('clouds', 'NNS'), ('of', 'IN'), ('blue', 'JJ'), ('dust', 'NN'), (\"''\", \"''\"), ('that', 'WDT'), ('*T*-1', '-NONE-'), ('hung', 'VBD'), ('over', 'IN'), ('parts', 'NNS'), ('of', 'IN'), ('the', 'DT'), ('factory', 'NN'), (',', ','), ('even', 'RB'), ('though', 'IN'), ('exhaust', 'NN'), ('fans', 'NNS'), ('ventilated', 'VBD'), ('the', 'DT'), ('area', 'NN'), ('.', '.')], [('``', '``'), ('There', 'EX'), (\"'s\", 'VBZ'), ('no', 'DT'), ('question', 'NN'), ('that', 'IN'), ('some', 'DT'), ('of', 'IN'), ('those', 'DT'), ('workers', 'NNS'), ('and', 'CC'), ('managers', 'NNS'), ('contracted', 'VBD'), ('asbestos-related', 'JJ'), ('diseases', 'NNS'), (',', ','), (\"''\", \"''\"), ('said', 'VBD'), ('*T*-1', '-NONE-'), ('Darrell', 'NNP'), ('Phillips', 'NNP'), (',', ','), ('vice', 'NN'), ('president', 'NN'), ('of', 'IN'), ('human', 'JJ'), ('resources', 'NNS'), ('for', 'IN'), ('Hollingsworth', 'NNP'), ('&', 'CC'), ('Vose', 'NNP'), ('.', '.')], [('``', '``'), ('But', 'CC'), ('you', 'PRP'), ('have', 'VBP'), ('*-1', '-NONE-'), ('to', 'TO'), ('recognize', 'VB'), ('that', 'IN'), ('these', 'DT'), ('events', 'NNS'), ('took', 'VBD'), ('place', 'NN'), ('35', 'CD'), ('years', 'NNS'), ('ago', 'IN'), ('.', '.')], [('It', 'PRP'), ('has', 'VBZ'), ('no', 'DT'), ('bearing', 'NN'), ('on', 'IN'), ('our', 'PRP$'), ('work', 'NN'), ('force', 'NN'), ('today', 'NN'), ('.', '.')], [('Yields', 'NNS'), ('on', 'IN'), ('money-market', 'JJ'), ('mutual', 'JJ'), ('funds', 'NNS'), ('continued', 'VBD'), ('*-1', '-NONE-'), ('to', 'TO'), ('slide', 'VB'), (',', ','), ('amid', 'IN'), ('signs', 'NNS'), ('that', 'IN'), ('portfolio', 'NN'), ('managers', 'NNS'), ('expect', 'VBP'), ('further', 'JJ'), ('declines', 'NNS'), ('in', 'IN'), ('interest', 'NN'), ('rates', 'NNS'), ('.', '.')], [('The', 'DT'), ('average', 'JJ'), ('seven-day', 'JJ'), ('compound', 'NN'), ('yield', 'NN'), ('of', 'IN'), ('the', 'DT'), ('400', 'CD'), ('taxable', 'JJ'), ('funds', 'NNS'), ('tracked', 'VBN'), ('*', '-NONE-'), ('by', 'IN'), ('IBC', 'NNP'), (\"'s\", 'POS'), ('Money', 'NNP'), ('Fund', 'NNP'), ('Report', 'NNP'), ('eased', 'VBD'), ('a', 'DT'), ('fraction', 'NN'), ('of', 'IN'), ('a', 'DT'), ('percentage', 'NN'), ('point', 'NN'), ('to', 'TO'), ('8.45', 'CD'), ('%', 'NN'), ('from', 'IN'), ('8.47', 'CD'), ('%', 'NN'), ('for', 'IN'), ('the', 'DT'), ('week', 'NN'), ('ended', 'VBD'), ('Tuesday', 'NNP'), ('.', '.')], [('Compound', 'NN'), ('yields', 'NNS'), ('assume', 'VBP'), ('reinvestment', 'NN'), ('of', 'IN'), ('dividends', 'NNS'), ('and', 'CC'), ('that', 'IN'), ('the', 'DT'), ('current', 'JJ'), ('yield', 'NN'), ('continues', 'VBZ'), ('for', 'IN'), ('a', 'DT'), ('year', 'NN'), ('.', '.')], [('Average', 'JJ'), ('maturity', 'NN'), ('of', 'IN'), ('the', 'DT'), ('funds', 'NNS'), (\"'\", 'POS'), ('investments', 'NNS'), ('lengthened', 'VBD'), ('by', 'IN'), ('a', 'DT'), ('day', 'NN'), ('to', 'TO'), ('41', 'CD'), ('days', 'NNS'), (',', ','), ('the', 'DT'), ('longest', 'JJS'), ('since', 'IN'), ('early', 'JJ'), ('August', 'NNP'), (',', ','), ('according', 'VBG'), ('to', 'TO'), ('Donoghue', 'NNP'), (\"'s\", 'POS'), ('.', '.')], [('Longer', 'JJR'), ('maturities', 'NNS'), ('are', 'VBP'), ('thought', 'VBN'), ('*-1', '-NONE-'), ('to', 'TO'), ('indicate', 'VB'), ('declining', 'VBG'), ('interest', 'NN'), ('rates', 'NNS'), ('because', 'IN'), ('they', 'PRP'), ('permit', 'VBP'), ('portfolio', 'NN'), ('managers', 'NNS'), ('to', 'TO'), ('retain', 'VB'), ('relatively', 'RB'), ('higher', 'JJR'), ('rates', 'NNS'), ('for', 'IN'), ('a', 'DT'), ('longer', 'JJR'), ('period', 'NN'), ('.', '.')], [('Shorter', 'JJR'), ('maturities', 'NNS'), ('are', 'VBP'), ('considered', 'VBN'), ('*-9', '-NONE-'), ('a', 'DT'), ('sign', 'NN'), ('of', 'IN'), ('rising', 'VBG'), ('rates', 'NNS'), ('because', 'IN'), ('portfolio', 'NN'), ('managers', 'NNS'), ('can', 'MD'), ('capture', 'VB'), ('higher', 'JJR'), ('rates', 'NNS'), ('sooner', 'RB'), ('.', '.')], [('The', 'DT'), ('average', 'JJ'), ('maturity', 'NN'), ('for', 'IN'), ('funds', 'NNS'), ('open', 'JJ'), ('only', 'RB'), ('to', 'TO'), ('institutions', 'NNS'), (',', ','), ('considered', 'VBN'), ('by', 'IN'), ('some', 'DT'), ('*', '-NONE-'), ('to', 'TO'), ('be', 'VB'), ('a', 'DT'), ('stronger', 'JJR'), ('indicator', 'NN'), ('because', 'IN'), ('those', 'DT'), ('managers', 'NNS'), ('watch', 'VBP'), ('the', 'DT'), ('market', 'NN'), ('closely', 'RB'), (',', ','), ('reached', 'VBD'), ('a', 'DT'), ('high', 'JJ'), ('point', 'NN'), ('for', 'IN'), ('the', 'DT'), ('year', 'NN'), ('--', ':'), ('33', 'CD'), ('days', 'NNS'), ('.', '.')]]\n"
     ]
    }
   ],
   "source": [
    "# first few tagged sentences\n",
    "print(wsj[:40])"
   ]
  },
  {
   "cell_type": "code",
   "execution_count": 4,
   "id": "eba0efb1-74ff-44f0-af6b-702feeb95fe6",
   "metadata": {},
   "outputs": [
    {
     "name": "stdout",
     "output_type": "stream",
     "text": [
      "2739\n",
      "1175\n",
      "[[('Three', 'CD'), ('divisions', 'NNS'), ('at', 'IN'), ('American', 'NNP'), ('Express', 'NNP'), ('*ICH*-1', '-NONE-'), ('are', 'VBP'), ('working', 'VBG'), ('with', 'IN'), ('Buick', 'NNP'), ('on', 'IN'), ('the', 'DT'), ('promotion', 'NN'), (':', ':'), ('the', 'DT'), ('establishment', 'NN'), ('services', 'NNS'), ('division', 'NN'), (',', ','), ('which', 'WDT'), ('*T*-57', '-NONE-'), ('is', 'VBZ'), ('responsible', 'JJ'), ('for', 'IN'), ('all', 'DT'), ('merchants', 'NNS'), ('and', 'CC'), ('companies', 'NNS'), ('that', 'WDT'), ('*T*-2', '-NONE-'), ('accept', 'VBP'), ('the', 'DT'), ('card', 'NN'), (';', ':'), ('the', 'DT'), ('travel', 'NN'), ('division', 'NN'), (';', ':'), ('and', 'CC'), ('the', 'DT'), ('merchandise', 'NN'), ('sales', 'NNS'), ('division', 'NN'), ('.', '.')], [('Adds', 'VBZ'), ('*ICH*-1', '-NONE-'), ('Mitsui', 'NNP'), (\"'s\", 'POS'), ('Mr.', 'NNP'), ('Klauser', 'NNP'), (':', ':'), ('``', '``'), ('Unlike', 'IN'), ('corporations', 'NNS'), ('in', 'IN'), ('this', 'DT'), ('country', 'NN'), (',', ','), ('trading', 'NN'), ('companies', 'NNS'), ('are', 'VBP'), (\"n't\", 'RB'), ('so', 'RB'), ('much', 'RB'), ('interested', 'JJ'), ('in', 'IN'), ('a', 'DT'), ('high', 'JJ'), ('return', 'NN'), ('on', 'IN'), ('investment', 'NN'), ('as', 'IN'), ('they', 'PRP'), ('are', 'VBP'), ('*?*', '-NONE-'), ('on', 'IN'), ('*', '-NONE-'), ('increasing', 'VBG'), ('trade', 'NN'), ('flows', 'NNS'), ('.', '.')], [('``', '``'), ('We', 'PRP'), (\"'re\", 'VBP'), ('willing', 'JJ'), ('*-2', '-NONE-'), ('to', 'TO'), ('negotiate', 'VB'), (',', ','), (\"''\", \"''\"), ('says', 'VBZ'), ('*T*-1', '-NONE-'), ('Dennis', 'NNP'), ('Gillespie', 'NNP'), (',', ','), ('executive', 'JJ'), ('vice', 'NN'), ('president', 'NN'), ('of', 'IN'), ('marketing', 'VBG'), ('.', '.')], [('To', 'TO'), ('that', 'DT'), ('end', 'NN'), (',', ','), ('American', 'NNP'), ('Express', 'NNP'), ('has', 'VBZ'), ('been', 'VBN'), ('signing', 'VBG'), ('up', 'RP'), ('gasoline', 'NN'), ('companies', 'NNS'), (',', ','), ('car', 'NN'), ('repair', 'NN'), ('shops', 'NNS'), (',', ','), ('tire', 'NN'), ('companies', 'NNS'), ('and', 'CC'), ('car', 'NN'), ('dealers', 'NNS'), ('*-1', '-NONE-'), ('to', 'TO'), ('accept', 'VB'), ('the', 'DT'), ('card', 'NN'), ('.', '.')], [('The', 'DT'), ('Japanese', 'NNS'), ('retort', 'NN'), ('that', 'IN'), ('the', 'DT'), ('first', 'JJ'), ('round', 'NN'), ('was', 'VBD'), ('too', 'RB'), ('early', 'JJ'), ('*', '-NONE-'), ('to', 'TO'), ('make', 'VB'), ('concessions', 'NNS'), ('.', '.')], [('West', 'JJ'), ('German', 'JJ'), ('dealers', 'NNS'), ('said', 'VBD'), ('0', '-NONE-'), ('there', 'EX'), ('was', 'VBD'), ('little', 'JJ'), ('interest', 'NN'), ('in', 'IN'), ('Treasury', 'NNP'), ('bonds', 'NNS'), ('ahead', 'RB'), ('of', 'IN'), ('Thursday', 'NNP'), (\"'s\", 'POS'), ('new', 'JJ'), ('government', 'NN'), ('bond', 'NN'), ('issue', 'NN'), ('.', '.')], [('In', 'IN'), ('both', 'DT'), ('cases', 'NNS'), (',', ','), ('NEC', 'NNP'), ('lost', 'VBD'), ('the', 'DT'), ('contract', 'NN'), ('to', 'TO'), ('Fujitsu', 'NNP'), (',', ','), ('which', 'WDT'), ('*T*-139', '-NONE-'), ('made', 'VBD'), ('the', 'DT'), ('same', 'JJ'), ('bid', 'NN'), ('and', 'CC'), ('won', 'VBD'), ('a', 'DT'), ('tie-breaking', 'JJ'), ('lottery', 'NN'), ('.', '.')], [('In', 'IN'), ('October', 'NNP'), (',', ','), ('before', 'IN'), ('the', 'DT'), ('market', 'NN'), ('dropped', 'VBD'), (',', ','), ('Mrs.', 'NNP'), ('Arighi', 'NNP'), ('of', 'IN'), ('Arnold', 'NNP'), (',', ','), ('Calif.', 'NNP'), (',', ','), ('moved', 'VBD'), ('*-1', '-NONE-'), ('to', 'TO'), ('sell', 'VB'), ('the', 'DT'), ('``', '``'), ('speculative', 'JJ'), ('stocks', 'NNS'), (\"''\", \"''\"), ('in', 'IN'), ('her', 'PRP$'), ('family', 'NN'), ('trust', 'NN'), ('``', '``'), ('so', 'IN'), ('we', 'PRP'), ('will', 'MD'), ('be', 'VB'), ('able', 'JJ'), ('*-2', '-NONE-'), ('to', 'TO'), ('withstand', 'VB'), ('all', 'PDT'), ('this', 'DT'), ('flim-flammery', 'NN'), (\"''\", \"''\"), ('caused', 'VBN'), ('*', '-NONE-'), ('by', 'IN'), ('program', 'NN'), ('trading', 'NN'), ('.', '.')], [('The', 'DT'), ('average', 'JJ'), ('maturity', 'NN'), ('for', 'IN'), ('funds', 'NNS'), ('open', 'JJ'), ('only', 'RB'), ('to', 'TO'), ('institutions', 'NNS'), (',', ','), ('considered', 'VBN'), ('by', 'IN'), ('some', 'DT'), ('*', '-NONE-'), ('to', 'TO'), ('be', 'VB'), ('a', 'DT'), ('stronger', 'JJR'), ('indicator', 'NN'), ('because', 'IN'), ('those', 'DT'), ('managers', 'NNS'), ('watch', 'VBP'), ('the', 'DT'), ('market', 'NN'), ('closely', 'RB'), (',', ','), ('reached', 'VBD'), ('a', 'DT'), ('high', 'JJ'), ('point', 'NN'), ('for', 'IN'), ('the', 'DT'), ('year', 'NN'), ('--', ':'), ('33', 'CD'), ('days', 'NNS'), ('.', '.')], [('Although', 'IN'), ('the', 'DT'), ('purchasing', 'NN'), ('managers', 'NNS'), (\"'\", 'POS'), ('index', 'NN'), ('continues', 'VBZ'), ('*-1', '-NONE-'), ('to', 'TO'), ('indicate', 'VB'), ('a', 'DT'), ('slowing', 'VBG'), ('economy', 'NN'), (',', ','), ('it', 'PRP'), ('is', 'VBZ'), (\"n't\", 'RB'), ('signaling', 'VBG'), ('an', 'DT'), ('imminent', 'JJ'), ('recession', 'NN'), (',', ','), ('said', 'VBD'), ('0', '-NONE-'), ('*T*-2', '-NONE-'), ('Robert', 'NNP'), ('Bretz', 'NNP'), (',', ','), ('chairman', 'NN'), ('of', 'IN'), ('the', 'DT'), ('association', 'NN'), (\"'s\", 'POS'), ('survey', 'NN'), ('committee', 'NN'), ('and', 'CC'), ('director', 'NN'), ('of', 'IN'), ('materials', 'NNS'), ('management', 'NN'), ('at', 'IN'), ('Pitney', 'NNP'), ('Bowes', 'NNP'), ('Inc.', 'NNP'), (',', ','), ('Stamford', 'NNP'), (',', ','), ('Conn', 'NNP'), ('.', '.')], [('``', '``'), ('There', 'EX'), (\"'s\", 'VBZ'), ('a', 'DT'), ('price', 'NN'), ('above', 'IN'), ('which', 'WDT'), ('I', 'PRP'), (\"'m\", 'VBP'), ('positive', 'JJ'), ('0', '-NONE-'), ('Marshall', 'NNP'), ('has', 'VBZ'), ('the', 'DT'), ('courage', 'NN'), ('0', '-NONE-'), ('*', '-NONE-'), ('not', 'RB'), ('to', 'TO'), ('pay', 'VB'), ('*T*-1', '-NONE-'), ('*T*-3', '-NONE-'), (',', ','), (\"''\", \"''\"), ('says', 'VBZ'), ('*T*-2', '-NONE-'), ('A.D.', 'NNP'), ('Correll', 'NNP'), (',', ','), ('Georgia-Pacific', 'NNP'), (\"'s\", 'POS'), ('executive', 'JJ'), ('vice', 'NN'), ('president', 'NN'), ('for', 'IN'), ('pulp', 'NN'), ('and', 'CC'), ('paper', 'NN'), ('.', '.')], [('Some', 'DT'), ('think', 'VBP'), ('0', '-NONE-'), ('Columbia', 'NNP'), (\"'s\", 'POS'), ('thrift', 'NN'), (',', ','), ('which', 'WDT'), ('*T*-1', '-NONE-'), ('now', 'RB'), ('is', 'VBZ'), ('seeking', 'VBG'), ('a', 'DT'), ('new', 'JJ'), ('chief', 'NN'), ('operating', 'VBG'), ('officer', 'NN'), (',', ','), ('might', 'MD'), ('be', 'VB'), ('capitalized', 'VBN'), ('*-3', '-NONE-'), ('at', 'IN'), (',', ','), ('say', 'VB'), ('$', '$'), ('300', 'CD'), ('million', 'CD'), ('*U*', '-NONE-'), (',', ','), ('and', 'CC'), ('shopped', 'VBD'), ('*-3', '-NONE-'), ('to', 'TO'), ('a', 'DT'), ('commercial', 'JJ'), ('bank', 'NN'), ('that', 'WDT'), ('*T*-2', '-NONE-'), ('wants', 'VBZ'), ('a', 'DT'), ('California', 'NNP'), ('presence', 'NN'), ('.', '.')], [('Mr.', 'NNP'), ('Cray', 'NNP'), (',', ','), ('who', 'WP'), ('*T*-1', '-NONE-'), ('could', 'MD'), (\"n't\", 'RB'), ('be', 'VB'), ('reached', 'VBN'), ('*-24', '-NONE-'), ('for', 'IN'), ('comment', 'NN'), (',', ','), ('will', 'MD'), ('work', 'VB'), ('for', 'IN'), ('the', 'DT'), ('new', 'JJ'), ('Colorado', 'NNP'), ('Springs', 'NNPS'), (',', ','), ('Colo.', 'NNP'), (',', ','), ('company', 'NN'), ('as', 'IN'), ('an', 'DT'), ('independent', 'JJ'), ('contractor', 'NN'), ('--', ':'), ('the', 'DT'), ('arrangement', 'NN'), ('0', '-NONE-'), ('he', 'PRP'), ('had', 'VBD'), ('*T*-2', '-NONE-'), ('with', 'IN'), ('Cray', 'NNP'), ('Research', 'NNP'), ('.', '.')], [('The', 'DT'), ('department', 'NN'), ('said', 'VBD'), ('0', '-NONE-'), ('it', 'PRP'), ('referred', 'VBD'), ('the', 'DT'), ('takeover', 'NN'), ('to', 'TO'), ('the', 'DT'), ('Monopolies', 'NNPS'), ('and', 'CC'), ('Mergers', 'NNPS'), ('Commission', 'NNP'), ('because', 'IN'), ('of', 'IN'), ('the', 'DT'), ('purchase', 'NN'), (\"'s\", 'POS'), ('possible', 'JJ'), ('effects', 'NNS'), ('on', 'IN'), ('the', 'DT'), ('U.K.', 'NNP'), ('market', 'NN'), ('for', 'IN'), ('distribution', 'NN'), ('of', 'IN'), ('replacement', 'NN'), ('tires', 'NNS'), ('.', '.')], [('The', 'DT'), ('Army', 'NNP'), ('Corps', 'NNP'), ('is', 'VBZ'), ('cutting', 'VBG'), ('the', 'DT'), ('flow', 'NN'), ('of', 'IN'), ('the', 'DT'), ('Missouri', 'NNP'), ('River', 'NNP'), ('about', 'IN'), ('two', 'CD'), ('weeks', 'NNS'), ('earlier', 'JJR'), ('than', 'IN'), ('normal', 'JJ'), ('because', 'IN'), ('of', 'IN'), ('low', 'JJ'), ('water', 'NN'), ('levels', 'NNS'), ('in', 'IN'), ('the', 'DT'), ('reservoirs', 'NNS'), ('that', 'WDT'), ('*T*-1', '-NONE-'), ('feed', 'VBP'), ('it', 'PRP'), ('.', '.')], [('Its', 'PRP$'), ('net', 'JJ'), ('income', 'NN'), ('for', 'IN'), ('the', 'DT'), ('September', 'NNP'), ('quarter', 'NN'), ('rose', 'VBD'), ('about', 'IN'), ('41', 'CD'), ('%', 'NN'), ('from', 'IN'), ('a', 'DT'), ('year', 'NN'), ('ago', 'IN'), ('.', '.')], [('Most', 'JJS'), ('in', 'IN'), ('demand', 'NN'), (':', ':'), ('classic', 'JJ'), ('photographs', 'NNS'), ('by', 'IN'), ('masters', 'NNS'), ('such', 'JJ'), ('as', 'IN'), ('Stieglitz', 'NNP'), ('and', 'CC'), ('Man', 'NNP'), ('Ray', 'NNP'), ('.', '.')], [('But', 'CC'), ('the', 'DT'), ('administration', 'NN'), (\"'s\", 'POS'), ('handling', 'NN'), ('of', 'IN'), ('the', 'DT'), ('fetal-tissue', 'JJ'), ('transplant', 'NN'), ('issue', 'NN'), ('disturbs', 'VBZ'), ('many', 'JJ'), ('scientists', 'NNS'), ('.', '.')], [('Prices', 'NNS'), ('also', 'RB'), ('were', 'VBD'), ('boosted', 'VBN'), ('*-1', '-NONE-'), ('by', 'IN'), ('another', 'DT'), ('rumor', 'NN'), ('that', 'IN'), ('Mexico', 'NNP'), (',', ','), ('usually', 'RB'), ('a', 'DT'), ('large', 'JJ'), ('producer', 'NN'), ('and', 'CC'), ('exporter', 'NN'), (',', ','), ('might', 'MD'), ('have', 'VB'), ('*-2', '-NONE-'), ('to', 'TO'), ('buy', 'VB'), ('a', 'DT'), ('large', 'JJ'), ('quantity', 'NN'), ('of', 'IN'), ('sugar', 'NN'), ('.', '.')], [('A', 'DT'), ('spokesman', 'NN'), ('for', 'IN'), ('the', 'DT'), ('Toronto', 'NNP'), ('cable', 'NN'), ('television', 'NN'), ('and', 'CC'), ('telecommunications', 'NNS'), ('concern', 'NN'), ('said', 'VBD'), ('0', '-NONE-'), ('the', 'DT'), ('coupon', 'NN'), ('rate', 'NN'), ('has', 'VBZ'), (\"n't\", 'RB'), ('yet', 'RB'), ('been', 'VBN'), ('fixed', 'VBN'), ('*-1', '-NONE-'), (',', ','), ('but', 'CC'), ('will', 'MD'), ('probably', 'RB'), ('be', 'VB'), ('set', 'VBN'), ('*-1', '-NONE-'), ('at', 'IN'), ('around', 'IN'), ('8', 'CD'), ('%', 'NN'), ('.', '.')], [('He', 'PRP'), ('succeeds', 'VBZ'), ('Terrence', 'NNP'), ('D.', 'NNP'), ('Daniels', 'NNP'), (',', ','), ('formerly', 'RB'), ('a', 'DT'), ('W.R.', 'NNP'), ('Grace', 'NNP'), ('vice', 'NN'), ('chairman', 'NN'), (',', ','), ('who', 'WP'), ('*T*-11', '-NONE-'), ('resigned', 'VBD'), ('.', '.')], [('Meanwhile', 'RB'), (',', ','), ('the', 'DT'), ('National', 'NNP'), ('Association', 'NNP'), ('of', 'IN'), ('Purchasing', 'NNP'), ('Management', 'NNP'), ('said', 'VBD'), ('0', '-NONE-'), ('its', 'PRP$'), ('latest', 'JJS'), ('survey', 'NN'), ('indicated', 'VBD'), ('that', 'IN'), ('the', 'DT'), ('manufacturing', 'NN'), ('economy', 'NN'), ('contracted', 'VBD'), ('in', 'IN'), ('October', 'NNP'), ('for', 'IN'), ('the', 'DT'), ('sixth', 'JJ'), ('consecutive', 'JJ'), ('month', 'NN'), ('.', '.')], [('Shearson', 'NNP'), ('``', '``'), ('really', 'RB'), ('only', 'RB'), ('has', 'VBZ'), ('$', '$'), ('300', 'CD'), ('million', 'CD'), ('*U*', '-NONE-'), ('of', 'IN'), ('capital', 'NN'), (',', ','), (\"''\", \"''\"), ('says', 'VBZ'), ('*T*-1', '-NONE-'), ('Mr.', 'NNP'), ('Bowman', 'NNP'), ('of', 'IN'), ('S&P', 'NNP'), ('.', '.')], [('The', 'DT'), ('discussions', 'NNS'), ('are', 'VBP'), ('still', 'RB'), ('in', 'IN'), ('preliminary', 'JJ'), ('stages', 'NNS'), (',', ','), ('and', 'CC'), ('the', 'DT'), ('specific', 'JJ'), ('details', 'NNS'), ('have', 'VBP'), (\"n't\", 'RB'), ('been', 'VBN'), ('worked', 'VBN'), ('*-2', '-NONE-'), ('out', 'RP'), ('between', 'IN'), ('the', 'DT'), ('Seattle', 'NNP'), ('aerospace', 'NN'), ('company', 'NN'), ('and', 'CC'), ('Kawasaki', 'NNP'), ('Heavy', 'NNP'), ('Industries', 'NNP'), ('Ltd.', 'NNP'), (',', ','), ('Mitsubishi', 'NNP'), ('Heavy', 'NNP'), ('Industries', 'NNP'), ('Ltd.', 'NNP'), ('and', 'CC'), ('Fuji', 'NNP'), ('Heavy', 'NNP'), ('Industries', 'NNP'), ('Ltd', 'NNP'), ('.', '.')], [('Grain', 'NN'), ('elevators', 'NNS'), ('built', 'VBN'), ('*', '-NONE-'), ('in', 'IN'), ('the', 'DT'), ('1920s', 'CD'), ('and', 'CC'), (\"'30s\", 'CD'), ('have', 'VBP'), ('six-inch', 'JJ'), ('concrete', 'JJ'), ('walls', 'NNS'), ('and', 'CC'), ('a', 'DT'), ('tubular', 'JJ'), ('shape', 'NN'), ('that', 'WDT'), ('*T*-1', '-NONE-'), ('would', 'MD'), ('easily', 'RB'), ('contain', 'VB'), ('semicircular', 'JJ'), ('cells', 'NNS'), ('with', 'IN'), ('a', 'DT'), ('control', 'NN'), ('point', 'NN'), ('in', 'IN'), ('the', 'DT'), ('middle', 'NN'), (',', ','), ('the', 'DT'), ('New', 'NNP'), ('York', 'NNP'), ('firm', 'NN'), ('says', 'VBZ'), ('0', '-NONE-'), ('*T*-2', '-NONE-'), ('.', '.')], [('The', 'DT'), ('Treasury', 'NNP'), ('said', 'VBD'), ('0', '-NONE-'), ('it', 'PRP'), ('needs', 'VBZ'), ('*-1', '-NONE-'), ('to', 'TO'), ('raise', 'VB'), ('$', '$'), ('47.5', 'CD'), ('billion', 'CD'), ('*U*', '-NONE-'), ('in', 'IN'), ('the', 'DT'), ('current', 'JJ'), ('quarter', 'NN'), ('in', 'IN'), ('order', 'NN'), ('*-1', '-NONE-'), ('to', 'TO'), ('end', 'VB'), ('December', 'NNP'), ('with', 'IN'), ('a', 'DT'), ('$', '$'), ('20', 'CD'), ('billion', 'CD'), ('*U*', '-NONE-'), ('cash', 'NN'), ('balance', 'NN'), ('.', '.')], [('Not', 'RB'), ('this', 'DT'), ('year', 'NN'), ('.', '.')], [('Program', 'NN'), ('trading', 'NN'), ('is', 'VBZ'), ('``', '``'), ('a', 'DT'), ('racket', 'NN'), (',', ','), (\"''\", \"''\"), ('complains', 'VBZ'), ('0', '-NONE-'), ('*T*-1', '-NONE-'), ('Edward', 'NNP'), ('Egnuss', 'NNP'), (',', ','), ('a', 'DT'), ('White', 'NNP'), ('Plains', 'NNP'), (',', ','), ('N.Y.', 'NNP'), (',', ','), ('investor', 'NN'), ('and', 'CC'), ('electronics', 'NNS'), ('sales', 'NNS'), ('executive', 'NN'), (',', ','), ('``', '``'), ('and', 'CC'), ('it', 'PRP'), (\"'s\", 'VBZ'), ('not', 'RB'), ('to', 'TO'), ('the', 'DT'), ('benefit', 'NN'), ('of', 'IN'), ('the', 'DT'), ('small', 'JJ'), ('investor', 'NN'), (',', ','), ('that', 'DT'), (\"'s\", 'VBZ'), ('for', 'IN'), ('sure', 'RB'), ('.', '.'), (\"''\", \"''\")], [('He', 'PRP'), ('said', 'VBD'), ('0', '-NONE-'), ('more', 'RBR'), ('than', 'IN'), ('90', 'CD'), ('%', 'NN'), ('of', 'IN'), ('the', 'DT'), ('funds', 'NNS'), ('were', 'VBD'), ('placed', 'VBN'), ('*-40', '-NONE-'), ('with', 'IN'), ('Japanese', 'JJ'), ('institutional', 'JJ'), ('investors', 'NNS'), ('.', '.')], [('Stocks', 'NNS'), (':', ':'), ('Volume', 'NN'), ('154,240,000', 'CD'), ('shares', 'NNS'), ('.', '.')], [('The', 'DT'), ('following', 'VBG'), ('issues', 'NNS'), ('were', 'VBD'), ('recently', 'RB'), ('filed', 'VBN'), ('*-1', '-NONE-'), ('with', 'IN'), ('the', 'DT'), ('Securities', 'NNPS'), ('and', 'CC'), ('Exchange', 'NNP'), ('Commission', 'NNP'), (':', ':')], [('``', '``'), ('I', 'PRP'), ('do', 'VBP'), ('not', 'RB'), ('want', 'VB'), ('my', 'PRP$'), ('money', 'NN'), ('invested', 'VBN'), ('*-2', '-NONE-'), ('in', 'IN'), ('what', 'WP'), ('I', 'PRP'), ('consider', 'VBP'), ('*T*-3', '-NONE-'), ('as', 'IN'), ('nothing', 'NN'), ('more', 'JJR'), ('than', 'IN'), ('a', 'DT'), ('casino', 'NN'), (',', ','), (\"''\", \"''\"), ('Mr.', 'NNP'), ('Bradley', 'NNP'), ('wrote', 'VBD'), ('*T*-1', '-NONE-'), ('.', '.')], [('Although', 'IN'), ('*-2', '-NONE-'), ('set', 'VBN'), ('*-1', '-NONE-'), ('in', 'IN'), ('Japan', 'NNP'), (',', ','), ('the', 'DT'), ('novel', 'NN'), (\"'s\", 'POS'), ('texture', 'NN'), ('is', 'VBZ'), ('almost', 'RB'), ('entirely', 'RB'), ('Western', 'JJ'), (',', ','), ('especially', 'RB'), ('American', 'JJ'), ('.', '.')], [('It', 'PRP'), ('*EXP*-1', '-NONE-'), ('is', 'VBZ'), (\"n't\", 'RB'), ('clear', 'JJ'), ('how', 'WRB'), ('much', 'JJ'), ('a', 'DT'), ('restructuring', 'NN'), ('would', 'MD'), ('help', 'VB'), ('Columbia', 'NNP'), ('stockholders', 'NNS'), ('*T*-2', '-NONE-'), ('.', '.')], [('In', 'IN'), ('a', 'DT'), ('telephone', 'NN'), ('interview', 'NN'), (',', ','), ('Mr.', 'NNP'), ('Reupke', 'NNP'), ('said', 'VBD'), ('0', '-NONE-'), ('his', 'PRP$'), ('departure', 'NN'), ('was', 'VBD'), ('for', 'IN'), ('``', '``'), ('personal', 'JJ'), ('reasons', 'NNS'), (',', ','), (\"''\", \"''\"), ('which', 'WDT'), ('he', 'PRP'), ('declined', 'VBD'), ('*-2', '-NONE-'), ('to', 'TO'), ('specify', 'VB'), ('*T*-1', '-NONE-'), ('.', '.')], [('But', 'CC'), ('in', 'IN'), ('London', 'NNP'), ('and', 'CC'), ('Tokyo', 'NNP'), (',', ','), ('where', 'WRB'), ('computer-driven', 'JJ'), ('trading', 'NN'), ('now', 'RB'), ('plays', 'VBZ'), ('a', 'DT'), ('small', 'JJ'), ('but', 'CC'), ('growing', 'VBG'), ('role', 'NN'), ('*T*-1', '-NONE-'), (',', ','), ('traders', 'NNS'), ('say', 'VBP'), ('0', '-NONE-'), ('a', 'DT'), ('number', 'NN'), ('of', 'IN'), ('hurdles', 'NNS'), ('loom', 'VBP'), ('.', '.')], [('The', 'DT'), ('company', 'NN'), ('forecast', 'VBD'), ('that', 'IN'), ('fourth-quarter', 'NN'), ('income', 'NN'), ('from', 'IN'), ('continuing', 'VBG'), ('operations', 'NNS'), ('would', 'MD'), ('be', 'VB'), ('``', '``'), ('significantly', 'RB'), (\"''\", \"''\"), ('lower', 'JJR'), ('than', 'IN'), ('a', 'DT'), ('year', 'NN'), ('earlier', 'JJR'), ('.', '.')], [('And', 'CC'), ('in', 'IN'), ('the', 'DT'), ('Chicago', 'NNP'), ('district', 'NN'), (',', ','), ('the', 'DT'), ('report', 'NN'), ('said', 'VBD'), ('0', '-NONE-'), ('*T*-1', '-NONE-'), (',', ','), ('``', '``'), ('a', 'DT'), ('manufacturer', 'NN'), ('of', 'IN'), ('capital', 'NN'), ('goods', 'NNS'), ('noted', 'VBD'), ('slower', 'JJR'), ('orders', 'NNS'), ('for', 'IN'), ('some', 'DT'), ('types', 'NNS'), (',', ','), ('including', 'VBG'), ('defense', 'NN'), ('equipment', 'NN'), (',', ','), ('petroleum', 'NN'), ('equipment', 'NN'), (',', ','), ('food', 'NN'), ('packaging', 'NN'), ('machinery', 'NN'), ('and', 'CC'), ('material', 'NN'), ('handling', 'NN'), ('equipment', 'NN'), ('.', '.'), (\"''\", \"''\")], [('The', 'DT'), ('resulting', 'VBG'), ('company', 'NN'), ('would', 'MD'), ('be', 'VB'), ('the', 'DT'), ('largest', 'JJS'), ('forest-products', 'NNS'), ('concern', 'NN'), ('in', 'IN'), ('the', 'DT'), ('world', 'NN'), ('with', 'IN'), ('combined', 'VBN'), ('sales', 'NNS'), ('of', 'IN'), ('more', 'JJR'), ('than', 'IN'), ('$', '$'), ('13', 'CD'), ('billion', 'CD'), ('*U*', '-NONE-'), ('.', '.')], [('Traders', 'NNS'), ('said', 'VBD'), ('0', '-NONE-'), ('prices', 'NNS'), ('also', 'RB'), ('were', 'VBD'), ('supported', 'VBN'), ('*-1', '-NONE-'), ('by', 'IN'), ('widespread', 'JJ'), ('rumors', 'NNS'), ('that', 'IN'), ('the', 'DT'), ('Soviet', 'NNP'), ('Union', 'NNP'), ('is', 'VBZ'), ('on', 'IN'), ('the', 'DT'), ('verge', 'NN'), ('of', 'IN'), ('*', '-NONE-'), ('receiving', 'VBG'), ('most', 'RBS'), ('favored', 'JJ'), ('nation', 'NN'), ('status', 'NN'), ('from', 'IN'), ('the', 'DT'), ('U.S.', 'NNP'), ('.', '.')]]\n"
     ]
    }
   ],
   "source": [
    "# Splitting into train and test\n",
    "random.seed(1234)\n",
    "train_set, test_set = train_test_split(wsj,test_size=0.3)\n",
    "\n",
    "print(len(train_set))\n",
    "print(len(test_set))\n",
    "print(train_set[:40])"
   ]
  },
  {
   "cell_type": "code",
   "execution_count": 5,
   "id": "0cf8051c-ae22-4dab-b45f-a9a3dc1b1541",
   "metadata": {},
   "outputs": [
    {
     "name": "stdout",
     "output_type": "stream",
     "text": [
      "70514\n"
     ]
    }
   ],
   "source": [
    "# Getting list of tagged words\n",
    "train_tagged_words=[tup for sent in train_set for tup in sent]\n",
    "print(len(train_tagged_words))"
   ]
  },
  {
   "cell_type": "code",
   "execution_count": 6,
   "id": "aa23f2ea-1357-402c-9414-d485d3762fb2",
   "metadata": {},
   "outputs": [
    {
     "data": {
      "text/plain": [
       "['Three',\n",
       " 'divisions',\n",
       " 'at',\n",
       " 'American',\n",
       " 'Express',\n",
       " '*ICH*-1',\n",
       " 'are',\n",
       " 'working',\n",
       " 'with',\n",
       " 'Buick']"
      ]
     },
     "execution_count": 6,
     "metadata": {},
     "output_type": "execute_result"
    }
   ],
   "source": [
    "# tokens \n",
    "tokens = [pair[0] for pair in train_tagged_words]\n",
    "tokens[:10]"
   ]
  },
  {
   "cell_type": "code",
   "execution_count": 7,
   "id": "2f1f10cb-08c3-47be-8945-7071a7416ddc",
   "metadata": {},
   "outputs": [
    {
     "name": "stdout",
     "output_type": "stream",
     "text": [
      "10231\n"
     ]
    }
   ],
   "source": [
    "# vocabulary\n",
    "V = set(tokens)\n",
    "print(len(V))"
   ]
  },
  {
   "cell_type": "code",
   "execution_count": 8,
   "id": "5476af77-a159-4110-aefb-f2f0ce80de44",
   "metadata": {},
   "outputs": [
    {
     "data": {
      "text/plain": [
       "46"
      ]
     },
     "execution_count": 8,
     "metadata": {},
     "output_type": "execute_result"
    }
   ],
   "source": [
    "# number of tags\n",
    "T = set([pair[1] for pair in train_tagged_words])\n",
    "len(T)"
   ]
  },
  {
   "cell_type": "code",
   "execution_count": 9,
   "id": "8d5c1a7d-5110-47f0-87de-d81ea2058946",
   "metadata": {},
   "outputs": [
    {
     "name": "stdout",
     "output_type": "stream",
     "text": [
      "{':', 'NNP', 'MD', 'JJR', 'POS', 'WP$', 'TO', '-LRB-', 'PRP$', 'RBR', 'PDT', 'VBP', 'WP', 'FW', '-RRB-', 'RBS', 'VB', 'LS', 'EX', 'NNS', 'SYM', 'VBD', 'UH', 'VBN', '$', 'VBG', 'JJ', 'NNPS', 'PRP', 'VBZ', 'RB', ',', 'NN', 'IN', '#', 'WRB', 'DT', 'RP', 'WDT', '.', \"''\", '-NONE-', 'CC', 'JJS', '``', 'CD'}\n"
     ]
    }
   ],
   "source": [
    "print(T)"
   ]
  },
  {
   "cell_type": "markdown",
   "id": "a5fab2fb-cd48-4bc3-88ad-c6090c718cf8",
   "metadata": {},
   "source": [
    "## 2. POS Tagging Algorithm - HMM\n",
    "\n",
    "We'll use the HMM algorithm to tag the words. Given a sequence of words to be tagged, the task is to assign the most probable tag to the word. \n",
    "\n",
    "In other words, to every word w, assign the tag t that maximises the likelihood P(t/w). Since P(t/w) = P(w/t). P(t) / P(w), after ignoring P(w), we have to compute P(w/t) and P(t).\n",
    "\n",
    "\n",
    "P(w/t) is basically the probability that given a tag (say NN), what is the probability of it being w (say 'building'). This can be computed by computing the fraction of all NNs which are equal to w, i.e. \n",
    "\n",
    "P(w/t) = count(w, t) / count(t). \n",
    "\n",
    "\n",
    "The term P(t) is the probability of tag t, and in a tagging task, we assume that a tag will depend only on the previous tag. In other words, the probability of a tag being NN will depend only on the previous tag t(n-1). So for e.g. if t(n-1) is a JJ, then t(n) is likely to be an NN since adjectives often precede a noun (blue coat, tall building etc.).\n",
    "\n",
    "\n",
    "Given the penn treebank tagged dataset, we can compute the two terms P(w/t) and P(t) and store them in two large matrices. The matrix of P(w/t) will be sparse, since each word will not be seen with most tags ever, and those terms will thus be zero. \n"
   ]
  },
  {
   "cell_type": "markdown",
   "id": "98cb3b84-3596-427b-9760-93bc65db5918",
   "metadata": {},
   "source": [
    "### Emission Probabilities"
   ]
  },
  {
   "cell_type": "code",
   "execution_count": 10,
   "id": "7d6d5fe4-1b29-4a7d-80a3-e6680dc4f91d",
   "metadata": {},
   "outputs": [],
   "source": [
    "# computing P(w/t) and storing in T x V matrix\n",
    "t = len(T)\n",
    "v = len(V)\n",
    "w_given_t = np.zeros((t, v))"
   ]
  },
  {
   "cell_type": "code",
   "execution_count": 11,
   "id": "6975f7ee-3510-408e-b433-3d5cf172ef72",
   "metadata": {},
   "outputs": [],
   "source": [
    "# compute word given tag: Emission Probability\n",
    "def word_given_tag(word, tag, train_bag = train_tagged_words):\n",
    "    tag_list = [pair for pair in train_bag if pair[1]==tag]\n",
    "    count_tag = len(tag_list)\n",
    "    w_given_tag_list = [pair[0] for pair in tag_list if pair[0]==word]\n",
    "    count_w_given_tag = len(w_given_tag_list)\n",
    "    \n",
    "    return (count_w_given_tag, count_tag)"
   ]
  },
  {
   "cell_type": "code",
   "execution_count": 12,
   "id": "354c4b31-2f3e-464b-9dfb-278f496af9d0",
   "metadata": {},
   "outputs": [
    {
     "name": "stdout",
     "output_type": "stream",
     "text": [
      "\n",
      " large\n",
      "(22, 4087)\n",
      "(0, 1778)\n",
      "(0, 9262) \n",
      "\n",
      "\n",
      " will\n",
      "(197, 655)\n",
      "(0, 9262)\n",
      "(0, 1778)\n",
      "\n",
      " book\n",
      "(4, 9262)\n",
      "(0, 1778)\n"
     ]
    }
   ],
   "source": [
    "# examples\n",
    "\n",
    "# large\n",
    "print(\"\\n\", \"large\")\n",
    "print(word_given_tag('large', 'JJ'))\n",
    "print(word_given_tag('large', 'VB'))\n",
    "print(word_given_tag('large', 'NN'), \"\\n\")\n",
    "\n",
    "# will\n",
    "print(\"\\n\", \"will\")\n",
    "print(word_given_tag('will', 'MD'))\n",
    "print(word_given_tag('will', 'NN'))\n",
    "print(word_given_tag('will', 'VB'))\n",
    "\n",
    "# book\n",
    "print(\"\\n\", \"book\")\n",
    "print(word_given_tag('book', 'NN'))\n",
    "print(word_given_tag('book', 'VB'))"
   ]
  },
  {
   "cell_type": "markdown",
   "id": "474b0532-7558-40d0-9c09-c2f2ec92c45b",
   "metadata": {},
   "source": [
    "### Transition Probabilities"
   ]
  },
  {
   "cell_type": "code",
   "execution_count": 13,
   "id": "3109f4b6-9e9d-4285-a4f0-b9a306519aea",
   "metadata": {},
   "outputs": [],
   "source": [
    "# compute tag given tag: tag2(t2) given tag1 (t1), i.e. Transition Probability\n",
    "\n",
    "def t2_given_t1(t2, t1, train_bag = train_tagged_words):\n",
    "    tags = [pair[1] for pair in train_bag]\n",
    "    count_t1 = len([t for t in tags if t==t1])\n",
    "    count_t2_t1 = 0\n",
    "    for index in range(len(tags)-1):\n",
    "        if tags[index]==t1 and tags[index+1] == t2:\n",
    "            count_t2_t1 += 1\n",
    "    return (count_t2_t1, count_t1)"
   ]
  },
  {
   "cell_type": "code",
   "execution_count": 14,
   "id": "f101e5eb-597a-4cd8-a937-d84581b51fd4",
   "metadata": {},
   "outputs": [
    {
     "name": "stdout",
     "output_type": "stream",
     "text": [
      "(135, 4087)\n",
      "(1816, 4087)\n",
      "(2723, 5756)\n",
      "(67, 1778)\n",
      "(976, 6504)\n",
      "(2, 1200)\n",
      "(6, 6504)\n"
     ]
    }
   ],
   "source": [
    "# examples\n",
    "print(t2_given_t1(t2='NNP', t1='JJ'))\n",
    "print(t2_given_t1('NN', 'JJ'))\n",
    "print(t2_given_t1('NN', 'DT'))\n",
    "print(t2_given_t1('NNP', 'VB'))\n",
    "print(t2_given_t1(',', 'NNP'))\n",
    "print(t2_given_t1('PRP', 'PRP'))\n",
    "print(t2_given_t1('VBG', 'NNP'))"
   ]
  },
  {
   "cell_type": "code",
   "execution_count": 15,
   "id": "d4686bfa-d92e-422e-aee5-f9abb7cadf8f",
   "metadata": {},
   "outputs": [
    {
     "name": "stdout",
     "output_type": "stream",
     "text": [
      "(563, 2710)\n",
      "(10, 2710)\n",
      "(115, 2710)\n",
      "(515, 2710)\n"
     ]
    }
   ],
   "source": [
    "#Please note P(tag|start) is same as P(tag|'.')\n",
    "print(t2_given_t1('DT', '.'))\n",
    "print(t2_given_t1('VBG', '.'))\n",
    "print(t2_given_t1('NN', '.'))\n",
    "print(t2_given_t1('NNP', '.'))\n"
   ]
  },
  {
   "cell_type": "code",
   "execution_count": null,
   "id": "3ffe7a41-7900-4e7d-b57a-e94c6734c1db",
   "metadata": {},
   "outputs": [],
   "source": []
  }
 ],
 "metadata": {
  "kernelspec": {
   "display_name": "Python 3 (ipykernel)",
   "language": "python",
   "name": "python3"
  },
  "language_info": {
   "codemirror_mode": {
    "name": "ipython",
    "version": 3
   },
   "file_extension": ".py",
   "mimetype": "text/x-python",
   "name": "python",
   "nbconvert_exporter": "python",
   "pygments_lexer": "ipython3",
   "version": "3.10.5"
  }
 },
 "nbformat": 4,
 "nbformat_minor": 5
}
